{
 "cells": [
  {
   "cell_type": "code",
   "execution_count": 41,
   "metadata": {},
   "outputs": [],
   "source": [
    "import re\n",
    "import ast\n",
    "import numpy as np\n",
    "from itertools import product\n",
    "\n",
    "def read_file_to_string(file_path):\n",
    "    with open(file_path,'r') as f:\n",
    "        return f.read()\n",
    "    \n",
    "day_10_string = read_file_to_string('day_10_input.txt')\n",
    "day_10_test = read_file_to_string('day_10_test.txt')\n",
    "day_10_test_2 = read_file_to_string('day_10_test_2.txt')\n",
    "day_10_test_3 = read_file_to_string('day_10_test_3.txt')\n",
    "day_10_test_4 = read_file_to_string('day_10_test_4.txt')\n",
    "day_10_test_5 = read_file_to_string('day_10_test_5.txt')"
   ]
  },
  {
   "cell_type": "code",
   "execution_count": 42,
   "metadata": {},
   "outputs": [],
   "source": [
    "def parse_string(string):\n",
    "    day_10 = string.split('\\n')\n",
    "    day_10 = [np.array(list('.'+strin+'.')) for strin in day_10]\n",
    "    day_10 = [np.array(['.' for i in range(len(day_10[0]))])] + day_10 + [np.array(['.' for i in range(len(day_10[0]))])]\n",
    "\n",
    "    return np.array(day_10)"
   ]
  },
  {
   "cell_type": "code",
   "execution_count": 43,
   "metadata": {},
   "outputs": [],
   "source": [
    "day_10_grid = parse_string(day_10_string)\n",
    "day_10_test = parse_string(day_10_test)\n",
    "day_10_test_2 = parse_string(day_10_test_2)\n",
    "day_10_test_3 = parse_string(day_10_test_3)\n",
    "day_10_test_4 = parse_string(day_10_test_4)\n",
    "day_10_test_5 = parse_string(day_10_test_5)"
   ]
  },
  {
   "cell_type": "code",
   "execution_count": 33,
   "metadata": {},
   "outputs": [],
   "source": [
    "def north_connection(grid, index):\n",
    "    i = index[0]\n",
    "    j = index[1]\n",
    "    if grid[i-1,j] in ['|', 'F', '7']:\n",
    "        if grid[i,j] in ['|', 'L', 'J', 'S']:\n",
    "            return True\n",
    "    else:\n",
    "        return False\n",
    "\n",
    "def south_connection(grid,index):\n",
    "    i = index[0]\n",
    "    j = index[1]\n",
    "    if grid[i+1,j] in ['|', 'L', 'J']:\n",
    "        if grid[i,j] in ['|', 'F', '7', 'S']:\n",
    "            return True\n",
    "    else:\n",
    "        return False\n",
    "\n",
    "def west_connection(grid, index):\n",
    "    i = index[0]\n",
    "    j = index[1]\n",
    "    if grid[i,j-1] in ['-', 'F', 'L']:\n",
    "        if grid[index] in ['-', 'J', '7', 'S']:\n",
    "            return True\n",
    "    else:\n",
    "        return False\n",
    "\n",
    "def east_connection(grid, index):\n",
    "    i = index[0]\n",
    "    j = index[1]\n",
    "    if grid[i,j+1] in ['-', 'J', '7']:\n",
    "        if grid[index] in ['-', 'F', 'L', 'S']:\n",
    "            return True\n",
    "    else:\n",
    "        return False"
   ]
  },
  {
   "cell_type": "code",
   "execution_count": 7,
   "metadata": {},
   "outputs": [],
   "source": [
    "def find_start(grid):\n",
    "    for (i,j), elemenet in np.ndenumerate(grid):\n",
    "        if elemenet == 'S':\n",
    "            pipe_map = {}\n",
    "            for k in product(range(-1,2),range(-1,2)):\n",
    "                if (k[0] == 0 or k[1] == 0) and (k[0] != k[1]):\n",
    "                    pipe_map[i+k[0],j+k[1]] = grid[i+k[0],j+k[1]]\n",
    "\n",
    "                if k == (-1,0):\n",
    "                    pipe_map[i+k[0],j+k[1]] = north_connection(grid, (i,j))\n",
    "                elif k == (1,0):\n",
    "                    pipe_map[i+k[0],j+k[1]] = south_connection(grid, (i,j))\n",
    "                elif k == (0,-1):\n",
    "                    pipe_map[i+k[0],j+k[1]] = west_connection(grid, (i,j))\n",
    "                elif k == (0,1):\n",
    "                    pipe_map[i+k[0],j+k[1]] = east_connection(grid, (i,j))\n",
    "\n",
    "            #print(pipe_map)\n",
    "            \n",
    "            if pipe_map[i-1, j] and pipe_map[i+1,j]:\n",
    "                s_pipe = '|'\n",
    "\n",
    "            elif pipe_map[i, j-1] and pipe_map[i,j+1]:\n",
    "                s_pipe = '-'\n",
    "            \n",
    "            elif pipe_map[i-1, j] and pipe_map[i,j+1]:\n",
    "                s_pipe = 'L'\n",
    "\n",
    "            elif pipe_map[i-1, j] and pipe_map[i,j-1]:\n",
    "                s_pipe = 'J'\n",
    "\n",
    "            elif pipe_map[i+1, j] and pipe_map[i,j-1]:\n",
    "                s_pipe = '7'\n",
    "\n",
    "            elif pipe_map[i+1, j] and pipe_map[i,j+1]:\n",
    "                s_pipe = 'F'\n",
    "            \n",
    "                \n",
    "            return (i,j), s_pipe, pipe_map"
   ]
  },
  {
   "cell_type": "code",
   "execution_count": 8,
   "metadata": {},
   "outputs": [],
   "source": [
    "def connections(grid, index):\n",
    "\n",
    "    i = index[0]\n",
    "    j = index[1]\n",
    "\n",
    "    pipe_map = {}\n",
    "    for k in product(range(-1,2),range(-1,2)):\n",
    "        if (k[0] == 0 or k[1] == 0) and (k[0] != k[1]):\n",
    "            pipe_map[i+k[0],j+k[1]] = grid[i+k[0],j+k[1]]\n",
    "\n",
    "        if k == (-1,0):\n",
    "            pipe_map[i+k[0],j+k[1]] = north_connection(grid, (i,j))\n",
    "        elif k == (1,0):\n",
    "            pipe_map[i+k[0],j+k[1]] = south_connection(grid, (i,j))\n",
    "        elif k == (0,-1):\n",
    "            pipe_map[i+k[0],j+k[1]] = west_connection(grid, (i,j))\n",
    "        elif k == (0,1):\n",
    "            pipe_map[i+k[0],j+k[1]] = east_connection(grid, (i,j))\n",
    "\n",
    "    return pipe_map"
   ]
  },
  {
   "cell_type": "code",
   "execution_count": 9,
   "metadata": {},
   "outputs": [
    {
     "data": {
      "text/plain": [
       "{(0, 1): False, (1, 0): False, (1, 2): False, (2, 1): False}"
      ]
     },
     "execution_count": 9,
     "metadata": {},
     "output_type": "execute_result"
    }
   ],
   "source": [
    "connections(day_10_test, (1,1))"
   ]
  },
  {
   "cell_type": "code",
   "execution_count": 10,
   "metadata": {},
   "outputs": [
    {
     "data": {
      "text/plain": [
       "((2, 2), 'F', {(1, 2): False, (2, 1): False, (2, 3): True, (3, 2): True})"
      ]
     },
     "execution_count": 10,
     "metadata": {},
     "output_type": "execute_result"
    }
   ],
   "source": [
    "find_start(day_10_test)"
   ]
  },
  {
   "cell_type": "code",
   "execution_count": 11,
   "metadata": {},
   "outputs": [
    {
     "data": {
      "text/plain": [
       "((3, 1), 'F', {(2, 1): False, (3, 0): False, (3, 2): True, (4, 1): True})"
      ]
     },
     "execution_count": 11,
     "metadata": {},
     "output_type": "execute_result"
    }
   ],
   "source": [
    "find_start(day_10_test_2)"
   ]
  },
  {
   "cell_type": "code",
   "execution_count": 12,
   "metadata": {},
   "outputs": [],
   "source": [
    "#just count how long our path is and then \n",
    "def find_path(grid, start):\n",
    "    #seen_S_before = False\n",
    "    visited = []\n",
    "    path_length = 0\n",
    "    current_spot = start\n",
    "    vis_count = 0\n",
    "    \n",
    "\n",
    "    while vis_count != 2:\n",
    "        #print(current_spot)\n",
    "        #print(visited)\n",
    "        conns = connections(grid,current_spot)\n",
    "        #print(set(conns.values()))\n",
    "        #print(conns)\n",
    "        for k,v in conns.items():\n",
    "            #print(k,v)\n",
    "            vis_count = 0\n",
    "            if v and k not in visited:\n",
    "                current_spot = k\n",
    "                path_length += 1\n",
    "                visited.append(k)\n",
    "                break\n",
    "            elif k == start and path_length not in [0,1] and (list(conns.values()).count(True) == 1):\n",
    "                return path_length, visited\n",
    "\n",
    "    return path_length, visited"
   ]
  },
  {
   "cell_type": "code",
   "execution_count": 13,
   "metadata": {},
   "outputs": [
    {
     "data": {
      "text/plain": [
       "(7, [(2, 3), (2, 4), (3, 4), (4, 4), (4, 3), (4, 2), (3, 2)])"
      ]
     },
     "execution_count": 13,
     "metadata": {},
     "output_type": "execute_result"
    }
   ],
   "source": [
    "find_path(day_10_test, (2,2))\n"
   ]
  },
  {
   "cell_type": "code",
   "execution_count": 14,
   "metadata": {},
   "outputs": [
    {
     "data": {
      "text/plain": [
       "(15,\n",
       " [(3, 2),\n",
       "  (2, 2),\n",
       "  (2, 3),\n",
       "  (1, 3),\n",
       "  (1, 4),\n",
       "  (2, 4),\n",
       "  (3, 4),\n",
       "  (3, 5),\n",
       "  (4, 5),\n",
       "  (4, 4),\n",
       "  (4, 3),\n",
       "  (4, 2),\n",
       "  (5, 2),\n",
       "  (5, 1),\n",
       "  (4, 1)])"
      ]
     },
     "execution_count": 14,
     "metadata": {},
     "output_type": "execute_result"
    }
   ],
   "source": [
    "find_path(day_10_test_2, (3, 1))"
   ]
  },
  {
   "cell_type": "code",
   "execution_count": 39,
   "metadata": {},
   "outputs": [
    {
     "name": "stdout",
     "output_type": "stream",
     "text": [
      "((62, 11), 'J', {(61, 11): True, (62, 10): True, (62, 12): False, (63, 11): False})\n"
     ]
    }
   ],
   "source": [
    "real_start = find_start(day_10_grid)\n",
    "print(real_start)"
   ]
  },
  {
   "cell_type": "code",
   "execution_count": 60,
   "metadata": {},
   "outputs": [],
   "source": [
    "length, visited = find_path(day_10_grid, (62, 11))"
   ]
  },
  {
   "cell_type": "code",
   "execution_count": 73,
   "metadata": {},
   "outputs": [],
   "source": [
    "visited = visited + [(62,11)]"
   ]
  },
  {
   "cell_type": "code",
   "execution_count": 63,
   "metadata": {},
   "outputs": [
    {
     "data": {
      "text/plain": [
       "13513"
      ]
     },
     "execution_count": 63,
     "metadata": {},
     "output_type": "execute_result"
    }
   ],
   "source": [
    "len(visited)"
   ]
  },
  {
   "cell_type": "code",
   "execution_count": 22,
   "metadata": {},
   "outputs": [
    {
     "data": {
      "text/plain": [
       "array(['.', '-', 'L', '|', 'F', '7'], dtype='<U1')"
      ]
     },
     "execution_count": 22,
     "metadata": {},
     "output_type": "execute_result"
    }
   ],
   "source": [
    "day_10_test[1][:-1]"
   ]
  },
  {
   "cell_type": "code",
   "execution_count": 38,
   "metadata": {},
   "outputs": [
    {
     "data": {
      "text/plain": [
       "array([['.', '.', '.', '.', '.', '.', '.', '.', '.', '.', '.', '.', '.',\n",
       "        '.', '.', '.', '.', '.', '.', '.', '.', '.'],\n",
       "       ['.', '.', 'F', '-', '-', '-', '-', '7', 'F', '7', 'F', '7', 'F',\n",
       "        '7', 'F', '-', '7', '.', '.', '.', '.', '.'],\n",
       "       ['.', '.', '|', 'F', '-', '-', '7', '|', '|', '|', '|', '|', '|',\n",
       "        '|', '|', 'F', 'J', '.', '.', '.', '.', '.'],\n",
       "       ['.', '.', '|', '|', '.', 'F', 'J', '|', '|', '|', '|', '|', '|',\n",
       "        '|', '|', 'L', '7', '.', '.', '.', '.', '.'],\n",
       "       ['.', 'F', 'J', 'L', '7', 'L', '7', 'L', 'J', 'L', 'J', '|', '|',\n",
       "        'L', 'J', '.', 'L', '-', '7', '.', '.', '.'],\n",
       "       ['1', '1', '1', '1', '1', '1', '1', '1', '1', '1', '1', '1', '1',\n",
       "        '1', '1', '1', '1', '1', '1', '1', '1', '1'],\n",
       "       ['.', '.', '.', '.', '.', 'F', '-', 'J', '.', '.', 'F', '7', 'F',\n",
       "        'J', '|', 'L', '7', 'L', '7', 'L', '7', '.'],\n",
       "       ['.', '.', '.', '.', '.', 'L', '7', '.', 'F', '7', '|', '|', 'L',\n",
       "        '7', '|', '.', 'L', '7', 'L', '7', '|', '.'],\n",
       "       ['.', '.', '.', '.', '.', '.', '|', 'F', 'J', 'L', 'J', '|', 'F',\n",
       "        'J', '|', 'F', '7', '|', '.', 'L', 'J', '.'],\n",
       "       ['.', '.', '.', '.', '.', 'F', 'J', 'L', '-', '7', '.', '|', '|',\n",
       "        '.', '|', '|', '|', '|', '.', '.', '.', '.'],\n",
       "       ['.', '.', '.', '.', '.', 'L', '-', '-', '-', 'J', '.', 'L', 'J',\n",
       "        '.', 'L', 'J', 'L', 'J', '.', '.', '.', '.'],\n",
       "       ['.', '.', '.', '.', '.', '.', '.', '.', '.', '.', '.', '.', '.',\n",
       "        '.', '.', '.', '.', '.', '.', '.', '.', '.']], dtype='<U1')"
      ]
     },
     "execution_count": 38,
     "metadata": {},
     "output_type": "execute_result"
    }
   ],
   "source": [
    "day_10_test_4"
   ]
  },
  {
   "cell_type": "code",
   "execution_count": 54,
   "metadata": {},
   "outputs": [],
   "source": [
    "def i_or_o(grid, loop_coords):\n",
    "\n",
    "    #start = 0\n",
    "    \n",
    "    I_count = 0\n",
    "\n",
    "    for i in range(1,grid.shape[0]):\n",
    "        #if i in [4,5,6,7]:\n",
    "            #print(grid[i])\n",
    "        start = 0\n",
    "        for j,pipe in enumerate(grid[i][:-1]):\n",
    "            if (i,j) in loop_coords:\n",
    "                #print((i,j))\n",
    "                if pipe in ['|','L','J']:\n",
    "                    #print(\"hello\")\n",
    "                    start = 1 - start\n",
    "                \n",
    "            else:\n",
    "                #if i == 5 and start == 1:\n",
    "                    #print(i,j)\n",
    "                if pipe != 'S':\n",
    "                    I_count += start\n",
    "        #print(I_count)\n",
    "    return I_count"
   ]
  },
  {
   "cell_type": "code",
   "execution_count": 55,
   "metadata": {},
   "outputs": [
    {
     "name": "stdout",
     "output_type": "stream",
     "text": [
      "8\n"
     ]
    }
   ],
   "source": [
    "start = find_start(day_10_test_4)[0]\n",
    "length, test_path_4 = find_path(day_10_test_4, start)\n",
    "#day_10_test_4[start[0]] = start[1]\n",
    "print(i_or_o(day_10_test_4, test_path_4))"
   ]
  },
  {
   "cell_type": "code",
   "execution_count": 231,
   "metadata": {},
   "outputs": [],
   "source": [
    "# elif pipe in ['F', 'L', 'J', '7']:\n",
    "#     if first_corner == None and last_corner == None:\n",
    "#         first_corner = pipe\n",
    "\n",
    "#     elif last_corner == None:\n",
    "#         last_corner = pipe\n",
    "#         if first_corner == 'F' and last_corner == 'J':\n",
    "#             start = 1 - start\n",
    "#         elif first_corner == 'L' and last_corner == '7':\n",
    "#             start = 1 - start\n",
    "\n",
    "#     else:\n",
    "#         first_corner = last_corner\n",
    "#         last_corner = pipe\n",
    "#         if first_corner == 'F' and last_corner == 'J':\n",
    "#             start = 1 - start\n",
    "#         elif first_corner == 'L' and last_corner == '7':\n",
    "#             start = 1 - start"
   ]
  },
  {
   "cell_type": "code",
   "execution_count": 232,
   "metadata": {},
   "outputs": [],
   "source": [
    "test_path_length, test_path = find_path(day_10_test, (2,2))"
   ]
  },
  {
   "cell_type": "code",
   "execution_count": 26,
   "metadata": {},
   "outputs": [
    {
     "data": {
      "text/plain": [
       "(5, 13)"
      ]
     },
     "execution_count": 26,
     "metadata": {},
     "output_type": "execute_result"
    }
   ],
   "source": [
    "find_start(day_10_test_4)[0]"
   ]
  },
  {
   "cell_type": "code",
   "execution_count": 56,
   "metadata": {},
   "outputs": [
    {
     "name": "stdout",
     "output_type": "stream",
     "text": [
      "10\n",
      "4\n"
     ]
    }
   ],
   "source": [
    "start = find_start(day_10_test_3)[0]\n",
    "length, test_path_3 = find_path(day_10_test_3, start)\n",
    "\n",
    "print(i_or_o(day_10_test_3, test_path_3))\n",
    "\n",
    "#this one is wrong, it's one over!\n",
    "\n",
    "\n",
    "start = find_start(day_10_test_5)[0]\n",
    "length, test_path_5 = find_path(day_10_test_5, start)\n",
    "\n",
    "print(i_or_o(day_10_test_5, test_path_5))"
   ]
  },
  {
   "cell_type": "code",
   "execution_count": 69,
   "metadata": {},
   "outputs": [
    {
     "name": "stdout",
     "output_type": "stream",
     "text": [
      "((62, 11), 'J', {(61, 11): True, (62, 10): True, (62, 12): False, (63, 11): False})\n"
     ]
    }
   ],
   "source": [
    "print(real_start)"
   ]
  },
  {
   "cell_type": "code",
   "execution_count": 74,
   "metadata": {},
   "outputs": [
    {
     "data": {
      "text/plain": [
       "523"
      ]
     },
     "execution_count": 74,
     "metadata": {},
     "output_type": "execute_result"
    }
   ],
   "source": [
    "#522 is too low\n",
    "#1573 too high\n",
    "#3384 is too high\n",
    "#day_10_grid[real_start[0]] = real_start[1]\n",
    "\n",
    "i_or_o(day_10_grid, visited)"
   ]
  },
  {
   "cell_type": "code",
   "execution_count": 71,
   "metadata": {},
   "outputs": [
    {
     "data": {
      "text/plain": [
       "(array([], dtype=int64), array([], dtype=int64))"
      ]
     },
     "execution_count": 71,
     "metadata": {},
     "output_type": "execute_result"
    }
   ],
   "source": [
    "day_10_grid[62,11] = 'J'\n",
    "\n",
    "np.where(day_10_grid == 'S')"
   ]
  },
  {
   "cell_type": "code",
   "execution_count": null,
   "metadata": {},
   "outputs": [],
   "source": []
  }
 ],
 "metadata": {
  "kernelspec": {
   "display_name": "Python 3",
   "language": "python",
   "name": "python3"
  },
  "language_info": {
   "codemirror_mode": {
    "name": "ipython",
    "version": 3
   },
   "file_extension": ".py",
   "mimetype": "text/x-python",
   "name": "python",
   "nbconvert_exporter": "python",
   "pygments_lexer": "ipython3",
   "version": "3.9.13"
  },
  "orig_nbformat": 4
 },
 "nbformat": 4,
 "nbformat_minor": 2
}
