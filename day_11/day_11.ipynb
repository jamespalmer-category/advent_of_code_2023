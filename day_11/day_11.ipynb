{
 "cells": [
  {
   "cell_type": "code",
   "execution_count": 71,
   "metadata": {},
   "outputs": [],
   "source": [
    "import re\n",
    "import ast\n",
    "import numpy as np\n",
    "from itertools import product\n",
    "\n",
    "def read_file_to_string(file_path):\n",
    "    with open(file_path,'r') as f:\n",
    "        return f.read()\n",
    "    \n",
    "day_11_string = read_file_to_string('day_11_input.txt')\n",
    "day_11_test = read_file_to_string('day_11_test.txt')\n",
    "# day_11_test_2 = read_file_to_string('day_11_test_2.txt')\n",
    "# day_11_test_3 = read_file_to_string('day_11_test_3.txt')\n",
    "# day_11_test_4 = read_file_to_string('day_11_test_4.txt')\n",
    "# day_11_test_5 = read_file_to_string('day_11_test_5.txt')"
   ]
  },
  {
   "cell_type": "code",
   "execution_count": 72,
   "metadata": {},
   "outputs": [],
   "source": [
    "def duplicate_rows(grid):\n",
    "\n",
    "    rows_to_dupe = []\n",
    "    for i in range(len(grid)):\n",
    "        if set(grid[i]) == set(['.']):\n",
    "            rows_to_dupe.append(i)\n",
    "\n",
    "    rows_to_dupe.reverse()\n",
    "    \n",
    "    for i in rows_to_dupe:\n",
    "        grid = grid[:i] + [np.array(['.' for i in range(len(grid[i]))])] + grid[i:]\n",
    "\n",
    "    return grid"
   ]
  },
  {
   "cell_type": "code",
   "execution_count": 73,
   "metadata": {},
   "outputs": [],
   "source": [
    "def duplicate_columns(grid):\n",
    "\n",
    "    grid = np.array(grid).T\n",
    "    grid = list(grid)\n",
    "\n",
    "    cols_to_dupe = []\n",
    "    for i in range(len(grid)):\n",
    "        if set(grid[i]) == set(['.']):\n",
    "            cols_to_dupe.append(i)\n",
    "\n",
    "    #print(cols_to_dupe)\n",
    "\n",
    "    cols_to_dupe.reverse()\n",
    "    \n",
    "    for i in cols_to_dupe:\n",
    "        grid = grid[:i] + [np.array(['.' for i in range(len(grid[i]))])] + grid[i:]\n",
    "\n",
    "    grid = np.array(grid).T\n",
    "\n",
    "    return grid"
   ]
  },
  {
   "cell_type": "code",
   "execution_count": 74,
   "metadata": {},
   "outputs": [],
   "source": [
    "def parse_string(string):\n",
    "    day_11 = string.split(\"\\n\")\n",
    "\n",
    "\n",
    "\n",
    "    day_11 = [np.array(list('.'+strin+'.')) for strin in day_11]\n",
    "    day_11 = duplicate_rows(day_11)\n",
    "\n",
    "    day_11 = list(duplicate_columns(day_11))\n",
    "\n",
    "\n",
    "    day_11 = [np.array(['.' for i in range(len(day_11[0]))])] + day_11 + [np.array(['.' for i in range(len(day_11[0]))])]\n",
    "\n",
    "    return np.array(day_11)"
   ]
  },
  {
   "cell_type": "code",
   "execution_count": 91,
   "metadata": {},
   "outputs": [],
   "source": [
    "day_11_grid = parse_string(day_11_string)"
   ]
  },
  {
   "cell_type": "code",
   "execution_count": 75,
   "metadata": {},
   "outputs": [],
   "source": [
    "day_11_test = parse_string(day_11_test)"
   ]
  },
  {
   "cell_type": "code",
   "execution_count": 76,
   "metadata": {},
   "outputs": [
    {
     "name": "stdout",
     "output_type": "stream",
     "text": [
      "[['.' '.' '.' '.' '.' '.' '.' '.' '.' '.' '.' '.' '.' '.' '.' '.' '.']\n",
      " ['.' '.' '.' '.' '.' '.' '#' '.' '.' '.' '.' '.' '.' '.' '.' '.' '.']\n",
      " ['.' '.' '.' '.' '.' '.' '.' '.' '.' '.' '.' '#' '.' '.' '.' '.' '.']\n",
      " ['.' '.' '#' '.' '.' '.' '.' '.' '.' '.' '.' '.' '.' '.' '.' '.' '.']\n",
      " ['.' '.' '.' '.' '.' '.' '.' '.' '.' '.' '.' '.' '.' '.' '.' '.' '.']\n",
      " ['.' '.' '.' '.' '.' '.' '.' '.' '.' '.' '.' '.' '.' '.' '.' '.' '.']\n",
      " ['.' '.' '.' '.' '.' '.' '.' '.' '.' '.' '#' '.' '.' '.' '.' '.' '.']\n",
      " ['.' '.' '.' '#' '.' '.' '.' '.' '.' '.' '.' '.' '.' '.' '.' '.' '.']\n",
      " ['.' '.' '.' '.' '.' '.' '.' '.' '.' '.' '.' '.' '.' '.' '#' '.' '.']\n",
      " ['.' '.' '.' '.' '.' '.' '.' '.' '.' '.' '.' '.' '.' '.' '.' '.' '.']\n",
      " ['.' '.' '.' '.' '.' '.' '.' '.' '.' '.' '.' '.' '.' '.' '.' '.' '.']\n",
      " ['.' '.' '.' '.' '.' '.' '.' '.' '.' '.' '.' '#' '.' '.' '.' '.' '.']\n",
      " ['.' '.' '#' '.' '.' '.' '.' '#' '.' '.' '.' '.' '.' '.' '.' '.' '.']\n",
      " ['.' '.' '.' '.' '.' '.' '.' '.' '.' '.' '.' '.' '.' '.' '.' '.' '.']]\n"
     ]
    }
   ],
   "source": [
    "print(day_11_test)"
   ]
  },
  {
   "cell_type": "code",
   "execution_count": 78,
   "metadata": {},
   "outputs": [
    {
     "name": "stdout",
     "output_type": "stream",
     "text": [
      "['.' '.' '.' '.' '.' '.' '.' '.' '.' '.' '.' '.' '.' '.' '.' '.' '.']\n"
     ]
    }
   ],
   "source": [
    "print(day_11_test[0])"
   ]
  },
  {
   "cell_type": "code",
   "execution_count": 89,
   "metadata": {},
   "outputs": [],
   "source": [
    "def pairwise_distances(grid):\n",
    "\n",
    "    locations = np.where(grid=='#')\n",
    "\n",
    "    sum_ = 0\n",
    "\n",
    "    for i in range(len(locations[0])):\n",
    "        for j in range(i, len(locations[0])):\n",
    "\n",
    "            sum_ += abs(locations[0][j]-locations[0][i]) + abs(locations[1][j]-locations[1][i])\n",
    "\n",
    "    return sum_\n"
   ]
  },
  {
   "cell_type": "code",
   "execution_count": 90,
   "metadata": {},
   "outputs": [
    {
     "data": {
      "text/plain": [
       "374"
      ]
     },
     "execution_count": 90,
     "metadata": {},
     "output_type": "execute_result"
    }
   ],
   "source": [
    "pairwise_distances(day_11_test)"
   ]
  },
  {
   "cell_type": "code",
   "execution_count": 92,
   "metadata": {},
   "outputs": [
    {
     "data": {
      "text/plain": [
       "9648398"
      ]
     },
     "execution_count": 92,
     "metadata": {},
     "output_type": "execute_result"
    }
   ],
   "source": [
    "pairwise_distances(day_11_grid)"
   ]
  },
  {
   "cell_type": "markdown",
   "metadata": {},
   "source": [
    "## Part 2"
   ]
  },
  {
   "cell_type": "code",
   "execution_count": 93,
   "metadata": {},
   "outputs": [],
   "source": [
    "def parse_string_2(string):\n",
    "    day_11 = string.split(\"\\n\")\n",
    "\n",
    "\n",
    "\n",
    "    day_11 = [np.array(list('.'+strin+'.')) for strin in day_11]\n",
    "    #day_11 = duplicate_rows(day_11)\n",
    "\n",
    "    #day_11 = list(duplicate_columns(day_11))\n",
    "\n",
    "\n",
    "    day_11 = [np.array(['.' for i in range(len(day_11[0]))])] + day_11 + [np.array(['.' for i in range(len(day_11[0]))])]\n",
    "\n",
    "    return np.array(day_11)"
   ]
  },
  {
   "cell_type": "code",
   "execution_count": 94,
   "metadata": {},
   "outputs": [],
   "source": [
    "day_11_grid_2 = parse_string(day_11_string)"
   ]
  },
  {
   "cell_type": "code",
   "execution_count": 95,
   "metadata": {},
   "outputs": [],
   "source": [
    "def locate_empty_rows(grid):\n",
    "\n",
    "    empty_rows = []\n",
    "\n",
    "    for i in range(grid.shape[0]):\n",
    "        if set(grid[i]) == set(['.']):\n",
    "            empty_rows.append(i)\n",
    "\n",
    "    return empty_rows\n"
   ]
  },
  {
   "cell_type": "code",
   "execution_count": null,
   "metadata": {},
   "outputs": [],
   "source": [
    "def locate_empty_cols(grid):\n",
    "    "
   ]
  }
 ],
 "metadata": {
  "kernelspec": {
   "display_name": "Python 3",
   "language": "python",
   "name": "python3"
  },
  "language_info": {
   "codemirror_mode": {
    "name": "ipython",
    "version": 3
   },
   "file_extension": ".py",
   "mimetype": "text/x-python",
   "name": "python",
   "nbconvert_exporter": "python",
   "pygments_lexer": "ipython3",
   "version": "3.9.13"
  },
  "orig_nbformat": 4
 },
 "nbformat": 4,
 "nbformat_minor": 2
}
