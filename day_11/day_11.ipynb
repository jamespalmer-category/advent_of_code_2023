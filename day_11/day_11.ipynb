{
 "cells": [
  {
   "cell_type": "code",
   "execution_count": 97,
   "metadata": {},
   "outputs": [],
   "source": [
    "import re\n",
    "import ast\n",
    "import numpy as np\n",
    "from itertools import product\n",
    "\n",
    "def read_file_to_string(file_path):\n",
    "    with open(file_path,'r') as f:\n",
    "        return f.read()\n",
    "    \n",
    "day_11_string = read_file_to_string('day_11_input.txt')\n",
    "day_11_test = read_file_to_string('day_11_test.txt')\n",
    "# day_11_test_2 = read_file_to_string('day_11_test_2.txt')\n",
    "# day_11_test_3 = read_file_to_string('day_11_test_3.txt')\n",
    "# day_11_test_4 = read_file_to_string('day_11_test_4.txt')\n",
    "# day_11_test_5 = read_file_to_string('day_11_test_5.txt')"
   ]
  },
  {
   "cell_type": "code",
   "execution_count": 72,
   "metadata": {},
   "outputs": [],
   "source": [
    "def duplicate_rows(grid):\n",
    "\n",
    "    rows_to_dupe = []\n",
    "    for i in range(len(grid)):\n",
    "        if set(grid[i]) == set(['.']):\n",
    "            rows_to_dupe.append(i)\n",
    "\n",
    "    rows_to_dupe.reverse()\n",
    "    \n",
    "    for i in rows_to_dupe:\n",
    "        grid = grid[:i] + [np.array(['.' for i in range(len(grid[i]))])] + grid[i:]\n",
    "\n",
    "    return grid"
   ]
  },
  {
   "cell_type": "code",
   "execution_count": 73,
   "metadata": {},
   "outputs": [],
   "source": [
    "def duplicate_columns(grid):\n",
    "\n",
    "    grid = np.array(grid).T\n",
    "    grid = list(grid)\n",
    "\n",
    "    cols_to_dupe = []\n",
    "    for i in range(len(grid)):\n",
    "        if set(grid[i]) == set(['.']):\n",
    "            cols_to_dupe.append(i)\n",
    "\n",
    "    #print(cols_to_dupe)\n",
    "\n",
    "    cols_to_dupe.reverse()\n",
    "    \n",
    "    for i in cols_to_dupe:\n",
    "        grid = grid[:i] + [np.array(['.' for i in range(len(grid[i]))])] + grid[i:]\n",
    "\n",
    "    grid = np.array(grid).T\n",
    "\n",
    "    return grid"
   ]
  },
  {
   "cell_type": "code",
   "execution_count": 74,
   "metadata": {},
   "outputs": [],
   "source": [
    "def parse_string(string):\n",
    "    day_11 = string.split(\"\\n\")\n",
    "\n",
    "\n",
    "\n",
    "    day_11 = [np.array(list('.'+strin+'.')) for strin in day_11]\n",
    "    day_11 = duplicate_rows(day_11)\n",
    "\n",
    "    day_11 = list(duplicate_columns(day_11))\n",
    "\n",
    "\n",
    "    day_11 = [np.array(['.' for i in range(len(day_11[0]))])] + day_11 + [np.array(['.' for i in range(len(day_11[0]))])]\n",
    "\n",
    "    return np.array(day_11)"
   ]
  },
  {
   "cell_type": "code",
   "execution_count": 91,
   "metadata": {},
   "outputs": [],
   "source": [
    "day_11_grid = parse_string(day_11_string)"
   ]
  },
  {
   "cell_type": "code",
   "execution_count": 98,
   "metadata": {},
   "outputs": [],
   "source": [
    "day_11_test_grid = parse_string(day_11_test)"
   ]
  },
  {
   "cell_type": "code",
   "execution_count": 76,
   "metadata": {},
   "outputs": [
    {
     "name": "stdout",
     "output_type": "stream",
     "text": [
      "[['.' '.' '.' '.' '.' '.' '.' '.' '.' '.' '.' '.' '.' '.' '.' '.' '.']\n",
      " ['.' '.' '.' '.' '.' '.' '#' '.' '.' '.' '.' '.' '.' '.' '.' '.' '.']\n",
      " ['.' '.' '.' '.' '.' '.' '.' '.' '.' '.' '.' '#' '.' '.' '.' '.' '.']\n",
      " ['.' '.' '#' '.' '.' '.' '.' '.' '.' '.' '.' '.' '.' '.' '.' '.' '.']\n",
      " ['.' '.' '.' '.' '.' '.' '.' '.' '.' '.' '.' '.' '.' '.' '.' '.' '.']\n",
      " ['.' '.' '.' '.' '.' '.' '.' '.' '.' '.' '.' '.' '.' '.' '.' '.' '.']\n",
      " ['.' '.' '.' '.' '.' '.' '.' '.' '.' '.' '#' '.' '.' '.' '.' '.' '.']\n",
      " ['.' '.' '.' '#' '.' '.' '.' '.' '.' '.' '.' '.' '.' '.' '.' '.' '.']\n",
      " ['.' '.' '.' '.' '.' '.' '.' '.' '.' '.' '.' '.' '.' '.' '#' '.' '.']\n",
      " ['.' '.' '.' '.' '.' '.' '.' '.' '.' '.' '.' '.' '.' '.' '.' '.' '.']\n",
      " ['.' '.' '.' '.' '.' '.' '.' '.' '.' '.' '.' '.' '.' '.' '.' '.' '.']\n",
      " ['.' '.' '.' '.' '.' '.' '.' '.' '.' '.' '.' '#' '.' '.' '.' '.' '.']\n",
      " ['.' '.' '#' '.' '.' '.' '.' '#' '.' '.' '.' '.' '.' '.' '.' '.' '.']\n",
      " ['.' '.' '.' '.' '.' '.' '.' '.' '.' '.' '.' '.' '.' '.' '.' '.' '.']]\n"
     ]
    }
   ],
   "source": [
    "print(day_11_test)"
   ]
  },
  {
   "cell_type": "code",
   "execution_count": 78,
   "metadata": {},
   "outputs": [
    {
     "name": "stdout",
     "output_type": "stream",
     "text": [
      "['.' '.' '.' '.' '.' '.' '.' '.' '.' '.' '.' '.' '.' '.' '.' '.' '.']\n"
     ]
    }
   ],
   "source": [
    "print(day_11_test[0])"
   ]
  },
  {
   "cell_type": "code",
   "execution_count": 89,
   "metadata": {},
   "outputs": [],
   "source": [
    "def pairwise_distances(grid):\n",
    "\n",
    "    locations = np.where(grid=='#')\n",
    "\n",
    "    sum_ = 0\n",
    "\n",
    "    for i in range(len(locations[0])):\n",
    "        for j in range(i, len(locations[0])):\n",
    "\n",
    "            sum_ += abs(locations[0][j]-locations[0][i]) + abs(locations[1][j]-locations[1][i])\n",
    "\n",
    "    return sum_\n"
   ]
  },
  {
   "cell_type": "code",
   "execution_count": 90,
   "metadata": {},
   "outputs": [
    {
     "data": {
      "text/plain": [
       "374"
      ]
     },
     "execution_count": 90,
     "metadata": {},
     "output_type": "execute_result"
    }
   ],
   "source": [
    "pairwise_distances(day_11_test)"
   ]
  },
  {
   "cell_type": "code",
   "execution_count": 92,
   "metadata": {},
   "outputs": [
    {
     "data": {
      "text/plain": [
       "9648398"
      ]
     },
     "execution_count": 92,
     "metadata": {},
     "output_type": "execute_result"
    }
   ],
   "source": [
    "pairwise_distances(day_11_grid)"
   ]
  },
  {
   "cell_type": "markdown",
   "metadata": {},
   "source": [
    "## Part 2"
   ]
  },
  {
   "cell_type": "code",
   "execution_count": 154,
   "metadata": {},
   "outputs": [],
   "source": [
    "def parse_string_2(string):\n",
    "    day_11 = string.split(\"\\n\")\n",
    "\n",
    "\n",
    "\n",
    "    day_11 = [np.array(list(strin)) for strin in day_11]\n",
    "    #day_11 = duplicate_rows(day_11)\n",
    "\n",
    "    #day_11 = list(duplicate_columns(day_11))\n",
    "\n",
    "    return np.array(day_11)"
   ]
  },
  {
   "cell_type": "code",
   "execution_count": 122,
   "metadata": {},
   "outputs": [],
   "source": [
    "day_11_test_grid_2 = parse_string_2(day_11_test)"
   ]
  },
  {
   "cell_type": "code",
   "execution_count": 123,
   "metadata": {},
   "outputs": [
    {
     "name": "stdout",
     "output_type": "stream",
     "text": [
      "[['.' '.' '.' '#' '.' '.' '.' '.' '.' '.']\n",
      " ['.' '.' '.' '.' '.' '.' '.' '#' '.' '.']\n",
      " ['#' '.' '.' '.' '.' '.' '.' '.' '.' '.']\n",
      " ['.' '.' '.' '.' '.' '.' '.' '.' '.' '.']\n",
      " ['.' '.' '.' '.' '.' '.' '#' '.' '.' '.']\n",
      " ['.' '#' '.' '.' '.' '.' '.' '.' '.' '.']\n",
      " ['.' '.' '.' '.' '.' '.' '.' '.' '.' '#']\n",
      " ['.' '.' '.' '.' '.' '.' '.' '.' '.' '.']\n",
      " ['.' '.' '.' '.' '.' '.' '.' '#' '.' '.']\n",
      " ['#' '.' '.' '.' '#' '.' '.' '.' '.' '.']]\n"
     ]
    }
   ],
   "source": [
    "print(day_11_test_grid_2)"
   ]
  },
  {
   "cell_type": "code",
   "execution_count": 155,
   "metadata": {},
   "outputs": [],
   "source": [
    "day_11_grid_2 = parse_string_2(day_11_string)"
   ]
  },
  {
   "cell_type": "code",
   "execution_count": 156,
   "metadata": {},
   "outputs": [
    {
     "data": {
      "text/plain": [
       "array(['.', '.', '.', '.', '.', '.', '.', '.', '.', '.', '.', '.', '.',\n",
       "       '.', '.', '.', '.', '.', '.', '.', '.', '.', '.', '.', '.', '.',\n",
       "       '.', '.', '.', '.', '.', '.', '.', '.', '.', '.', '.', '.', '.',\n",
       "       '.', '.', '.', '.', '.', '.', '.', '.', '.', '.', '.', '.', '.',\n",
       "       '.', '.', '.', '.', '.', '.', '.', '.', '.', '.', '.', '.', '.',\n",
       "       '.', '.', '.', '.', '.', '.', '.', '.', '.', '.', '.', '.', '.',\n",
       "       '.', '.', '.', '.', '.', '.', '.', '.', '.', '.', '.', '.', '.',\n",
       "       '.', '.', '.', '.', '.', '.', '.', '.', '.', '.', '.', '.', '.',\n",
       "       '.', '.', '.', '.', '.', '.', '.', '.', '.', '.', '.', '.', '.',\n",
       "       '.', '.', '.', '.', '.', '.', '.', '.', '.', '.', '.', '.', '.',\n",
       "       '.', '.', '.', '.', '.', '.', '.', '.', '.', '.'], dtype='<U1')"
      ]
     },
     "execution_count": 156,
     "metadata": {},
     "output_type": "execute_result"
    }
   ],
   "source": [
    "day_11_grid_2[51]"
   ]
  },
  {
   "cell_type": "code",
   "execution_count": 157,
   "metadata": {},
   "outputs": [],
   "source": [
    "def locate_empty_rows(grid):\n",
    "\n",
    "    empty_rows = []\n",
    "\n",
    "    for i in range(grid.shape[0]):\n",
    "        if np.array_equal(np.unique(grid[i]),np.array(['.'])):\n",
    "            empty_rows.append(i)\n",
    "\n",
    "    return empty_rows\n",
    "\n",
    "def locate_empty_cols(grid):\n",
    "\n",
    "    grid = grid.T\n",
    "    \n",
    "    empty_cols = []\n",
    "\n",
    "    for i in range(grid.shape[0]):\n",
    "        if np.array_equal(np.unique(grid[i]),np.array(['.'])):\n",
    "            empty_cols.append(i)\n",
    "\n",
    "    return empty_cols"
   ]
  },
  {
   "cell_type": "code",
   "execution_count": 127,
   "metadata": {},
   "outputs": [
    {
     "data": {
      "text/plain": [
       "[3, 7]"
      ]
     },
     "execution_count": 127,
     "metadata": {},
     "output_type": "execute_result"
    }
   ],
   "source": [
    "locate_empty_rows(day_11_test_grid_2)"
   ]
  },
  {
   "cell_type": "code",
   "execution_count": 129,
   "metadata": {},
   "outputs": [
    {
     "data": {
      "text/plain": [
       "[2, 5, 8]"
      ]
     },
     "execution_count": 129,
     "metadata": {},
     "output_type": "execute_result"
    }
   ],
   "source": [
    "locate_empty_cols(day_11_test_grid_2)"
   ]
  },
  {
   "cell_type": "code",
   "execution_count": 131,
   "metadata": {},
   "outputs": [
    {
     "data": {
      "text/plain": [
       "(array([0, 1, 2, 4, 5, 6, 8, 9, 9], dtype=int64),\n",
       " array([3, 7, 0, 6, 1, 9, 7, 0, 4], dtype=int64))"
      ]
     },
     "execution_count": 131,
     "metadata": {},
     "output_type": "execute_result"
    }
   ],
   "source": [
    "np.where(day_11_test_grid_2=='#')"
   ]
  },
  {
   "cell_type": "code",
   "execution_count": 130,
   "metadata": {},
   "outputs": [
    {
     "data": {
      "text/plain": [
       "array([['.', '.', '.', '#', '.', '.', '.', '.', '.', '.'],\n",
       "       ['.', '.', '.', '.', '.', '.', '.', '#', '.', '.'],\n",
       "       ['#', '.', '.', '.', '.', '.', '.', '.', '.', '.'],\n",
       "       ['.', '.', '.', '.', '.', '.', '.', '.', '.', '.'],\n",
       "       ['.', '.', '.', '.', '.', '.', '#', '.', '.', '.'],\n",
       "       ['.', '#', '.', '.', '.', '.', '.', '.', '.', '.'],\n",
       "       ['.', '.', '.', '.', '.', '.', '.', '.', '.', '#'],\n",
       "       ['.', '.', '.', '.', '.', '.', '.', '.', '.', '.'],\n",
       "       ['.', '.', '.', '.', '.', '.', '.', '#', '.', '.'],\n",
       "       ['#', '.', '.', '.', '#', '.', '.', '.', '.', '.']], dtype='<U1')"
      ]
     },
     "execution_count": 130,
     "metadata": {},
     "output_type": "execute_result"
    }
   ],
   "source": [
    "day_11_test_grid_2"
   ]
  },
  {
   "cell_type": "code",
   "execution_count": 135,
   "metadata": {},
   "outputs": [],
   "source": [
    "def part_two(grid,empty_rows, empty_cols,empty_distance):\n",
    "    \n",
    "    locations = np.where(grid=='#')\n",
    "    sum_ = 0\n",
    "\n",
    "    for i in range(len(locations[0])):\n",
    "        for j in range(i, len(locations[0])):\n",
    "\n",
    "            row_gap = 0\n",
    "            for row in empty_rows:\n",
    "                if (locations[0][j] < row < locations[0][i]) or (locations[0][i] < row < locations[0][j]):\n",
    "                    row_gap += 1\n",
    "\n",
    "            col_gap = 0\n",
    "            for col in empty_cols:\n",
    "                if (locations[1][j] < col < locations[1][i]) or (locations[1][i] < col < locations[1][j]):\n",
    "                    col_gap += 1\n",
    "\n",
    "\n",
    "            sum_ += abs(locations[0][j]-locations[0][i])+(row_gap)*(empty_distance-1) + abs(locations[1][j]-locations[1][i])+(col_gap)*(empty_distance-1)\n",
    "\n",
    "    return sum_"
   ]
  },
  {
   "cell_type": "code",
   "execution_count": 150,
   "metadata": {},
   "outputs": [
    {
     "data": {
      "text/plain": [
       "374"
      ]
     },
     "execution_count": 150,
     "metadata": {},
     "output_type": "execute_result"
    }
   ],
   "source": [
    "#this function works for 2,10,100\n",
    "part_two(day_11_test_grid_2,[3, 7], [2, 5, 8],2)"
   ]
  },
  {
   "cell_type": "code",
   "execution_count": 158,
   "metadata": {},
   "outputs": [
    {
     "data": {
      "text/plain": [
       "[51, 52, 55, 62, 69, 82, 104, 117]"
      ]
     },
     "execution_count": 158,
     "metadata": {},
     "output_type": "execute_result"
    }
   ],
   "source": [
    "locate_empty_rows(day_11_grid_2)"
   ]
  },
  {
   "cell_type": "code",
   "execution_count": 159,
   "metadata": {},
   "outputs": [
    {
     "data": {
      "text/plain": [
       "[4, 15, 48, 55, 70, 81, 87, 120, 137]"
      ]
     },
     "execution_count": 159,
     "metadata": {},
     "output_type": "execute_result"
    }
   ],
   "source": [
    "locate_empty_cols(day_11_grid_2)"
   ]
  },
  {
   "cell_type": "code",
   "execution_count": 161,
   "metadata": {},
   "outputs": [
    {
     "data": {
      "text/plain": [
       "618800410814"
      ]
     },
     "execution_count": 161,
     "metadata": {},
     "output_type": "execute_result"
    }
   ],
   "source": [
    "#doesn't work for 2\n",
    "part_two(day_11_grid_2,locate_empty_rows(day_11_grid_2), locate_empty_cols(day_11_grid_2),1000000)"
   ]
  }
 ],
 "metadata": {
  "kernelspec": {
   "display_name": "Python 3",
   "language": "python",
   "name": "python3"
  },
  "language_info": {
   "codemirror_mode": {
    "name": "ipython",
    "version": 3
   },
   "file_extension": ".py",
   "mimetype": "text/x-python",
   "name": "python",
   "nbconvert_exporter": "python",
   "pygments_lexer": "ipython3",
   "version": "3.9.13"
  },
  "orig_nbformat": 4
 },
 "nbformat": 4,
 "nbformat_minor": 2
}
