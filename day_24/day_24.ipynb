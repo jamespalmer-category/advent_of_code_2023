{
 "cells": [
  {
   "cell_type": "code",
   "execution_count": 3,
   "metadata": {},
   "outputs": [],
   "source": [
    "import re\n",
    "import ast\n",
    "import numpy as np\n",
    "import math\n",
    "from functools import cache, cmp_to_key\n",
    "from itertools import product\n",
    "from typing import Tuple\n",
    "import sympy as sym\n",
    "\n",
    "import networkx as nx\n",
    "\n",
    "def read_file_to_string(file_path, spliter='\\n'):\n",
    "    with open(file_path,'r') as f:\n",
    "        return f.read().split(spliter)\n",
    "    \n",
    "day_24_list = read_file_to_string('day_24_input.txt')\n",
    "day_24_test_list = read_file_to_string('day_24_test.txt')\n",
    "#day_20_test_2 = read_file_to_string('day_20_test_2.txt')\n",
    "# day_20_test_3 = read_file_to_string('day_20_test_3.txt')\n",
    "# day_20_test_4 = read_file_to_string('day_20_test_4.txt')\n",
    "# day_20_test_5 = read_file_to_string('day_20_test_5.txt')"
   ]
  },
  {
   "cell_type": "code",
   "execution_count": 4,
   "metadata": {},
   "outputs": [],
   "source": [
    "def parse_string(parsed_list):\n",
    "\n",
    "    day_24=[[tuple([int(number.strip()) for number in vector.split(',')]) for vector in vectors.split('@')] for vectors in parsed_list]\n",
    "    return day_24\n"
   ]
  },
  {
   "cell_type": "code",
   "execution_count": 5,
   "metadata": {},
   "outputs": [],
   "source": [
    "test_vectors = parse_string(day_24_test_list)\n",
    "input_vectors = parse_string(day_24_list)"
   ]
  },
  {
   "cell_type": "code",
   "execution_count": 24,
   "metadata": {},
   "outputs": [],
   "source": [
    "def do_they_cross_xy(vector_1, vector_2):\n",
    "\n",
    "    x_result = vector_1[0][0] - vector_2[0][0]\n",
    "    y_result = vector_1[0][1] - vector_2[0][1]\n",
    "\n",
    "    x,y = sym.symbols('x,y')\n",
    "    x_equation = sym.Eq(x*vector_2[1][0] - y*vector_1[1][0], x_result)\n",
    "    y_equation = sym.Eq(x*vector_2[1][1] - y*vector_1[1][1], y_result)\n",
    "\n",
    "    result = sym.solve([x_equation, y_equation],(x,y))\n",
    "    return result\n"
   ]
  },
  {
   "cell_type": "code",
   "execution_count": 28,
   "metadata": {},
   "outputs": [],
   "source": [
    "result = do_they_cross_xy(test_vectors[0], test_vectors[1])"
   ]
  },
  {
   "cell_type": "code",
   "execution_count": 55,
   "metadata": {},
   "outputs": [
    {
     "data": {
      "text/latex": [
       "$\\displaystyle \\frac{11}{3}$"
      ],
      "text/plain": [
       "11/3"
      ]
     },
     "execution_count": 55,
     "metadata": {},
     "output_type": "execute_result"
    }
   ],
   "source": [
    "result[sym.symbols('x')]"
   ]
  },
  {
   "cell_type": "code",
   "execution_count": 38,
   "metadata": {},
   "outputs": [
    {
     "data": {
      "text/plain": [
       "3.6666666666666665"
      ]
     },
     "execution_count": 38,
     "metadata": {},
     "output_type": "execute_result"
    }
   ],
   "source": [
    "float(list(result.values())[0])"
   ]
  },
  {
   "cell_type": "code",
   "execution_count": 59,
   "metadata": {},
   "outputs": [],
   "source": [
    "def check_vectors(vector_1, vector_2, lower_x_bound, upper_x_bound, lower_y_bound, upper_y_bound):\n",
    "\n",
    "    result = do_they_cross_xy(vector_1, vector_2)\n",
    "\n",
    "    if result != []:\n",
    "        for value in result.values():\n",
    "            if float(value) < 0:\n",
    "                return False\n",
    "            \n",
    "        x_result = vector_1[0][0] + float(result[sym.symbols('y')])*vector_1[1][0]\n",
    "        y_result = vector_1[0][1] + float(result[sym.symbols('y')])*vector_1[1][1]\n",
    "\n",
    "        if lower_x_bound <= x_result <= upper_x_bound and lower_y_bound <= y_result <= upper_y_bound:\n",
    "            return True\n",
    "        else:\n",
    "            return False\n",
    "    else:\n",
    "        return False"
   ]
  },
  {
   "cell_type": "code",
   "execution_count": 63,
   "metadata": {},
   "outputs": [],
   "source": [
    "def part_one(vectors,lower_x_bound, upper_x_bound, lower_y_bound, upper_y_bound):\n",
    "\n",
    "    sum_ = 0\n",
    "    for i in range(len(vectors)):\n",
    "        print(i)\n",
    "        for j in range(i+1, len(vectors)):\n",
    "\n",
    "            if check_vectors(vectors[i], vectors[j],lower_x_bound, upper_x_bound, lower_y_bound, upper_y_bound):\n",
    "                sum_ += 1\n",
    "\n",
    "    return sum_"
   ]
  },
  {
   "cell_type": "code",
   "execution_count": 64,
   "metadata": {},
   "outputs": [
    {
     "name": "stdout",
     "output_type": "stream",
     "text": [
      "0\n",
      "1\n",
      "2\n",
      "3\n",
      "4\n"
     ]
    },
    {
     "data": {
      "text/plain": [
       "2"
      ]
     },
     "execution_count": 64,
     "metadata": {},
     "output_type": "execute_result"
    }
   ],
   "source": [
    "part_one(test_vectors,7,27,2,27)"
   ]
  },
  {
   "cell_type": "code",
   "execution_count": 65,
   "metadata": {},
   "outputs": [
    {
     "name": "stdout",
     "output_type": "stream",
     "text": [
      "0\n",
      "1\n",
      "2\n",
      "3\n",
      "4\n",
      "5\n",
      "6\n",
      "7\n",
      "8\n",
      "9\n",
      "10\n",
      "11\n",
      "12\n",
      "13\n",
      "14\n",
      "15\n",
      "16\n",
      "17\n",
      "18\n",
      "19\n",
      "20\n",
      "21\n",
      "22\n",
      "23\n",
      "24\n",
      "25\n",
      "26\n",
      "27\n",
      "28\n",
      "29\n",
      "30\n",
      "31\n",
      "32\n",
      "33\n",
      "34\n",
      "35\n",
      "36\n",
      "37\n",
      "38\n",
      "39\n",
      "40\n",
      "41\n",
      "42\n",
      "43\n",
      "44\n",
      "45\n",
      "46\n",
      "47\n",
      "48\n",
      "49\n",
      "50\n",
      "51\n",
      "52\n",
      "53\n",
      "54\n",
      "55\n",
      "56\n",
      "57\n",
      "58\n",
      "59\n",
      "60\n",
      "61\n",
      "62\n",
      "63\n",
      "64\n",
      "65\n",
      "66\n",
      "67\n",
      "68\n",
      "69\n",
      "70\n",
      "71\n",
      "72\n",
      "73\n",
      "74\n",
      "75\n",
      "76\n",
      "77\n",
      "78\n",
      "79\n",
      "80\n",
      "81\n",
      "82\n",
      "83\n",
      "84\n",
      "85\n",
      "86\n",
      "87\n",
      "88\n",
      "89\n",
      "90\n",
      "91\n",
      "92\n",
      "93\n",
      "94\n",
      "95\n",
      "96\n",
      "97\n",
      "98\n",
      "99\n",
      "100\n",
      "101\n",
      "102\n",
      "103\n",
      "104\n",
      "105\n",
      "106\n",
      "107\n",
      "108\n",
      "109\n",
      "110\n",
      "111\n",
      "112\n",
      "113\n",
      "114\n",
      "115\n",
      "116\n",
      "117\n",
      "118\n",
      "119\n",
      "120\n",
      "121\n",
      "122\n",
      "123\n",
      "124\n",
      "125\n",
      "126\n",
      "127\n",
      "128\n",
      "129\n",
      "130\n",
      "131\n",
      "132\n",
      "133\n",
      "134\n",
      "135\n",
      "136\n",
      "137\n",
      "138\n",
      "139\n",
      "140\n",
      "141\n",
      "142\n",
      "143\n",
      "144\n",
      "145\n",
      "146\n",
      "147\n",
      "148\n",
      "149\n",
      "150\n",
      "151\n",
      "152\n",
      "153\n",
      "154\n",
      "155\n",
      "156\n",
      "157\n",
      "158\n",
      "159\n",
      "160\n",
      "161\n",
      "162\n",
      "163\n",
      "164\n",
      "165\n",
      "166\n",
      "167\n",
      "168\n",
      "169\n",
      "170\n",
      "171\n",
      "172\n",
      "173\n",
      "174\n",
      "175\n",
      "176\n",
      "177\n",
      "178\n",
      "179\n",
      "180\n",
      "181\n",
      "182\n",
      "183\n",
      "184\n",
      "185\n",
      "186\n",
      "187\n",
      "188\n",
      "189\n",
      "190\n",
      "191\n",
      "192\n",
      "193\n",
      "194\n",
      "195\n",
      "196\n",
      "197\n",
      "198\n",
      "199\n",
      "200\n",
      "201\n",
      "202\n",
      "203\n",
      "204\n",
      "205\n",
      "206\n",
      "207\n",
      "208\n",
      "209\n",
      "210\n",
      "211\n",
      "212\n",
      "213\n",
      "214\n",
      "215\n",
      "216\n",
      "217\n",
      "218\n",
      "219\n",
      "220\n",
      "221\n",
      "222\n",
      "223\n",
      "224\n",
      "225\n",
      "226\n",
      "227\n",
      "228\n",
      "229\n",
      "230\n",
      "231\n",
      "232\n",
      "233\n",
      "234\n",
      "235\n",
      "236\n",
      "237\n",
      "238\n",
      "239\n",
      "240\n",
      "241\n",
      "242\n",
      "243\n",
      "244\n",
      "245\n",
      "246\n",
      "247\n",
      "248\n",
      "249\n",
      "250\n",
      "251\n",
      "252\n",
      "253\n",
      "254\n",
      "255\n",
      "256\n",
      "257\n",
      "258\n",
      "259\n",
      "260\n",
      "261\n",
      "262\n",
      "263\n",
      "264\n",
      "265\n",
      "266\n",
      "267\n",
      "268\n",
      "269\n",
      "270\n",
      "271\n",
      "272\n",
      "273\n",
      "274\n",
      "275\n",
      "276\n",
      "277\n",
      "278\n",
      "279\n",
      "280\n",
      "281\n",
      "282\n",
      "283\n",
      "284\n",
      "285\n",
      "286\n",
      "287\n",
      "288\n",
      "289\n",
      "290\n",
      "291\n",
      "292\n",
      "293\n",
      "294\n",
      "295\n",
      "296\n",
      "297\n",
      "298\n",
      "299\n"
     ]
    },
    {
     "data": {
      "text/plain": [
       "16502"
      ]
     },
     "execution_count": 65,
     "metadata": {},
     "output_type": "execute_result"
    }
   ],
   "source": [
    "part_one(input_vectors,2*(10**14),4*(10**14),2*(10**14),4*(10**14))"
   ]
  },
  {
   "cell_type": "markdown",
   "metadata": {},
   "source": [
    "## Part 2"
   ]
  },
  {
   "cell_type": "code",
   "execution_count": null,
   "metadata": {},
   "outputs": [],
   "source": [
    "# for us to have a rock that does this, we need it to have a solution with _every_ rock. How do we get an idea of the solution space?\n",
    "\n",
    "#both need to be integar position and integar velocity "
   ]
  },
  {
   "cell_type": "code",
   "execution_count": 2,
   "metadata": {},
   "outputs": [],
   "source": [
    "def fit_vector_xyz(vector_1, vector_2, vector_3):\n",
    "\n",
    "    \n",
    "\n",
    "    t_1, t_2, t_3, p_x, p_y, p_z, v_x, v_y, v_z = sym.symbols('t_1, t_2, t_3, p_x, p_y, p_z, v_x, v_y, v_z')\n",
    "\n",
    "    v1_x_equation = sym.Eq(p_x + t_1*(v_x - vector_1[1][0]), vector_1[0][0])\n",
    "    v1_y_equation = sym.Eq(p_y + t_1*(v_y - vector_1[1][1]), vector_1[0][1])\n",
    "    v1_z_equation = sym.Eq(p_z + t_1*(v_z - vector_1[1][2]), vector_1[0][2])\n",
    "\n",
    "    v2_x_equation = sym.Eq(p_x + t_2*(v_x - vector_2[1][0]), vector_2[0][0])\n",
    "    v2_y_equation = sym.Eq(p_y + t_2*(v_y - vector_2[1][1]), vector_2[0][1])\n",
    "    v2_z_equation = sym.Eq(p_z + t_2*(v_z - vector_2[1][2]), vector_2[0][2])\n",
    "\n",
    "    v3_x_equation = sym.Eq(p_x + t_3*(v_x - vector_3[1][0]), vector_3[0][0])\n",
    "    v3_y_equation = sym.Eq(p_y + t_3*(v_y - vector_3[1][1]), vector_3[0][1])\n",
    "    v3_z_equation = sym.Eq(p_z + t_3*(v_z - vector_3[1][2]), vector_3[0][2])\n",
    "\n",
    "\n",
    "\n",
    "    result = sym.solve([v1_x_equation,\n",
    "                        v1_y_equation,\n",
    "                        v1_z_equation,\n",
    "                        v2_x_equation,\n",
    "                        v2_y_equation,\n",
    "                        v2_z_equation,\n",
    "                        v3_x_equation,\n",
    "                        v3_y_equation,\n",
    "                        v3_z_equation,],(t_1, t_2, t_3, p_x, p_y, p_z, v_x, v_y, v_z))\n",
    "    return result"
   ]
  },
  {
   "cell_type": "code",
   "execution_count": 23,
   "metadata": {},
   "outputs": [],
   "source": [
    "def part_two(vector_1, vector_2, vector_3):\n",
    "\n",
    "    returns = fit_vector_xyz(vector_1, vector_2, vector_3)\n",
    "    returns = returns[0]\n",
    "\n",
    "    return returns[3] + returns[4]+ returns[5]"
   ]
  },
  {
   "cell_type": "code",
   "execution_count": 24,
   "metadata": {},
   "outputs": [
    {
     "data": {
      "text/latex": [
       "$\\displaystyle 47$"
      ],
      "text/plain": [
       "47"
      ]
     },
     "execution_count": 24,
     "metadata": {},
     "output_type": "execute_result"
    }
   ],
   "source": [
    "part_two([(19, 13, 30), (-2, 1, -2)],\n",
    " [(18, 19, 22), (-1, -1, -2)],\n",
    " [(20, 25, 34), (-2, -2, -4)])"
   ]
  },
  {
   "cell_type": "code",
   "execution_count": 25,
   "metadata": {},
   "outputs": [
    {
     "data": {
      "text/latex": [
       "$\\displaystyle 673641951253289$"
      ],
      "text/plain": [
       "673641951253289"
      ]
     },
     "execution_count": 25,
     "metadata": {},
     "output_type": "execute_result"
    }
   ],
   "source": [
    "part_two(*input_vectors[:3])"
   ]
  }
 ],
 "metadata": {
  "kernelspec": {
   "display_name": "Python 3",
   "language": "python",
   "name": "python3"
  },
  "language_info": {
   "codemirror_mode": {
    "name": "ipython",
    "version": 3
   },
   "file_extension": ".py",
   "mimetype": "text/x-python",
   "name": "python",
   "nbconvert_exporter": "python",
   "pygments_lexer": "ipython3",
   "version": "3.9.13"
  },
  "orig_nbformat": 4
 },
 "nbformat": 4,
 "nbformat_minor": 2
}
