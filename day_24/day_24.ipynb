{
 "cells": [
  {
   "cell_type": "code",
   "execution_count": null,
   "metadata": {},
   "outputs": [],
   "source": [
    "import re\n",
    "import ast\n",
    "import numpy as np\n",
    "import math\n",
    "from functools import cache, cmp_to_key\n",
    "from itertools import product\n",
    "from typing import Tuple\n",
    "\n",
    "import networkx as nx\n",
    "\n",
    "def read_file_to_string(file_path):\n",
    "    with open(file_path,'r') as f:\n",
    "        return f.read()\n",
    "    \n",
    "day_23_string = read_file_to_string('day_23_input.txt')\n",
    "day_23_test = read_file_to_string('day_23_test.txt')\n",
    "#day_20_test_2 = read_file_to_string('day_20_test_2.txt')\n",
    "# day_20_test_3 = read_file_to_string('day_20_test_3.txt')\n",
    "# day_20_test_4 = read_file_to_string('day_20_test_4.txt')\n",
    "# day_20_test_5 = read_file_to_string('day_20_test_5.txt')"
   ]
  }
 ],
 "metadata": {
  "language_info": {
   "name": "python"
  },
  "orig_nbformat": 4
 },
 "nbformat": 4,
 "nbformat_minor": 2
}
