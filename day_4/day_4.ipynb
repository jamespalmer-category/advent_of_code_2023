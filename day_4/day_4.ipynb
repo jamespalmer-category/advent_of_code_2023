{
 "cells": [
  {
   "cell_type": "code",
   "execution_count": null,
   "metadata": {},
   "outputs": [],
   "source": [
    "import re\n",
    "import ast\n",
    "\n",
    "def read_file_to_string(file_path):\n",
    "    with open(file_path,'r') as f:\n",
    "        return f.read()\n",
    "    \n",
    "day_4_string = read_file_to_string('day_4_input.txt')\n",
    "day_4_test = read_file_to_string('day_4_test.txt')"
   ]
  },
  {
   "cell_type": "code",
   "execution_count": null,
   "metadata": {},
   "outputs": [],
   "source": [
    "day_4_list = re.split(r'\\n', day_4_string)\n",
    "day_4_test_list = re.split(r'\\n', day_4_test)"
   ]
  }
 ],
 "metadata": {
  "language_info": {
   "name": "python"
  },
  "orig_nbformat": 4
 },
 "nbformat": 4,
 "nbformat_minor": 2
}
