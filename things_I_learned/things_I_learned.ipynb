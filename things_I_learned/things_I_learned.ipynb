{
 "cells": [
  {
   "cell_type": "markdown",
   "metadata": {},
   "source": [
    "## Things I learned doing AoC 2023"
   ]
  },
  {
   "cell_type": "markdown",
   "metadata": {},
   "source": [
    "This is just to document random Python things I have learned from doing AoC 2023"
   ]
  },
  {
   "cell_type": "markdown",
   "metadata": {},
   "source": [
    "#### You can use Booleans to see if a substring is inside a string"
   ]
  },
  {
   "cell_type": "code",
   "execution_count": 1,
   "metadata": {},
   "outputs": [
    {
     "data": {
      "text/plain": [
       "True"
      ]
     },
     "execution_count": 1,
     "metadata": {},
     "output_type": "execute_result"
    }
   ],
   "source": [
    "#use this tactically with the AoC inputs if there are specific things you have to look out for\n",
    "'abc' in 'abcdefg'"
   ]
  },
  {
   "cell_type": "markdown",
   "metadata": {},
   "source": [
    "#### The product iterator"
   ]
  },
  {
   "cell_type": "code",
   "execution_count": 3,
   "metadata": {},
   "outputs": [
    {
     "name": "stdout",
     "output_type": "stream",
     "text": [
      "(-1, -1)\n",
      "(-1, 0)\n",
      "(-1, 1)\n",
      "(0, -1)\n",
      "(0, 0)\n",
      "(0, 1)\n",
      "(1, -1)\n",
      "(1, 0)\n",
      "(1, 1)\n"
     ]
    }
   ],
   "source": [
    "#I've never heard of itertools in my life. Happy I have now!\n",
    "#This looks especially useful for finding the neighbours of indicies.\n",
    "\n",
    "from itertools import product\n",
    "\n",
    "for i in product(range(-1, 2), range(-1, 2)):\n",
    "    print(i)"
   ]
  },
  {
   "cell_type": "markdown",
   "metadata": {},
   "source": [
    "#### Some Numpy array things"
   ]
  },
  {
   "cell_type": "code",
   "execution_count": 2,
   "metadata": {},
   "outputs": [
    {
     "name": "stdout",
     "output_type": "stream",
     "text": [
      "[1 2 3 4 5]\n"
     ]
    }
   ],
   "source": [
    "import numpy as np\n",
    "\n",
    "arr = np.array([1,1,2,3,4,4,5])\n",
    "\n",
    "#np.unique gives you an array that shows you all the unique elements in the array\n",
    "unique_arr = np.unique(arr)\n",
    "print(unique_arr)"
   ]
  },
  {
   "cell_type": "markdown",
   "metadata": {},
   "source": [
    "#### the ord() function"
   ]
  },
  {
   "cell_type": "code",
   "execution_count": 7,
   "metadata": {},
   "outputs": [
    {
     "name": "stdout",
     "output_type": "stream",
     "text": [
      ".: 46\n",
      "a: 97\n",
      "A: 65\n",
      "1: 49\n"
     ]
    }
   ],
   "source": [
    "#technically day 12 of 2022....\n",
    "#This gives us the ability to get the ascii value of a string:\n",
    "\n",
    "print('.:',ord('.'))\n",
    "print('a:',ord('a'))\n",
    "print('A:',ord('A'))\n",
    "print('1:',ord('1'))"
   ]
  },
  {
   "cell_type": "markdown",
   "metadata": {},
   "source": [
    "#### Numpy matrix multiplication"
   ]
  },
  {
   "cell_type": "code",
   "execution_count": 9,
   "metadata": {},
   "outputs": [
    {
     "data": {
      "text/plain": [
       "array([[ 7, 10],\n",
       "       [15, 22]])"
      ]
     },
     "execution_count": 9,
     "metadata": {},
     "output_type": "execute_result"
    }
   ],
   "source": [
    "arr1 = np.array([[1,2],[3,4]])\n",
    "arr2 = np.array([[1,2],[3,4]])\n",
    "\n",
    "np.matmul(arr1, arr2)"
   ]
  },
  {
   "cell_type": "code",
   "execution_count": 12,
   "metadata": {},
   "outputs": [
    {
     "name": "stdout",
     "output_type": "stream",
     "text": [
      "[[3 1]\n",
      " [7 3]]\n",
      "[[ 4  3]\n",
      " [10  7]]\n",
      "[[ 7  4]\n",
      " [17 10]]\n",
      "[[11  7]\n",
      " [27 17]]\n",
      "[[18 11]\n",
      " [44 27]]\n",
      "[[29 18]\n",
      " [71 44]]\n",
      "[[ 47  29]\n",
      " [115  71]]\n",
      "[[ 76  47]\n",
      " [186 115]]\n",
      "[[123  76]\n",
      " [301 186]]\n",
      "[[199 123]\n",
      " [487 301]]\n"
     ]
    }
   ],
   "source": [
    "#what if I want to do a product?\n",
    "\n",
    "arr1 = np.array([[1,2],[3,4]])\n",
    "\n",
    "for i in range(10):\n",
    "    arr1 = np.matmul(arr1,[[1,1],[1,0]])\n",
    "\n",
    "    print(arr1)"
   ]
  },
  {
   "cell_type": "code",
   "execution_count": 14,
   "metadata": {},
   "outputs": [
    {
     "name": "stdout",
     "output_type": "stream",
     "text": [
      "[[ 7. 10.]\n",
      " [15. 22.]]\n",
      "[[ 37.  54.]\n",
      " [ 81. 118.]]\n",
      "[[199. 290.]\n",
      " [435. 634.]]\n"
     ]
    }
   ],
   "source": [
    "#what if I want to keep multiplying the matrix by itself?\n",
    "\n",
    "arr1 = np.array([[1,2],[3,4]])\n",
    "product_matrix = np.zeros((2,2)) + arr1\n",
    "\n",
    "for i in range(3):\n",
    "    product_matrix = np.matmul(arr1,product_matrix)\n",
    "\n",
    "    print(product_matrix)"
   ]
  },
  {
   "cell_type": "code",
   "execution_count": null,
   "metadata": {},
   "outputs": [],
   "source": []
  }
 ],
 "metadata": {
  "kernelspec": {
   "display_name": "Python 3",
   "language": "python",
   "name": "python3"
  },
  "language_info": {
   "codemirror_mode": {
    "name": "ipython",
    "version": 3
   },
   "file_extension": ".py",
   "mimetype": "text/x-python",
   "name": "python",
   "nbconvert_exporter": "python",
   "pygments_lexer": "ipython3",
   "version": "3.9.13"
  },
  "orig_nbformat": 4
 },
 "nbformat": 4,
 "nbformat_minor": 2
}
