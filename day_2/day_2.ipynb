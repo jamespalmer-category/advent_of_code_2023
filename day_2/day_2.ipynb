{
 "cells": [
  {
   "cell_type": "code",
   "execution_count": 5,
   "metadata": {},
   "outputs": [],
   "source": [
    "import re\n",
    "import ast\n",
    "\n",
    "def read_file_to_string(file_path):\n",
    "    with open(file_path,'r') as f:\n",
    "        return f.read()\n",
    "    \n",
    "day_2_string = read_file_to_string('day_2_input.txt')\n",
    "day_2_test = read_file_to_string('day_2_test.txt')"
   ]
  },
  {
   "cell_type": "code",
   "execution_count": 3,
   "metadata": {},
   "outputs": [],
   "source": [
    "day_2_list = re.split(r'\\n', day_2_string)"
   ]
  },
  {
   "cell_type": "code",
   "execution_count": 13,
   "metadata": {},
   "outputs": [],
   "source": [
    "day_2_list = [re.split(';',string) for string in day_2_list]"
   ]
  },
  {
   "cell_type": "code",
   "execution_count": 16,
   "metadata": {},
   "outputs": [],
   "source": [
    "colour_game_map = {[i for i in range(1,101)][j]:[[re.findall('[0-9]+ red|[0-9]+ green|[0-9]+ blue', string) for string in lst] for lst in day_2_list][j] for j in range(len(day_2_list))\n",
    "}"
   ]
  },
  {
   "cell_type": "code",
   "execution_count": 44,
   "metadata": {},
   "outputs": [],
   "source": [
    "def is_game_possible(game, red_limit, green_limit, blue_limit):\n",
    "\n",
    "\n",
    "    for round in game:\n",
    "\n",
    "        round_map = {'red':0,'green':0,'blue':0}\n",
    "\n",
    "        for draw in round:\n",
    "            if 'red' in draw:\n",
    "                round_map['red'] += int(re.search('[0-9]+',draw).group())\n",
    "\n",
    "            elif 'green' in draw:\n",
    "                round_map['green'] += int(re.search('[0-9]+',draw).group())\n",
    "\n",
    "            else:\n",
    "                round_map['blue'] += int(re.search('[0-9]+',draw).group())\n",
    "\n",
    "            if round_map['red'] > red_limit:\n",
    "                return False\n",
    "            if round_map['green'] > green_limit:\n",
    "                return False\n",
    "            if round_map['blue'] > blue_limit:\n",
    "                return False\n",
    "            \n",
    "    return True"
   ]
  },
  {
   "cell_type": "code",
   "execution_count": 46,
   "metadata": {},
   "outputs": [
    {
     "name": "stdout",
     "output_type": "stream",
     "text": [
      "2913\n"
     ]
    }
   ],
   "source": [
    "sum_ = 0\n",
    "for k,v in colour_game_map.items():\n",
    "    if is_game_possible(v,12,13,14):\n",
    "        sum_ += k\n",
    "\n",
    "print(sum_)"
   ]
  },
  {
   "cell_type": "code",
   "execution_count": 40,
   "metadata": {},
   "outputs": [],
   "source": [
    "def fewest_cubes(game):\n",
    "\n",
    "    red_minimum = 0\n",
    "    blue_minimum = 0\n",
    "    green_minimum = 0\n",
    "\n",
    "\n",
    "    for round in game:\n",
    "\n",
    "        round_map = {'red':0,'green':0,'blue':0}\n",
    "\n",
    "        for draw in round:\n",
    "            if 'red' in draw:\n",
    "                round_map['red'] += int(re.search('[0-9]+',draw).group())\n",
    "\n",
    "            elif 'green' in draw:\n",
    "                round_map['green'] += int(re.search('[0-9]+',draw).group())\n",
    "\n",
    "            else:\n",
    "                round_map['blue'] += int(re.search('[0-9]+',draw).group())\n",
    "\n",
    "            \n",
    "            red_minimum = max(red_minimum, round_map['red'])\n",
    "            #print('red minimum:',red_minimum)\n",
    "            blue_minimum = max(blue_minimum, round_map['blue'])\n",
    "            green_minimum = max(green_minimum, round_map['green'])\n",
    "            \n",
    "    return red_minimum*blue_minimum*green_minimum"
   ]
  },
  {
   "cell_type": "code",
   "execution_count": 42,
   "metadata": {},
   "outputs": [
    {
     "name": "stdout",
     "output_type": "stream",
     "text": [
      "55593\n"
     ]
    }
   ],
   "source": [
    "sum_ = 0\n",
    "for k,v in colour_game_map.items():\n",
    "    \n",
    "    sum_ += fewest_cubes(v)\n",
    "\n",
    "print(sum_)"
   ]
  }
 ],
 "metadata": {
  "kernelspec": {
   "display_name": "Python 3",
   "language": "python",
   "name": "python3"
  },
  "language_info": {
   "codemirror_mode": {
    "name": "ipython",
    "version": 3
   },
   "file_extension": ".py",
   "mimetype": "text/x-python",
   "name": "python",
   "nbconvert_exporter": "python",
   "pygments_lexer": "ipython3",
   "version": "3.9.13"
  },
  "orig_nbformat": 4
 },
 "nbformat": 4,
 "nbformat_minor": 2
}
