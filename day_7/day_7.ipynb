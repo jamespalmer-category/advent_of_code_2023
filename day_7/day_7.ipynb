{
 "cells": [
  {
   "cell_type": "code",
   "execution_count": 81,
   "metadata": {},
   "outputs": [],
   "source": [
    "import re\n",
    "import ast\n",
    "\n",
    "def read_file_to_string(file_path):\n",
    "    with open(file_path,'r') as f:\n",
    "        return f.read()\n",
    "    \n",
    "day_7_string = read_file_to_string('day_7_input.txt')\n",
    "day_7_test = read_file_to_string('day_7_test.txt')\n",
    "day_7_test_2 = read_file_to_string('day_7_test_2.txt')"
   ]
  },
  {
   "cell_type": "code",
   "execution_count": 82,
   "metadata": {},
   "outputs": [],
   "source": [
    "def parse_string(string):\n",
    "    day_7_list = re.split('\\n', string)\n",
    "    day_7_list = [re.split(' ', string) for string in day_7_list]\n",
    "    day_7_map = {\n",
    "        day_7_list[i][0]:day_7_list[i][1] for i in range(len(day_7_list))\n",
    "    }\n",
    "\n",
    "    return day_7_map"
   ]
  },
  {
   "cell_type": "code",
   "execution_count": 83,
   "metadata": {},
   "outputs": [],
   "source": [
    "test_hand_map = parse_string(day_7_test)\n",
    "test_hand_map_2 = parse_string(day_7_test_2)\n",
    "hand_map = parse_string(day_7_string)"
   ]
  },
  {
   "cell_type": "code",
   "execution_count": 84,
   "metadata": {},
   "outputs": [],
   "source": [
    "card_val_map = {\n",
    "    '2': 0,\n",
    "    '3': 1,\n",
    "    '4':2,\n",
    "    '5':3,\n",
    "    '6':4,\n",
    "    '7':5,\n",
    "    '8':6,\n",
    "    '9':7,\n",
    "    'T':8,\n",
    "    'J':9,\n",
    "    'Q':10,\n",
    "    'K':11,\n",
    "    'A':12\n",
    "}"
   ]
  },
  {
   "cell_type": "code",
   "execution_count": 85,
   "metadata": {},
   "outputs": [],
   "source": [
    "#two hands would never be equal :)\n",
    "def is_hand_stronger(hand1,hand2):\n",
    "\n",
    "    hand1_set = set(list(hand1))\n",
    "    hand2_set = set(list(hand2))\n",
    "\n",
    "    counts_1 = []\n",
    "    counts_2 = []\n",
    "    for i in hand1_set:\n",
    "        counts_1.append(list(hand1).count(i))\n",
    "\n",
    "    for i in hand2_set:\n",
    "        counts_2.append(list(hand2).count(i))\n",
    "\n",
    "    #print(counts_1, counts_2)\n",
    "    if max(counts_1) > max(counts_2):\n",
    "        return True\n",
    "    elif max(counts_1) < max(counts_2):\n",
    "        return False\n",
    "    \n",
    "\n",
    "    elif max(counts_1) == max(counts_2):\n",
    "        \n",
    "        if max(counts_1) == 3:\n",
    "            # three of a kind or full house\n",
    "            if len(hand1_set) < len(hand2_set):\n",
    "                return True\n",
    "            elif len(hand1_set) > len(hand2_set):\n",
    "                return False\n",
    "            \n",
    "            elif set(counts_1) == set(counts_2):\n",
    "                for i in range(len(hand1)):\n",
    "                    if card_val_map[hand1[i]] > card_val_map[hand2[i]]:\n",
    "                        return True\n",
    "                    elif card_val_map[hand1[i]] < card_val_map[hand2[i]]:\n",
    "                        return False\n",
    "            \n",
    "        elif max(counts_1) == 2:\n",
    "            #print(\"hello\")\n",
    "            # two pair or one pair\n",
    "            if len(counts_1) < len(counts_2):\n",
    "                return True\n",
    "            elif len(counts_1) > len(counts_2):\n",
    "                return False\n",
    "            \n",
    "            else:\n",
    "                for i in range(len(hand1)):\n",
    "                    #print(hand1[i], hand2[i])\n",
    "                    if card_val_map[hand1[i]] > card_val_map[hand2[i]]:\n",
    "                        #print()\n",
    "                        return True\n",
    "                    elif card_val_map[hand1[i]] < card_val_map[hand2[i]]:\n",
    "                        return False\n",
    "            \n",
    "        # same count but high card\n",
    "        else:\n",
    "            for i in range(len(hand1)):\n",
    "                if card_val_map[hand1[i]] > card_val_map[hand2[i]]:\n",
    "                    return True\n",
    "                elif card_val_map[hand1[i]] < card_val_map[hand2[i]]:\n",
    "                        return False"
   ]
  },
  {
   "cell_type": "code",
   "execution_count": 114,
   "metadata": {},
   "outputs": [],
   "source": [
    "def organise_list(hand_map):\n",
    "    organised_list = []\n",
    "\n",
    "    for j,hand in enumerate(hand_map.keys()):\n",
    "        #print(j)\n",
    "        \n",
    "        if organised_list == []:\n",
    "            organised_list.append(hand)\n",
    "        else:\n",
    "            for i, org_hand in enumerate(organised_list):\n",
    "                # true in is_hand_stronger means higher on list. go from index 0 being highest rank\n",
    "\n",
    "                if is_hand_stronger(hand,org_hand):\n",
    "                    organised_list = organised_list[:i] + [hand] + organised_list[i:]\n",
    "                    break\n",
    "                elif not is_hand_stronger(hand,org_hand):\n",
    "                    if i == len(organised_list)-1:\n",
    "                        organised_list.append(hand)\n",
    "                        break\n",
    "                    else:\n",
    "                        continue\n",
    "        if j+1 != len(organised_list):\n",
    "            print(j)\n",
    "        #print(len(organised_list))\n",
    "    return organised_list"
   ]
  },
  {
   "cell_type": "code",
   "execution_count": 115,
   "metadata": {},
   "outputs": [
    {
     "data": {
      "text/plain": [
       "'2AQ93'"
      ]
     },
     "execution_count": 115,
     "metadata": {},
     "output_type": "execute_result"
    }
   ],
   "source": [
    "list(hand_map.keys())[51]"
   ]
  },
  {
   "cell_type": "code",
   "execution_count": 116,
   "metadata": {},
   "outputs": [
    {
     "data": {
      "text/plain": [
       "False"
      ]
     },
     "execution_count": 116,
     "metadata": {},
     "output_type": "execute_result"
    }
   ],
   "source": [
    "is_hand_stronger('2AQ93','77999')"
   ]
  },
  {
   "cell_type": "code",
   "execution_count": 117,
   "metadata": {},
   "outputs": [],
   "source": [
    "org = organise_list(hand_map)"
   ]
  },
  {
   "cell_type": "code",
   "execution_count": 87,
   "metadata": {},
   "outputs": [],
   "source": [
    "test_org = organise_list(test_hand_map)\n",
    "test_org_2 = organise_list(test_hand_map_2)\n",
    "org = organise_list(hand_map)"
   ]
  },
  {
   "cell_type": "code",
   "execution_count": 127,
   "metadata": {},
   "outputs": [],
   "source": [
    "def part_one(hand_map, org_hand_list):\n",
    "    sum_ = 0\n",
    "    org_hand_list.reverse()\n",
    "    for i, hand in enumerate(org_hand_list):\n",
    "        sum_ += (i+1)*int(hand_map[hand])\n",
    "\n",
    "    return sum_"
   ]
  },
  {
   "cell_type": "code",
   "execution_count": 128,
   "metadata": {},
   "outputs": [
    {
     "data": {
      "text/plain": [
       "6440"
      ]
     },
     "execution_count": 128,
     "metadata": {},
     "output_type": "execute_result"
    }
   ],
   "source": [
    "part_one(test_hand_map, test_org)"
   ]
  },
  {
   "cell_type": "code",
   "execution_count": 126,
   "metadata": {},
   "outputs": [
    {
     "data": {
      "text/plain": [
       "82881"
      ]
     },
     "execution_count": 126,
     "metadata": {},
     "output_type": "execute_result"
    }
   ],
   "source": [
    "part_one(test_hand_map_2, test_org_2)"
   ]
  },
  {
   "cell_type": "code",
   "execution_count": 120,
   "metadata": {},
   "outputs": [
    {
     "name": "stdout",
     "output_type": "stream",
     "text": [
      "20\n"
     ]
    }
   ],
   "source": [
    "print(len(test_org_2))"
   ]
  },
  {
   "cell_type": "code",
   "execution_count": 129,
   "metadata": {},
   "outputs": [
    {
     "data": {
      "text/plain": [
       "250232501"
      ]
     },
     "execution_count": 129,
     "metadata": {},
     "output_type": "execute_result"
    }
   ],
   "source": [
    "#226955423 is too low\n",
    "#250767999 too high!\n",
    "part_one(hand_map, org)"
   ]
  },
  {
   "cell_type": "code",
   "execution_count": 121,
   "metadata": {},
   "outputs": [
    {
     "name": "stdout",
     "output_type": "stream",
     "text": [
      "['JJJJJ', 'AAAAQ', 'AAAAJ', 'AAAA9', 'AAAA2', 'AAA7A', 'AA8AA', 'AQQQQ', 'A7777', 'A5AAA', 'KAAAA', 'KKKKQ', 'KKKK8', 'KKKK6', 'KKKK4', 'KKKK3', 'KKKJK', 'KK2KK', 'K7KKK', 'QQQQ4', 'QQQQ3', 'QQQ5Q', 'QQ2QQ', 'Q7777', 'Q3333', 'JQQQQ', 'JJJJ8', 'JJ2JJ', 'J6666', 'TKKKK', 'TTJTT', 'TTTAT', 'TTTQT', 'TTTT6', 'TTTT4', 'TTT3T', 'TT2TT', 'T5555', 'T4444', 'T3333', '9KKKK', '9T999', '99A99', '99J99', '999K9', '9999Q', '99992', '99899', '99499', '98888', '8A888', '8K888', '8Q888', '8TTTT', '8888J', '88887', '87777', '85888', '79999', '77977', '7777K', '7777J', '7777T', '77776', '77747', '75777', '74444', '6QQQQ', '69999', '68666', '66K66', '6666T', '66669', '66366', '66266', '65666', '64666', '5KKKK', '55K55', '55J55', '55955', '55755', '555Q5', '55558', '55556', '55552', '4AAAA', '4444J', '43444', '3K333', '39999', '38888', '333J3', '33373', '33363', '3333A', '33335', '33233', '2J222', '24222', '22922', '2222Q', 'AATAT', 'AKKAK', 'ATTAT', 'A7AA7', 'KK99K', 'KK4K4', 'KTTKT', 'K999K', 'K7KK7', 'K44K4', 'K33K3', 'K2K2K', 'QKKKQ', 'QQQAA', 'QQQTT', 'QQQ77', 'QQQ44', 'QQ2Q2', 'QTQTT', 'Q8Q8Q', 'Q88Q8', 'Q5Q5Q', 'Q33QQ', 'JAAJA', 'JKKJK', 'JQJQQ', 'JJQJQ', 'JJ8J8', 'JJ66J', 'JJ555', 'JJ333', 'J9J99', 'TJTJT', 'T6TT6', '9A9AA', '9A99A', '9QQ9Q', '9TT9T', '99Q9Q', '99TT9', '99977', '99696', '95955', '94494', '93993', '92299', '8A8AA', '8K88K', '89899', '89889', '88J8J', '88TTT', '88T8T', '88833', '88555', '88448', '88333', '84448', '77A7A', '77878', '777JJ', '77676', '76667', '74477', '73337', '6AA6A', '6Q66Q', '6JJ66', '66A6A', '66868', '666TT', '66655', '66555', '64646', '63663', '5Q5Q5', '55TTT', '54554', '54544', '44A4A', '44QQ4', '44JJ4', '43443', '3KK3K', '3Q3Q3', '3TTT3', '3T3T3', '35535', '35533', '33AAA', '33777', '33223', '2AAA2', '2A2A2', '28828', '26662', '22QQ2', '22J2J', '22772', '222TT', '22255', 'AAAQK', 'AKKK2', 'AK7AA', 'AJAA2', 'AJTTT', 'AJ999', 'ATQQQ', 'ATTT8', 'A9AKA', 'A8AJA', 'A6TAA', 'A5556', 'A4777', 'A4544', 'A44J4', 'KA444', 'KKKJ7', 'KK96K', 'KK5K9', 'KK5K2', 'KJKTK', 'KT7TT', 'K9KKT', 'K9994', 'K8KK2', 'K77J7', 'K7444', 'K66Q6', 'K66J6', 'K65KK', 'K3T33', 'QAAJA', 'QAQ9Q', 'QQ84Q', 'QQ5Q6', 'QQ23Q', 'QJQQ6', 'QJQQ5', 'QJQ9Q', 'QTTTJ', 'Q99A9', 'Q8878', 'Q74QQ', 'Q2522', 'JAAAT', 'J9333', 'J8JJ3', 'J88T8', 'J888K', 'J6662', 'J6656', 'TAA5A', 'TJ777', 'TTT65', 'TTT37', 'TT7JT', 'TT3T6', 'T999A', 'T9996', 'T8868', 'T5558', 'T5554', 'T4T7T', 'T22J2', '9A992', '9KKJK', '9K992', '9QQ3Q', '9J9K9', '9TJ99', '9TT8T', '99A96', '99JQ9', '99J79', '999TQ', '99594', '9929J', '97888', '95299', '94A44', '93J99', '93353', '8QQQ5', '8J882', '8T88A', '89388', '88J78', '888J3', '8884J', '88829', '88485', '868K8', '86766', '86665', '85K55', '84838', '82522', '7A779', '7A775', '7J787', '7J773', '7J757', '79877', '78QQQ', '78T77', '77A7J', '77875', '77746', '7727Q', '7727T', '73433', '7333J', '72787', '72229', '6K6A6', '6J676', '68Q88', '66A76', '66JQ6', '66965', '668T6', '66683', '6636J', '64696', '64626', '5A666', '5TK55', '5T3TT', '59J99', '59575', '58355', '57888', '55JA5', '555JT', '55536', '5552A', '55459', '54484', '5333T', '4K4J4', '4K244', '4J999', '4J777', '4J446', '4TTT8', '49A99', '488K8', '4844J', '454J4', '44J24', '44T47', '44834', '4448Q', '42TTT', '422K2', '3A433', '3KQKK', '3K33J', '3K337', '3QQQ4', '39323', '38TTT', '37Q77', '355A5', '35444', '33635', '333AJ', '333A7', '33354', '3222T', '2AA3A', '2J2K2', '2TTJT', '2T228', '28227', '23A33', 'AA262', 'AKAK8', 'AKAK7', 'AKQKQ', 'AK99K', 'AJA77', 'AJ99A', 'ATA77', 'ATA22', 'A77TT', 'A6776', 'A5757', 'A477A', 'A393A', 'A344A', 'KK77A', 'KK525', 'KQK44', 'KJTJT', 'KTK3T', 'KT2KT', 'KT2T2', 'K996K', 'K8KJ8', 'K7K97', 'K6T6T', 'K656K', 'K58K5', 'K4K46', 'K45K4', 'K3377', 'K26K2', 'K22KQ', 'QAA99', 'QQ677', 'QQ449', 'QQ2J2', 'Q8989', 'Q6AAQ', 'Q664Q', 'Q6464', 'Q5Q99', 'Q4JQ4', 'Q422Q', 'Q3993', 'Q2Q28', 'Q2277', 'JAKAK', 'JA33A', 'JKKJ4', 'JK22J', 'JQQ8J', 'JQQ66', 'JJ992', 'JT99T', 'J88AA', 'J844J', 'J83J8', 'J55J9', 'J5522', 'J3838', 'J2JTT', 'J2J77', 'J2332', 'J229J', 'TKT33', 'TQKQK', 'TQQ44', 'TQTQJ', 'TJT88', 'TTJJA', 'TT797', 'TT767', 'TT366', 'TT33Q', 'T8484', 'T6T26', 'T5T56', 'T4T47', 'T4994', 'T422T', 'T3J3J', '9QQKK', '9Q33Q', '99J88', '99272', '989KK', '97JJ9', '977T9', '95977', '9595J', '94JJ9', '94889', '9449Q', '922KK', '8AQA8', '8A82A', '8A78A', '8K66K', '8Q84Q', '8TT68', '88JKJ', '88755', '885J5', '884A4', '8833Q', '8448K', '82833', '82826', '82782', '7K7KT', '7K22K', '7QT7Q', '7J272', '78448', '77Q8Q', '77J5J', '77969', '778J8', '773JJ', '76679', '76337', '76227', '72572', '6AA63', '6QQ6A', '6J6J4', '69898', '68484', '67699', '67376', '66557', '63A3A', '63638', '5K445', '5QKKQ', '5Q57Q', '5JJAA', '5TT53', '59656', '57T7T', '57752', '56456', '55JTT', '54225', '53Q3Q', '4QQ42', '4J545', '47724', '47466', '45745', '44TJT', '448J8', '44662', '42K2K', '42884', '3A3TT', '3KAA3', '3JQ3Q', '39J39', '393T9', '38282', '37357', '366Q3', '363K6', '3636J', '35735', '34TT4', '33878', '32A32', '32992', '32255', '2KKJ2', '2K8K2', '2T92T', '2992J', '292A9', '28525', '26424', '23244', '22AAJ', '22KKT', '227JJ', '226K6', '226Q6', '2266A', 'AK7AJ', 'AK799', 'AQ7Q9', 'AJ955', 'AJ855', 'AJ4QJ', 'A9Q98', 'A99JQ', 'A9887', 'A92AJ', 'A8K82', 'A6K4A', 'A5T2T', 'A58JA', 'A3282', 'A2AJQ', 'KA6AQ', 'KQT6Q', 'KQ49Q', 'KJ997', 'K9J94', 'K958K', 'K9447', 'K8K5J', 'K889Q', 'K85K2', 'K6TTQ', 'K5K76', 'K553T', 'K4Q2K', 'K2T72', 'K27K8', 'K24K9', 'QK5K7', 'QQJ73', 'QQ968', 'QQ64T', 'QJAKA', 'QJQ26', 'QJT99', 'QT626', 'Q979J', 'Q8KAK', 'Q8KKJ', 'Q88KJ', 'Q88J4', 'Q7336', 'Q577A', 'Q4AQT', 'Q266A', 'JAKKT', 'JKA44', 'JK6J8', 'JQK55', 'JTK9T', 'JTQ2Q', 'J8A2A', 'J889A', 'J8662', 'J838T', 'J7793', 'J7297', 'J6959', 'J5AT5', 'J4KAA', 'J4QKQ', 'J3AJK', 'J3A7A', 'J3J87', 'J377Q', 'J355T', 'J2883', 'J2524', 'TAJA9', 'TA33J', 'TK424', 'TJQ2T', 'TJ37T', 'TT9A2', 'TT8A3', 'TT65J', 'TT32K', 'T996Q', 'T97K9', 'T77QA', 'T6J33', 'T5352', 'T3A43', 'T3T25', 'T344J', 'T27TJ', '9K895', '9QQ2A', '9Q985', '9Q879', '9JJ36', '9J89K', '9J86J', '9TA33', '99JAT', '99JT7', '99786', '97935', '97724', '96J9A', '94KKQ', '949QT', '9474A', '8AQA5', '8Q58J', '8Q48K', '8T7TA', '8T79T', '898AT', '898Q7', '897K7', '88K29', '87J74', '86323', '8535Q', '8499Q', '83J84', '83J73', '837K7', '82KK6', '82J77', '825JJ', '7QTJQ', '7JKAK', '7JQQK', '7JJKA', '7J989', '7TT4Q', '799T2', '79228', '78Q48', '78JQ8', '778A3', '77495', '76T7J', '76862', '75A76', '75899', '754A4', '75376', '74ATA', '7327Q', '72QQ4', '6A356', '6A323', '6Q877', '6Q685', '6Q44A', '6JQ67', '6J746', '6J468', '698K8', '68K48', '683Q8', '67JA6', '67897', '66Q74', '66249', '646A9', '64374', '639K9', '5A228', '5K6KJ', '5K5A6', '5Q57K', '5JKQJ', '5J5K6', '5TJKT', '5T79T', '5T2JJ', '58J3J', '588AQ', '5494Q', '548Q5', '544Q7', '539T5', '52QJJ', '4KK8J', '4QJQ9', '4Q234', '4JK42', '4JJ8K', '4J55Q', '4TAKA', '4T634', '49383', '48TT7', '48945', '47559', '46AJJ', '4688T', '45922', '44QK3', '44J29', '44TA9', '42898', '3JAJ2', '3JKKT', '3J6T6', '3J374', '3J2J9', '39AAJ', '3983T', '39776', '396Q3', '3959Q', '38AA5', '38KJK', '37686', '36KKJ', '3676J', '365Q6', '35Q3A', '33A7J', '326K6', '2AK24', '2AT62', '2A324', '2KT23', '2Q883', '2Q82K', '2Q7JQ', '2Q676', '2Q3K3', '2J55T', '29A98', '288Q9', '279Q2', '27664', '25QJQ', 'AKQT3', 'AKJ93', 'AK893', 'AK576', 'AQTK6', 'AJTK5', 'AJ672', 'AJ596', 'A95J3', 'A84J7', 'A78TK', 'A6JT5', 'A5T8K', 'A4928', 'A37Q4', 'A345J', 'A2579', 'KAJ32', 'KQ96T', 'KQ8A9', 'KQ4A7', 'KQ246', 'KJ7Q3', 'K98Q4', 'K92T7', 'K7Q2J', 'K786T', 'K5Q68', 'K2689', 'QAK34', 'QK54J', 'QJ36A', 'Q7T43', 'Q63JT', 'Q5248', 'Q4J36', 'Q453T', 'Q3A9K', 'Q29A6', 'Q28T6', 'Q26T5', 'JAQK4', 'JK2TQ', 'JQKA7', 'JQK82', 'JQ925', 'JQ369', 'JQ268', 'JT63A', 'J9A38', 'J892Q', 'J7693', 'J6234', 'J5A49', 'J59K6', 'J3T7Q', 'J35K4', 'J267K', 'TA59Q', 'TA4J8', 'TK653', 'TK39A', 'TQAKJ', 'T892Q', 'T8725', 'T7Q6K', 'T695J', 'T5396', 'T4JA2', 'T423A', '9AQJ6', '9K73T', '9K2AT', '9Q65K', '9Q48A', '9JKTQ', '9JQ76', '9JQ58', '9J452', '9T57K', '986T7', '96JKT', '954K2', '946Q5', '94326', '93AQ6', '93T5Q', '93457', '923T7', '8KJ63', '8K6A5', '8K2A7', '8K264', '8QT46', '8934K', '85A3T', '85T96', '859JA', '8539T', '84A9T', '846AQ', '83AJT', '83KJT', '83T4K', '8263J', '7AQT6', '7KJA8', '7KJT6', '7J3KA', '7T5Q9', '78JQA', '7865T', '76945', '75Q69', '746T8', '7453T', '73ATQ', '726T4', '724K9', '6KJ9Q', '6K5A9', '6K5Q2', '6K3AJ', '6Q7T8', '6J45K', '693KA', '68TAJ', '68T45', '6724Q', '659Q2', '64A57', '64T9K', '64T89', '6438A', '5A427', '5K743', '5K238', '5QA89', '5QJ86', '5Q7TK', '5J389', '594A6', '58A64', '5892A', '5872Q', '58437', '574T6', '542TK', '53Q2K', '53JQ4', '5394T', '536K8', '52K74', '4AQK8', '4A93J', '4Q872', '4Q3A6', '4Q28K', '4JK9Q', '4JK87', '4TKAQ', '4T9JA', '4T57J', '48396', '47K93', '47T38', '465K8', '439KT', '4278A', '423KJ', '3AQ52', '3K724', '3J94T', '3J295', '385JK', '384KQ', '37829', '3754J', '372AT', '3645K', '34KQT', '34K5A', '3245A', '2AQ93', '2A789', '2A4K5', '2K86J', '29835', '2975T', '289TK', '27QK9', '27Q8K', '26Q3J', '259K6', '23A95', '23Q57', '23TQJ', '234K5', '234T8', '23479']\n"
     ]
    }
   ],
   "source": [
    "print(org)"
   ]
  },
  {
   "cell_type": "code",
   "execution_count": 118,
   "metadata": {},
   "outputs": [
    {
     "name": "stdout",
     "output_type": "stream",
     "text": [
      "1000\n"
     ]
    }
   ],
   "source": [
    "print(len(org))"
   ]
  },
  {
   "cell_type": "markdown",
   "metadata": {},
   "source": [
    "## Part 2"
   ]
  },
  {
   "cell_type": "code",
   "execution_count": 130,
   "metadata": {},
   "outputs": [],
   "source": [
    "card_val_map_2 = {\n",
    "    '2': 0,\n",
    "    '3': 1,\n",
    "    '4':2,\n",
    "    '5':3,\n",
    "    '6':4,\n",
    "    '7':5,\n",
    "    '8':6,\n",
    "    '9':7,\n",
    "    'T':8,\n",
    "    'J':-1,\n",
    "    'Q':10,\n",
    "    'K':11,\n",
    "    'A':12\n",
    "}"
   ]
  },
  {
   "cell_type": "code",
   "execution_count": 174,
   "metadata": {},
   "outputs": [],
   "source": [
    "def full_house(hand):\n",
    "    hand_set = set(list(hand))\n",
    "\n",
    "    if hand_set == set([2,3]):\n",
    "        return True\n",
    "    else:\n",
    "        return False\n",
    "    \n",
    "def two_pair(hand):\n",
    "    hand_set = set(list(hand))\n",
    "    counts_1 = []\n",
    "    for i in hand_set:\n",
    "        counts_1.append(list(hand).count(i))\n",
    "\n",
    "    if len(counts_1) == 3:\n",
    "        return True\n",
    "    else:\n",
    "        return False"
   ]
  },
  {
   "cell_type": "code",
   "execution_count": 175,
   "metadata": {},
   "outputs": [],
   "source": [
    "def is_hand_stronger_2(hand1,hand2):\n",
    "\n",
    "    # issue - what if there are 5 Js\n",
    "\n",
    "    if 'J' not in hand1 and 'J' not in hand2:\n",
    "        return is_hand_stronger(hand1,hand2)\n",
    "    \n",
    "    else: \n",
    "\n",
    "        hand1_set = set(list(hand1))\n",
    "        hand2_set = set(list(hand2))\n",
    "\n",
    "        J_count_1 = list(hand1).count('J')\n",
    "        J_count_2 = list(hand2).count('J')\n",
    "\n",
    "        counts_1 = []\n",
    "        counts_2 = []\n",
    "        for i in hand1_set:\n",
    "            if i != 'J':\n",
    "                counts_1.append(list(hand1).count(i))\n",
    "\n",
    "        for i in hand2_set:\n",
    "            if i != 'J':\n",
    "                counts_2.append(list(hand2).count(i))\n",
    "\n",
    "        #print(counts_1, counts_2)\n",
    "        #LHS is JJJJJ\n",
    "        if counts_1 == []:\n",
    "            if max(counts_2)+J_count_2 == 5:\n",
    "                return False\n",
    "            else:\n",
    "                return True\n",
    "\n",
    "        #RHS is JJJJJ\n",
    "        elif counts_2 == []:\n",
    "            if max(counts_1)+J_count_1 == 5:\n",
    "                return True\n",
    "            else:\n",
    "                return False\n",
    "\n",
    "\n",
    " \n",
    "        elif counts_1 != [] and counts_2 != []:\n",
    "            if max(counts_1)+J_count_1 > max(counts_2)+J_count_2:\n",
    "                return True\n",
    "            elif max(counts_1)+J_count_1 < max(counts_2)+J_count_2:\n",
    "                return False\n",
    "            \n",
    "\n",
    "            elif max(counts_1)+J_count_1 == max(counts_2)+J_count_2:\n",
    "                #if we have a Joker, 3 max count means 3oak, 2 max count means pair, 4 means 4oak, 1 impossible\n",
    "                if J_count_1 == 0:\n",
    "                    #find if this makes LHS hand a FH/2 pair then compare with J hand\n",
    "\n",
    "                    #if J count + max = 3, has to be a three of a kind. \n",
    "                    if max(counts_1) == 3:\n",
    "                        # three of a kind or full house\n",
    "                        if full_house(hand1):\n",
    "                            return True\n",
    "                        else:\n",
    "                            for i in range(len(hand1)):\n",
    "                                if card_val_map_2[hand1[i]] > card_val_map_2[hand2[i]]:\n",
    "                                    return True\n",
    "                                elif card_val_map_2[hand1[i]] < card_val_map_2[hand2[i]]:\n",
    "                                        return False\n",
    "                        \n",
    "                    elif max(counts_1) == 2:\n",
    "                        if two_pair(hand1):\n",
    "                            return True\n",
    "                        else:\n",
    "                            for i in range(len(hand1)):\n",
    "                                if card_val_map_2[hand1[i]] > card_val_map_2[hand2[i]]:\n",
    "                                    return True\n",
    "                                elif card_val_map_2[hand1[i]] < card_val_map_2[hand2[i]]:\n",
    "                                    return False\n",
    "                                \n",
    "                elif J_count_2 == 0:\n",
    "                    if max(counts_2) == 3:\n",
    "                        # three of a kind or full house\n",
    "                        if full_house(hand2):\n",
    "                            return False\n",
    "                        else:\n",
    "                            for i in range(len(hand1)):\n",
    "                                if card_val_map_2[hand1[i]] > card_val_map_2[hand2[i]]:\n",
    "                                    return True\n",
    "                                elif card_val_map_2[hand1[i]] < card_val_map_2[hand2[i]]:\n",
    "                                        return False\n",
    "                        \n",
    "                    elif max(counts_2) == 2:\n",
    "                        if two_pair(hand2):\n",
    "                            return False\n",
    "                        else:\n",
    "                            for i in range(len(hand1)):\n",
    "                                if card_val_map_2[hand1[i]] > card_val_map_2[hand2[i]]:\n",
    "                                    return True\n",
    "                                elif card_val_map_2[hand1[i]] < card_val_map_2[hand2[i]]:\n",
    "                                    return False\n",
    "                else:\n",
    "                # same count but high card\n",
    "                    for i in range(len(hand1)):\n",
    "                        if card_val_map_2[hand1[i]] > card_val_map_2[hand2[i]]:\n",
    "                            return True\n",
    "                        elif card_val_map_2[hand1[i]] < card_val_map_2[hand2[i]]:\n",
    "                                return False"
   ]
  },
  {
   "cell_type": "code",
   "execution_count": 176,
   "metadata": {},
   "outputs": [],
   "source": [
    "def organise_list_2(hand_map):\n",
    "    organised_list = []\n",
    "\n",
    "    for j,hand in enumerate(hand_map.keys()):\n",
    "        #print(j)\n",
    "        \n",
    "        if organised_list == []:\n",
    "            organised_list.append(hand)\n",
    "        else:\n",
    "            for i, org_hand in enumerate(organised_list):\n",
    "                # true in is_hand_stronger means higher on list. go from index 0 being highest rank\n",
    "\n",
    "                if is_hand_stronger_2(hand,org_hand):\n",
    "                    organised_list = organised_list[:i] + [hand] + organised_list[i:]\n",
    "                    break\n",
    "                elif not is_hand_stronger_2(hand,org_hand):\n",
    "                    if i == len(organised_list)-1:\n",
    "                        organised_list.append(hand)\n",
    "                        break\n",
    "                    else:\n",
    "                        continue\n",
    "        if j+1 != len(organised_list):\n",
    "            print(j)\n",
    "        #print(len(organised_list))\n",
    "    return organised_list"
   ]
  },
  {
   "cell_type": "code",
   "execution_count": 177,
   "metadata": {},
   "outputs": [],
   "source": [
    "def part_two(hand_map, org_hand_list):\n",
    "    sum_ = 0\n",
    "    org_hand_list.reverse()\n",
    "    for i, hand in enumerate(org_hand_list):\n",
    "        sum_ += (i+1)*int(hand_map[hand])\n",
    "\n",
    "    return sum_"
   ]
  },
  {
   "cell_type": "code",
   "execution_count": 178,
   "metadata": {},
   "outputs": [],
   "source": [
    "test_org_2 = organise_list_2(test_hand_map)"
   ]
  },
  {
   "cell_type": "code",
   "execution_count": 179,
   "metadata": {},
   "outputs": [
    {
     "data": {
      "text/plain": [
       "5905"
      ]
     },
     "execution_count": 179,
     "metadata": {},
     "output_type": "execute_result"
    }
   ],
   "source": [
    "part_two(test_hand_map, test_org_2)"
   ]
  },
  {
   "cell_type": "code",
   "execution_count": 180,
   "metadata": {},
   "outputs": [
    {
     "data": {
      "text/plain": [
       "248322952"
      ]
     },
     "execution_count": 180,
     "metadata": {},
     "output_type": "execute_result"
    }
   ],
   "source": [
    "org_2 = organise_list_2(hand_map)\n",
    "\n",
    "#249896807 too high\n",
    "#249674739 too high\n",
    "#249671829 too high\n",
    "#248322952 not correct\n",
    "#248663246 not correct\n",
    "#248322952 not correct\n",
    "part_two(hand_map, org_2)"
   ]
  },
  {
   "cell_type": "code",
   "execution_count": 181,
   "metadata": {},
   "outputs": [
    {
     "name": "stdout",
     "output_type": "stream",
     "text": [
      "['23479', '234T8', '234K5', '23Q57', '23A95', '259K6', '27Q8K', '27QK9', '289TK', '2975T', '29835', '2A4K5', '2A789', '2AQ93', '3245A', '34K5A', '34KQT', '3645K', '372AT', '37829', '384KQ', '3K724', '3AQ52', '4278A', '439KT', '465K8', '47T38', '47K93', '48396', '4TKAQ', '4Q28K', '4Q3A6', '4Q872', '4AQK8', '52K74', '536K8', '5394T', '53Q2K', '542TK', '574T6', '58437', '5872Q', '5892A', '58A64', '594A6', '5Q7TK', '5QA89', '5K238', '5K743', '5A427', '6438A', '64T89', '64T9K', '64A57', '659Q2', '6724Q', '68T45', '693KA', '6Q7T8', '6K5Q2', '6K5A9', '724K9', '726T4', '73ATQ', '7453T', '746T8', '75Q69', '76945', '7865T', '7T5Q9', '7AQT6', '83T4K', '846AQ', '84A9T', '8539T', '85T96', '85A3T', '8934K', '8QT46', '8K264', '8K2A7', '8K6A5', '923T7', '93457', '93T5Q', '93AQ6', '94326', '946Q5', '954K2', '986T7', '9T57K', '9Q48A', '9Q65K', '9K2AT', '9K73T', 'T423A', 'T5396', 'T7Q6K', 'T8725', 'T892Q', 'TK39A', 'TK653', 'TA59Q', 'Q26T5', 'Q28T6', 'Q29A6', 'Q3A9K', 'Q453T', 'Q5248', 'Q7T43', 'QAK34', 'K2689', 'K5Q68', 'K786T', 'K92T7', 'K98Q4', 'KQ246', 'KQ4A7', 'KQ8A9', 'KQ96T', 'A2579', 'A37Q4', 'A4928', 'A5T8K', 'A78TK', 'AQTK6', 'AK576', 'AK893', 'AKQT3', 'J267K', 'J35K4', 'J3T7Q', 'J59K6', 'J5A49', 'J6234', 'J7693', 'J892Q', 'J9A38', 'JT63A', 'JQ268', 'JQ369', 'JQ925', 'JQK82', 'JQKA7', 'JK2TQ', 'JAQK4', '23TQJ', '26Q3J', '27664', '279Q2', '288Q9', '29A98', '2Q3K3', '2Q676', '2Q82K', '2Q883', '2K86J', '2KT23', '2A324', '2AT62', '2AK24', '3J295', '3J94T', '326K6', '35Q3A', '365Q6', '3754J', '37686', '385JK', '38AA5', '3959Q', '396Q3', '39776', '3983T', '4JK87', '4JK9Q', '423KJ', '42898', '44TA9', '44QK3', '45922', '4688T', '47559', '48945', '48TT7', '49383', '4T57J', '4T634', '4T9JA', '4TAKA', '4Q234', '4A93J', '5J389', '53JQ4', '539T5', '544Q7', '548Q5', '5494Q', '588AQ', '5T79T', '5QJ86', '5Q57K', '5K5A6', '5A228', '6J45K', '639K9', '64374', '646A9', '66249', '66Q74', '67897', '683Q8', '68TAJ', '68K48', '698K8', '6Q44A', '6Q685', '6Q877', '6KJ9Q', '6K3AJ', '6A323', '6A356', '7J3KA', '72QQ4', '7327Q', '74ATA', '75376', '754A4', '75899', '75A76', '76862', '77495', '778A3', '78JQA', '78Q48', '79228', '799T2', '7TT4Q', '7KJT6', '7KJA8', '8263J', '82KK6', '837K7', '83KJT', '83AJT', '8499Q', '8535Q', '859JA', '86323', '88K29', '897K7', '898Q7', '898AT', '8T79T', '8T7TA', '8Q48K', '8KJ63', '8AQA5', '9J452', '9JQ58', '9JQ76', '9JKTQ', '9474A', '949QT', '94KKQ', '96JKT', '97724', '97935', '99786', '9TA33', '9Q879', '9Q985', '9QQ2A', '9K895', '9AQJ6', 'T3T25', 'T3A43', 'T4JA2', 'T5352', 'T695J', 'T77QA', 'T97K9', 'T996Q', 'TT32K', 'TT8A3', 'TT9A2', 'TQAKJ', 'TK424', 'TA4J8', 'QJ36A', 'Q266A', 'Q4J36', 'Q4AQT', 'Q577A', 'Q63JT', 'Q7336', 'Q8KAK', 'QT626', 'QQ64T', 'QQ968', 'QK54J', 'QK5K7', 'KJ7Q3', 'K24K9', 'K27K8', 'K2T72', 'K4Q2K', 'K553T', 'K5K76', 'K6TTQ', 'K7Q2J', 'K85K2', 'K889Q', 'K9447', 'K958K', 'KQ49Q', 'KQT6Q', 'KAJ32', 'KA6AQ', 'AJ596', 'AJ672', 'AJTK5', 'A3282', 'A345J', 'A5T2T', 'A6JT5', 'A6K4A', 'A84J7', 'A8K82', 'A95J3', 'A9887', 'A9Q98', 'AQ7Q9', 'AKJ93', 'AK799', '2266A', '226Q6', '226K6', '22KKT', '23244', '26424', '28525', '292A9', '2T92T', '2K8K2', '32255', '32992', '32A32', '33878', '34TT4', '35735', '363K6', '366Q3', '37357', '38282', '393T9', '3KAA3', '3A3TT', '42884', '42K2K', '44662', '45745', '47466', '47724', '4QQ42', '53Q3Q', '54225', '56456', '57752', '57T7T', '59656', '5TT53', '5Q57Q', '5QKKQ', '5K445', '63638', '63A3A', '66557', '67376', '67699', '68484', '69898', '6QQ6A', '6AA63', '72572', '76227', '76337', '76679', '77969', '77Q8Q', '78448', '7QT7Q', '7K22K', '7K7KT', '82782', '82826', '82833', '8448K', '8833Q', '884A4', '88755', '8TT68', '8Q84Q', '8K66K', '8A78A', '8A82A', '8AQA8', '922KK', '9449Q', '94889', '95977', '977T9', '989KK', '99272', '9Q33Q', '9QQKK', 'T422T', 'T4994', 'T4T47', 'T5T56', 'T6T26', 'T8484', 'TT33Q', 'TT366', 'TT767', 'TT797', 'TQQ44', 'TQKQK', 'TKT33', 'Q2277', 'Q2Q28', 'Q3993', 'Q422Q', 'Q5Q99', 'Q6464', 'Q664Q', 'Q6AAQ', 'Q8989', 'QQ449', 'QQ677', 'QAA99', 'K22KQ', 'K26K2', 'K3377', 'K45K4', 'K4K46', 'K58K5', 'K656K', 'K6T6T', 'K7K97', 'K996K', 'KT2T2', 'KT2KT', 'KTK3T', 'KQK44', 'KK525', 'KK77A', 'A344A', 'A393A', 'A477A', 'A5757', 'A6776', 'A77TT', 'ATA22', 'ATA77', 'AK99K', 'AKQKQ', 'AKAK7', 'AKAK8', 'AA262', 'J2332', 'J2524', 'J2883', 'J3J87', 'J355T', 'J377Q', 'J3838', 'J3AJK', 'J3A7A', 'J4QKQ', 'J4KAA', 'J5522', 'J5AT5', 'J6959', 'J7297', 'J7793', 'J838T', 'J8662', 'J889A', 'J88AA', 'J8A2A', 'JT99T', 'JTQ2Q', 'JTK9T', 'JQQ66', 'JQK55', 'JK6J8', 'JKA44', 'JA33A', 'JAKKT', 'JAKAK', '2J55T', '2992J', '2T228', '3222T', '42TTT', '7727T', '3T3T3', '44J29', '488K8', '5A666', '66965', '7A779', '825JJ', '88485', '8Q58J', '94A44', '97888', 'T4T7T', 'T999A', '43443', '6AA6A', '73337', '76667', 'Q88J4', 'K9994', '2A2A2', '3JAJ2', '33223', '33A7J', '3636J', '37Q77', '39323', '3QQQ4', '3KQKK', '3A433', '4JJ8K', '448J8', '49A99', '5J5K6', '5333T', '55536', '59575', '668T6', '666TT', '7J272', '82J77', '82522', '84838', 'T9996', '8A8AA', '92299', '99977', 'TQTQJ', 'TAJA9', 'Q74QQ', 'Q8878', '54544', '885J5', '8T88A', '88555', '9J89K', '9QQ3Q', '44QQ4', '5T2JJ', '93353', '5Q5Q5', '66A6A', '94494', '99JAT', '99594', '9TT9T', 'TJQ2T', 'TTT65', 'Q979J', 'QTQTT', 'QQJ73', 'QQQ44', 'QKKKQ', 'K33K3', 'KK4K4', 'KK99K', 'AJ4QJ', 'A9AKA', '28828', '3J374', '3J6T6', '33354', '35444', '422K2', '5552A', '58J3J', '7727Q', '78T77', '83J84', '88829', '96J9A', 'QAQ9Q', 'A4544', '33777', '6J746', '86665', '22255', '22AAJ', '23A33', '28227', '2AA3A', '3J2J9', '33635', '355A5', '38TTT', '39J39', '44834', '4TTT8', '4K244', '64626', '64696', '72229', '77875', '63663', '6Q66Q', '77676', '77A7A', '88T8T', '88TTT', '89889', '99JT7', 'TJ37T', 'Q8KKJ', 'QQQ77', 'KTTKT', 'AJ99A', 'AJA77', 'A4777', '22772', '83J73', '85K55', '8QQQ5', 'T27TJ', 'TTT37', 'KK96K', '93993', '9595J', '99J88', 'Q2522', 'KK5K9', '35535', '66868', 'QQQAA', 'K44K4', 'K7KK7', 'A99JQ', 'ATTT8', '222TT', 'TA33J', 'QJAKA', 'K9KKT', '2AAA2', '77878', 'TJT88', 'AAAQK', '3Q3Q3', '52QJJ', 'K65KK', '26662', '2Q7JQ', '2KKJ2', '3JKKT', '333A7', '3676J', '36KKJ', '38KJK', '4J545', '4JK42', '4448Q', '46AJJ', '4KK8J', '54484', '57888', '5TK55', '6JQ67', '66683', '66555', '7JQQK', '7JKAK', '73433', '77746', '778J8', '7A775', '86766', '9TT8T', 'T8868', 'AKKK2', '44A4A', '55JTT', '5TJKT', '6J468', '66A76', '67JA6', '6K6A6', '7J989', '72787', '78QQQ', '7QTJQ', '868K8', '87J74', '95299', '999TQ', '99A96', 'TT3T6', '88448', '88833', '95955', '9A99A', 'Q88KJ', 'Q99A9', 'QQ23Q', 'K3T33', 'K66Q6', 'KA444', '84448', '9A9AA', 'Q8Q8Q', 'K9J94', 'ATTAT', 'AK7AJ', 'AK7AA', '88333', '9QQ9Q', 'T6J33', 'QQ5Q6', 'K7444', '74477', '99TT9', 'K8KJ8', 'A2AJQ', 'A6TAA', '22QQ2', '25QJQ', '3JQ3Q', '3K337', '44T47', '35533', '4J55Q', '44TJT', '4QJQ9', '5JKQJ', '55459', '58355', '5T3TT', '68Q88', '64646', '76T7J', '79877', '9A992', '99696', 'Q88Q8', 'QQ2J2', 'QQQTT', 'K8K5J', 'K8KK2', 'KT7TT', 'KK5K2', '8K88K', 'AJ855', 'A5556', '3KK3K', '9JJ36', 'T5554', 'T5558', '99Q9Q', 'T6TT6', 'QJQ26', 'KJ997', 'A58JA', 'ATQQQ', '33AAA', '39AAJ', '3TTT3', '78JQ8', '89388', '9J86J', '9K992', '55TTT', '5K6KJ', 'T344J', 'TT65J', 'TAA5A', '66655', '7JJKA', '89899', 'QJT99', 'Q4JQ4', 'QQ84Q', '54554', 'Q33QQ', 'Q5Q5Q', 'QQ2Q2', 'K2K2K', 'K999K', 'AJ955', 'A7AA7', 'A92AJ', 'AKKAK', 'AATAT', 'JJ992', 'J2J77', 'J2JTT', 'J229J', 'J55J9', 'J6656', 'J6662', 'J8JJ3', 'J83J8', 'J844J', 'J888K', 'J88T8', 'J9333', 'JQQ8J', 'JK22J', 'JKKJ4', 'JAAAT', '2J2K2', '2222Q', '227JJ', '22922', '24222', '2TTJT', '33233', '33335', '3333A', '33363', '33373', '333AJ', '38888', '39999', '3K33J', '3K333', '4J446', '4J777', '4J999', '43444', '44J24', '454J4', '4844J', '4K4J4', '4AAAA', '5JJAA', '55JA5', '555JT', '55552', '55556', '55558', '555Q5', '55755', '55955', '55K55', '59J99', '5KKKK', '6J6J4', '6J676', '64666', '65666', '66JQ6', '66266', '6636J', '66366', '66669', '6666T', '66K66', '68666', '69999', '6QQQQ', '7J757', '7J773', '7J787', '7333J', '74444', '75777', '77J5J', '773JJ', '77747', '77776', '7777T', '7777K', '77977', '77A7J', '79999', '8J882', '85888', '87777', '88J78', '88JKJ', '888J3', '8884J', '88887', '8TTTT', '8Q888', '8K888', '8A888', '9J9K9', '93J99', '94JJ9', '97JJ9', '98888', '99J79', '99JQ9', '9929J', '99499', '99899', '99992', '9999Q', '999K9', '99A99', '9TJ99', '9T999', '9KKJK', '9KKKK', 'TJ777', 'T22J2', 'T3J3J', 'T3333', 'T4444', 'T5555', 'TTJJA', 'TT2TT', 'TT7JT', 'TTT3T', 'TTTT4', 'TTTT6', 'TTTQT', 'TTTAT', 'TKKKK', 'QJQ9Q', 'QJQQ5', 'QJQQ6', 'Q3333', 'Q7777', 'QTTTJ', 'QQ2QQ', 'QQQ5Q', 'QQQQ3', 'QQQQ4', 'QAAJA', 'KJTJT', 'KJKTK', 'K66J6', 'K77J7', 'K7KKK', 'KK2KK', 'KKKJ7', 'KKKK3', 'KKKK4', 'KKKK6', 'KKKK8', 'KKKKQ', 'KAAAA', 'AJ999', 'AJTTT', 'AJAA2', 'A44J4', 'A5AAA', 'A7777', 'A8AJA', 'AQQQQ', 'AA8AA', 'AAA7A', 'AAAA2', 'AAAA9', 'AAAAQ', 'JJJJJ', 'JJJJ8', 'JJ2JJ', 'JJ333', 'JJ555', 'JJ66J', 'JJ8J8', 'JJQJQ', 'J6666', 'J9J99', 'JQJQQ', 'JQQQQ', 'JKKJK', 'JAAJA', '2J222', '22J2J', '333J3', '44JJ4', '4444J', '55J55', '6JJ66', '777JJ', '7777J', '88J8J', '8888J', '99J99', 'TJTJT', 'TTJTT', 'KKKJK', 'AAAAJ']\n"
     ]
    }
   ],
   "source": [
    "print(org_2)"
   ]
  },
  {
   "cell_type": "code",
   "execution_count": null,
   "metadata": {},
   "outputs": [],
   "source": []
  }
 ],
 "metadata": {
  "kernelspec": {
   "display_name": "Python 3",
   "language": "python",
   "name": "python3"
  },
  "language_info": {
   "codemirror_mode": {
    "name": "ipython",
    "version": 3
   },
   "file_extension": ".py",
   "mimetype": "text/x-python",
   "name": "python",
   "nbconvert_exporter": "python",
   "pygments_lexer": "ipython3",
   "version": "3.9.13"
  },
  "orig_nbformat": 4
 },
 "nbformat": 4,
 "nbformat_minor": 2
}
