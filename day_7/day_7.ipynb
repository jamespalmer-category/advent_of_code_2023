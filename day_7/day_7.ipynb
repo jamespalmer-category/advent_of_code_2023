{
 "cells": [
  {
   "cell_type": "code",
   "execution_count": 81,
   "metadata": {},
   "outputs": [],
   "source": [
    "import re\n",
    "import ast\n",
    "\n",
    "def read_file_to_string(file_path):\n",
    "    with open(file_path,'r') as f:\n",
    "        return f.read()\n",
    "    \n",
    "day_7_string = read_file_to_string('day_7_input.txt')\n",
    "day_7_test = read_file_to_string('day_7_test.txt')\n",
    "day_7_test_2 = read_file_to_string('day_7_test_2.txt')"
   ]
  },
  {
   "cell_type": "code",
   "execution_count": 82,
   "metadata": {},
   "outputs": [],
   "source": [
    "def parse_string(string):\n",
    "    day_7_list = re.split('\\n', string)\n",
    "    day_7_list = [re.split(' ', string) for string in day_7_list]\n",
    "    day_7_map = {\n",
    "        day_7_list[i][0]:day_7_list[i][1] for i in range(len(day_7_list))\n",
    "    }\n",
    "\n",
    "    return day_7_map"
   ]
  },
  {
   "cell_type": "code",
   "execution_count": 83,
   "metadata": {},
   "outputs": [],
   "source": [
    "test_hand_map = parse_string(day_7_test)\n",
    "test_hand_map_2 = parse_string(day_7_test_2)\n",
    "hand_map = parse_string(day_7_string)"
   ]
  },
  {
   "cell_type": "code",
   "execution_count": 84,
   "metadata": {},
   "outputs": [],
   "source": [
    "card_val_map = {\n",
    "    '2': 0,\n",
    "    '3': 1,\n",
    "    '4':2,\n",
    "    '5':3,\n",
    "    '6':4,\n",
    "    '7':5,\n",
    "    '8':6,\n",
    "    '9':7,\n",
    "    'T':8,\n",
    "    'J':9,\n",
    "    'Q':10,\n",
    "    'K':11,\n",
    "    'A':12\n",
    "}"
   ]
  },
  {
   "cell_type": "code",
   "execution_count": 85,
   "metadata": {},
   "outputs": [],
   "source": [
    "#two hands would never be equal :)\n",
    "def is_hand_stronger(hand1,hand2):\n",
    "\n",
    "    hand1_set = set(list(hand1))\n",
    "    hand2_set = set(list(hand2))\n",
    "\n",
    "    counts_1 = []\n",
    "    counts_2 = []\n",
    "    for i in hand1_set:\n",
    "        counts_1.append(list(hand1).count(i))\n",
    "\n",
    "    for i in hand2_set:\n",
    "        counts_2.append(list(hand2).count(i))\n",
    "\n",
    "    #print(counts_1, counts_2)\n",
    "    if max(counts_1) > max(counts_2):\n",
    "        return True\n",
    "    elif max(counts_1) < max(counts_2):\n",
    "        return False\n",
    "    \n",
    "\n",
    "    elif max(counts_1) == max(counts_2):\n",
    "        \n",
    "        if max(counts_1) == 3:\n",
    "            # three of a kind or full house\n",
    "            if len(hand1_set) < len(hand2_set):\n",
    "                return True\n",
    "            elif len(hand1_set) > len(hand2_set):\n",
    "                return False\n",
    "            \n",
    "            elif set(counts_1) == set(counts_2):\n",
    "                for i in range(len(hand1)):\n",
    "                    if card_val_map[hand1[i]] > card_val_map[hand2[i]]:\n",
    "                        return True\n",
    "                    elif card_val_map[hand1[i]] < card_val_map[hand2[i]]:\n",
    "                        return False\n",
    "            \n",
    "        elif max(counts_1) == 2:\n",
    "            #print(\"hello\")\n",
    "            # two pair or one pair\n",
    "            if len(counts_1) < len(counts_2):\n",
    "                return True\n",
    "            elif len(counts_1) > len(counts_2):\n",
    "                return False\n",
    "            \n",
    "            else:\n",
    "                for i in range(len(hand1)):\n",
    "                    #print(hand1[i], hand2[i])\n",
    "                    if card_val_map[hand1[i]] > card_val_map[hand2[i]]:\n",
    "                        #print()\n",
    "                        return True\n",
    "                    elif card_val_map[hand1[i]] < card_val_map[hand2[i]]:\n",
    "                        return False\n",
    "            \n",
    "        # same count but high card\n",
    "        else:\n",
    "            for i in range(len(hand1)):\n",
    "                if card_val_map[hand1[i]] > card_val_map[hand2[i]]:\n",
    "                    return True\n",
    "                elif card_val_map[hand1[i]] < card_val_map[hand2[i]]:\n",
    "                        return False"
   ]
  },
  {
   "cell_type": "code",
   "execution_count": 114,
   "metadata": {},
   "outputs": [],
   "source": [
    "def organise_list(hand_map):\n",
    "    organised_list = []\n",
    "\n",
    "    for j,hand in enumerate(hand_map.keys()):\n",
    "        #print(j)\n",
    "        \n",
    "        if organised_list == []:\n",
    "            organised_list.append(hand)\n",
    "        else:\n",
    "            for i, org_hand in enumerate(organised_list):\n",
    "                # true in is_hand_stronger means higher on list. go from index 0 being highest rank\n",
    "\n",
    "                if is_hand_stronger(hand,org_hand):\n",
    "                    organised_list = organised_list[:i] + [hand] + organised_list[i:]\n",
    "                    break\n",
    "                elif not is_hand_stronger(hand,org_hand):\n",
    "                    if i == len(organised_list)-1:\n",
    "                        organised_list.append(hand)\n",
    "                        break\n",
    "                    else:\n",
    "                        continue\n",
    "        if j+1 != len(organised_list):\n",
    "            print(j)\n",
    "        #print(len(organised_list))\n",
    "    return organised_list"
   ]
  },
  {
   "cell_type": "code",
   "execution_count": 115,
   "metadata": {},
   "outputs": [
    {
     "data": {
      "text/plain": [
       "'2AQ93'"
      ]
     },
     "execution_count": 115,
     "metadata": {},
     "output_type": "execute_result"
    }
   ],
   "source": [
    "list(hand_map.keys())[51]"
   ]
  },
  {
   "cell_type": "code",
   "execution_count": 116,
   "metadata": {},
   "outputs": [
    {
     "data": {
      "text/plain": [
       "False"
      ]
     },
     "execution_count": 116,
     "metadata": {},
     "output_type": "execute_result"
    }
   ],
   "source": [
    "is_hand_stronger('2AQ93','77999')"
   ]
  },
  {
   "cell_type": "code",
   "execution_count": 117,
   "metadata": {},
   "outputs": [],
   "source": [
    "org = organise_list(hand_map)"
   ]
  },
  {
   "cell_type": "code",
   "execution_count": 87,
   "metadata": {},
   "outputs": [],
   "source": [
    "test_org = organise_list(test_hand_map)\n",
    "test_org_2 = organise_list(test_hand_map_2)\n",
    "org = organise_list(hand_map)"
   ]
  },
  {
   "cell_type": "code",
   "execution_count": 127,
   "metadata": {},
   "outputs": [],
   "source": [
    "def part_one(hand_map, org_hand_list):\n",
    "    sum_ = 0\n",
    "    org_hand_list.reverse()\n",
    "    for i, hand in enumerate(org_hand_list):\n",
    "        sum_ += (i+1)*int(hand_map[hand])\n",
    "\n",
    "    return sum_"
   ]
  },
  {
   "cell_type": "code",
   "execution_count": 128,
   "metadata": {},
   "outputs": [
    {
     "data": {
      "text/plain": [
       "6440"
      ]
     },
     "execution_count": 128,
     "metadata": {},
     "output_type": "execute_result"
    }
   ],
   "source": [
    "part_one(test_hand_map, test_org)"
   ]
  },
  {
   "cell_type": "code",
   "execution_count": 126,
   "metadata": {},
   "outputs": [
    {
     "data": {
      "text/plain": [
       "82881"
      ]
     },
     "execution_count": 126,
     "metadata": {},
     "output_type": "execute_result"
    }
   ],
   "source": [
    "part_one(test_hand_map_2, test_org_2)"
   ]
  },
  {
   "cell_type": "code",
   "execution_count": 120,
   "metadata": {},
   "outputs": [
    {
     "name": "stdout",
     "output_type": "stream",
     "text": [
      "20\n"
     ]
    }
   ],
   "source": [
    "print(len(test_org_2))"
   ]
  },
  {
   "cell_type": "code",
   "execution_count": 129,
   "metadata": {},
   "outputs": [
    {
     "data": {
      "text/plain": [
       "250232501"
      ]
     },
     "execution_count": 129,
     "metadata": {},
     "output_type": "execute_result"
    }
   ],
   "source": [
    "#226955423 is too low\n",
    "#250767999 too high!\n",
    "part_one(hand_map, org)"
   ]
  },
  {
   "cell_type": "code",
   "execution_count": 121,
   "metadata": {},
   "outputs": [
    {
     "name": "stdout",
     "output_type": "stream",
     "text": [
      "['JJJJJ', 'AAAAQ', 'AAAAJ', 'AAAA9', 'AAAA2', 'AAA7A', 'AA8AA', 'AQQQQ', 'A7777', 'A5AAA', 'KAAAA', 'KKKKQ', 'KKKK8', 'KKKK6', 'KKKK4', 'KKKK3', 'KKKJK', 'KK2KK', 'K7KKK', 'QQQQ4', 'QQQQ3', 'QQQ5Q', 'QQ2QQ', 'Q7777', 'Q3333', 'JQQQQ', 'JJJJ8', 'JJ2JJ', 'J6666', 'TKKKK', 'TTJTT', 'TTTAT', 'TTTQT', 'TTTT6', 'TTTT4', 'TTT3T', 'TT2TT', 'T5555', 'T4444', 'T3333', '9KKKK', '9T999', '99A99', '99J99', '999K9', '9999Q', '99992', '99899', '99499', '98888', '8A888', '8K888', '8Q888', '8TTTT', '8888J', '88887', '87777', '85888', '79999', '77977', '7777K', '7777J', '7777T', '77776', '77747', '75777', '74444', '6QQQQ', '69999', '68666', '66K66', '6666T', '66669', '66366', '66266', '65666', '64666', '5KKKK', '55K55', '55J55', '55955', '55755', '555Q5', '55558', '55556', '55552', '4AAAA', '4444J', '43444', '3K333', '39999', '38888', '333J3', '33373', '33363', '3333A', '33335', '33233', '2J222', '24222', '22922', '2222Q', 'AATAT', 'AKKAK', 'ATTAT', 'A7AA7', 'KK99K', 'KK4K4', 'KTTKT', 'K999K', 'K7KK7', 'K44K4', 'K33K3', 'K2K2K', 'QKKKQ', 'QQQAA', 'QQQTT', 'QQQ77', 'QQQ44', 'QQ2Q2', 'QTQTT', 'Q8Q8Q', 'Q88Q8', 'Q5Q5Q', 'Q33QQ', 'JAAJA', 'JKKJK', 'JQJQQ', 'JJQJQ', 'JJ8J8', 'JJ66J', 'JJ555', 'JJ333', 'J9J99', 'TJTJT', 'T6TT6', '9A9AA', '9A99A', '9QQ9Q', '9TT9T', '99Q9Q', '99TT9', '99977', '99696', '95955', '94494', '93993', '92299', '8A8AA', '8K88K', '89899', '89889', '88J8J', '88TTT', '88T8T', '88833', '88555', '88448', '88333', '84448', '77A7A', '77878', '777JJ', '77676', '76667', '74477', '73337', '6AA6A', '6Q66Q', '6JJ66', '66A6A', '66868', '666TT', '66655', '66555', '64646', '63663', '5Q5Q5', '55TTT', '54554', '54544', '44A4A', '44QQ4', '44JJ4', '43443', '3KK3K', '3Q3Q3', '3TTT3', '3T3T3', '35535', '35533', '33AAA', '33777', '33223', '2AAA2', '2A2A2', '28828', '26662', '22QQ2', '22J2J', '22772', '222TT', '22255', 'AAAQK', 'AKKK2', 'AK7AA', 'AJAA2', 'AJTTT', 'AJ999', 'ATQQQ', 'ATTT8', 'A9AKA', 'A8AJA', 'A6TAA', 'A5556', 'A4777', 'A4544', 'A44J4', 'KA444', 'KKKJ7', 'KK96K', 'KK5K9', 'KK5K2', 'KJKTK', 'KT7TT', 'K9KKT', 'K9994', 'K8KK2', 'K77J7', 'K7444', 'K66Q6', 'K66J6', 'K65KK', 'K3T33', 'QAAJA', 'QAQ9Q', 'QQ84Q', 'QQ5Q6', 'QQ23Q', 'QJQQ6', 'QJQQ5', 'QJQ9Q', 'QTTTJ', 'Q99A9', 'Q8878', 'Q74QQ', 'Q2522', 'JAAAT', 'J9333', 'J8JJ3', 'J88T8', 'J888K', 'J6662', 'J6656', 'TAA5A', 'TJ777', 'TTT65', 'TTT37', 'TT7JT', 'TT3T6', 'T999A', 'T9996', 'T8868', 'T5558', 'T5554', 'T4T7T', 'T22J2', '9A992', '9KKJK', '9K992', '9QQ3Q', '9J9K9', '9TJ99', '9TT8T', '99A96', '99JQ9', '99J79', '999TQ', '99594', '9929J', '97888', '95299', '94A44', '93J99', '93353', '8QQQ5', '8J882', '8T88A', '89388', '88J78', '888J3', '8884J', '88829', '88485', '868K8', '86766', '86665', '85K55', '84838', '82522', '7A779', '7A775', '7J787', '7J773', '7J757', '79877', '78QQQ', '78T77', '77A7J', '77875', '77746', '7727Q', '7727T', '73433', '7333J', '72787', '72229', '6K6A6', '6J676', '68Q88', '66A76', '66JQ6', '66965', '668T6', '66683', '6636J', '64696', '64626', '5A666', '5TK55', '5T3TT', '59J99', '59575', '58355', '57888', '55JA5', '555JT', '55536', '5552A', '55459', '54484', '5333T', '4K4J4', '4K244', '4J999', '4J777', '4J446', '4TTT8', '49A99', '488K8', '4844J', '454J4', '44J24', '44T47', '44834', '4448Q', '42TTT', '422K2', '3A433', '3KQKK', '3K33J', '3K337', '3QQQ4', '39323', '38TTT', '37Q77', '355A5', '35444', '33635', '333AJ', '333A7', '33354', '3222T', '2AA3A', '2J2K2', '2TTJT', '2T228', '28227', '23A33', 'AA262', 'AKAK8', 'AKAK7', 'AKQKQ', 'AK99K', 'AJA77', 'AJ99A', 'ATA77', 'ATA22', 'A77TT', 'A6776', 'A5757', 'A477A', 'A393A', 'A344A', 'KK77A', 'KK525', 'KQK44', 'KJTJT', 'KTK3T', 'KT2KT', 'KT2T2', 'K996K', 'K8KJ8', 'K7K97', 'K6T6T', 'K656K', 'K58K5', 'K4K46', 'K45K4', 'K3377', 'K26K2', 'K22KQ', 'QAA99', 'QQ677', 'QQ449', 'QQ2J2', 'Q8989', 'Q6AAQ', 'Q664Q', 'Q6464', 'Q5Q99', 'Q4JQ4', 'Q422Q', 'Q3993', 'Q2Q28', 'Q2277', 'JAKAK', 'JA33A', 'JKKJ4', 'JK22J', 'JQQ8J', 'JQQ66', 'JJ992', 'JT99T', 'J88AA', 'J844J', 'J83J8', 'J55J9', 'J5522', 'J3838', 'J2JTT', 'J2J77', 'J2332', 'J229J', 'TKT33', 'TQKQK', 'TQQ44', 'TQTQJ', 'TJT88', 'TTJJA', 'TT797', 'TT767', 'TT366', 'TT33Q', 'T8484', 'T6T26', 'T5T56', 'T4T47', 'T4994', 'T422T', 'T3J3J', '9QQKK', '9Q33Q', '99J88', '99272', '989KK', '97JJ9', '977T9', '95977', '9595J', '94JJ9', '94889', '9449Q', '922KK', '8AQA8', '8A82A', '8A78A', '8K66K', '8Q84Q', '8TT68', '88JKJ', '88755', '885J5', '884A4', '8833Q', '8448K', '82833', '82826', '82782', '7K7KT', '7K22K', '7QT7Q', '7J272', '78448', '77Q8Q', '77J5J', '77969', '778J8', '773JJ', '76679', '76337', '76227', '72572', '6AA63', '6QQ6A', '6J6J4', '69898', '68484', '67699', '67376', '66557', '63A3A', '63638', '5K445', '5QKKQ', '5Q57Q', '5JJAA', '5TT53', '59656', '57T7T', '57752', '56456', '55JTT', '54225', '53Q3Q', '4QQ42', '4J545', '47724', '47466', '45745', '44TJT', '448J8', '44662', '42K2K', '42884', '3A3TT', '3KAA3', '3JQ3Q', '39J39', '393T9', '38282', '37357', '366Q3', '363K6', '3636J', '35735', '34TT4', '33878', '32A32', '32992', '32255', '2KKJ2', '2K8K2', '2T92T', '2992J', '292A9', '28525', '26424', '23244', '22AAJ', '22KKT', '227JJ', '226K6', '226Q6', '2266A', 'AK7AJ', 'AK799', 'AQ7Q9', 'AJ955', 'AJ855', 'AJ4QJ', 'A9Q98', 'A99JQ', 'A9887', 'A92AJ', 'A8K82', 'A6K4A', 'A5T2T', 'A58JA', 'A3282', 'A2AJQ', 'KA6AQ', 'KQT6Q', 'KQ49Q', 'KJ997', 'K9J94', 'K958K', 'K9447', 'K8K5J', 'K889Q', 'K85K2', 'K6TTQ', 'K5K76', 'K553T', 'K4Q2K', 'K2T72', 'K27K8', 'K24K9', 'QK5K7', 'QQJ73', 'QQ968', 'QQ64T', 'QJAKA', 'QJQ26', 'QJT99', 'QT626', 'Q979J', 'Q8KAK', 'Q8KKJ', 'Q88KJ', 'Q88J4', 'Q7336', 'Q577A', 'Q4AQT', 'Q266A', 'JAKKT', 'JKA44', 'JK6J8', 'JQK55', 'JTK9T', 'JTQ2Q', 'J8A2A', 'J889A', 'J8662', 'J838T', 'J7793', 'J7297', 'J6959', 'J5AT5', 'J4KAA', 'J4QKQ', 'J3AJK', 'J3A7A', 'J3J87', 'J377Q', 'J355T', 'J2883', 'J2524', 'TAJA9', 'TA33J', 'TK424', 'TJQ2T', 'TJ37T', 'TT9A2', 'TT8A3', 'TT65J', 'TT32K', 'T996Q', 'T97K9', 'T77QA', 'T6J33', 'T5352', 'T3A43', 'T3T25', 'T344J', 'T27TJ', '9K895', '9QQ2A', '9Q985', '9Q879', '9JJ36', '9J89K', '9J86J', '9TA33', '99JAT', '99JT7', '99786', '97935', '97724', '96J9A', '94KKQ', '949QT', '9474A', '8AQA5', '8Q58J', '8Q48K', '8T7TA', '8T79T', '898AT', '898Q7', '897K7', '88K29', '87J74', '86323', '8535Q', '8499Q', '83J84', '83J73', '837K7', '82KK6', '82J77', '825JJ', '7QTJQ', '7JKAK', '7JQQK', '7JJKA', '7J989', '7TT4Q', '799T2', '79228', '78Q48', '78JQ8', '778A3', '77495', '76T7J', '76862', '75A76', '75899', '754A4', '75376', '74ATA', '7327Q', '72QQ4', '6A356', '6A323', '6Q877', '6Q685', '6Q44A', '6JQ67', '6J746', '6J468', '698K8', '68K48', '683Q8', '67JA6', '67897', '66Q74', '66249', '646A9', '64374', '639K9', '5A228', '5K6KJ', '5K5A6', '5Q57K', '5JKQJ', '5J5K6', '5TJKT', '5T79T', '5T2JJ', '58J3J', '588AQ', '5494Q', '548Q5', '544Q7', '539T5', '52QJJ', '4KK8J', '4QJQ9', '4Q234', '4JK42', '4JJ8K', '4J55Q', '4TAKA', '4T634', '49383', '48TT7', '48945', '47559', '46AJJ', '4688T', '45922', '44QK3', '44J29', '44TA9', '42898', '3JAJ2', '3JKKT', '3J6T6', '3J374', '3J2J9', '39AAJ', '3983T', '39776', '396Q3', '3959Q', '38AA5', '38KJK', '37686', '36KKJ', '3676J', '365Q6', '35Q3A', '33A7J', '326K6', '2AK24', '2AT62', '2A324', '2KT23', '2Q883', '2Q82K', '2Q7JQ', '2Q676', '2Q3K3', '2J55T', '29A98', '288Q9', '279Q2', '27664', '25QJQ', 'AKQT3', 'AKJ93', 'AK893', 'AK576', 'AQTK6', 'AJTK5', 'AJ672', 'AJ596', 'A95J3', 'A84J7', 'A78TK', 'A6JT5', 'A5T8K', 'A4928', 'A37Q4', 'A345J', 'A2579', 'KAJ32', 'KQ96T', 'KQ8A9', 'KQ4A7', 'KQ246', 'KJ7Q3', 'K98Q4', 'K92T7', 'K7Q2J', 'K786T', 'K5Q68', 'K2689', 'QAK34', 'QK54J', 'QJ36A', 'Q7T43', 'Q63JT', 'Q5248', 'Q4J36', 'Q453T', 'Q3A9K', 'Q29A6', 'Q28T6', 'Q26T5', 'JAQK4', 'JK2TQ', 'JQKA7', 'JQK82', 'JQ925', 'JQ369', 'JQ268', 'JT63A', 'J9A38', 'J892Q', 'J7693', 'J6234', 'J5A49', 'J59K6', 'J3T7Q', 'J35K4', 'J267K', 'TA59Q', 'TA4J8', 'TK653', 'TK39A', 'TQAKJ', 'T892Q', 'T8725', 'T7Q6K', 'T695J', 'T5396', 'T4JA2', 'T423A', '9AQJ6', '9K73T', '9K2AT', '9Q65K', '9Q48A', '9JKTQ', '9JQ76', '9JQ58', '9J452', '9T57K', '986T7', '96JKT', '954K2', '946Q5', '94326', '93AQ6', '93T5Q', '93457', '923T7', '8KJ63', '8K6A5', '8K2A7', '8K264', '8QT46', '8934K', '85A3T', '85T96', '859JA', '8539T', '84A9T', '846AQ', '83AJT', '83KJT', '83T4K', '8263J', '7AQT6', '7KJA8', '7KJT6', '7J3KA', '7T5Q9', '78JQA', '7865T', '76945', '75Q69', '746T8', '7453T', '73ATQ', '726T4', '724K9', '6KJ9Q', '6K5A9', '6K5Q2', '6K3AJ', '6Q7T8', '6J45K', '693KA', '68TAJ', '68T45', '6724Q', '659Q2', '64A57', '64T9K', '64T89', '6438A', '5A427', '5K743', '5K238', '5QA89', '5QJ86', '5Q7TK', '5J389', '594A6', '58A64', '5892A', '5872Q', '58437', '574T6', '542TK', '53Q2K', '53JQ4', '5394T', '536K8', '52K74', '4AQK8', '4A93J', '4Q872', '4Q3A6', '4Q28K', '4JK9Q', '4JK87', '4TKAQ', '4T9JA', '4T57J', '48396', '47K93', '47T38', '465K8', '439KT', '4278A', '423KJ', '3AQ52', '3K724', '3J94T', '3J295', '385JK', '384KQ', '37829', '3754J', '372AT', '3645K', '34KQT', '34K5A', '3245A', '2AQ93', '2A789', '2A4K5', '2K86J', '29835', '2975T', '289TK', '27QK9', '27Q8K', '26Q3J', '259K6', '23A95', '23Q57', '23TQJ', '234K5', '234T8', '23479']\n"
     ]
    }
   ],
   "source": [
    "print(org)"
   ]
  },
  {
   "cell_type": "code",
   "execution_count": 118,
   "metadata": {},
   "outputs": [
    {
     "name": "stdout",
     "output_type": "stream",
     "text": [
      "1000\n"
     ]
    }
   ],
   "source": [
    "print(len(org))"
   ]
  },
  {
   "cell_type": "markdown",
   "metadata": {},
   "source": [
    "## Part 2"
   ]
  },
  {
   "cell_type": "code",
   "execution_count": 130,
   "metadata": {},
   "outputs": [],
   "source": [
    "card_val_map_2 = {\n",
    "    '2': 0,\n",
    "    '3': 1,\n",
    "    '4':2,\n",
    "    '5':3,\n",
    "    '6':4,\n",
    "    '7':5,\n",
    "    '8':6,\n",
    "    '9':7,\n",
    "    'T':8,\n",
    "    'J':-1,\n",
    "    'Q':10,\n",
    "    'K':11,\n",
    "    'A':12\n",
    "}"
   ]
  },
  {
   "cell_type": "code",
   "execution_count": 231,
   "metadata": {},
   "outputs": [],
   "source": [
    "def full_house(hand):\n",
    "    if 'J' not in hand:\n",
    "        hand_set = set(list(hand))\n",
    "        counts_1 = []\n",
    "        for i in hand_set:\n",
    "            counts_1.append(list(hand).count(i))\n",
    "\n",
    "        if set(counts_1) == set([2,3]):\n",
    "            return True\n",
    "        else:\n",
    "            return False\n",
    "    elif 'J' in hand:\n",
    "        hand_set = set(list(hand))\n",
    "        counts_1 = []\n",
    "        for i in hand_set:\n",
    "            if i != 'J':\n",
    "                counts_1.append(list(hand).count(i))\n",
    "        if counts_1 != [2,2]:\n",
    "            return False\n",
    "        else:\n",
    "            return True\n",
    "    \n",
    "def two_pair(hand):\n",
    "    if 'J' not in hand:\n",
    "        hand_set = set(list(hand))\n",
    "        counts_1 = []\n",
    "        for i in hand_set:\n",
    "            counts_1.append(list(hand).count(i))\n",
    "\n",
    "        if len(counts_1) == 3:\n",
    "            return True\n",
    "        else:\n",
    "            return False\n",
    "    else:\n",
    "        return False"
   ]
  },
  {
   "cell_type": "code",
   "execution_count": 230,
   "metadata": {},
   "outputs": [
    {
     "data": {
      "text/plain": [
       "True"
      ]
     },
     "execution_count": 230,
     "metadata": {},
     "output_type": "execute_result"
    }
   ],
   "source": [
    "full_house('J88KK')"
   ]
  },
  {
   "cell_type": "code",
   "execution_count": 233,
   "metadata": {},
   "outputs": [],
   "source": [
    "def is_hand_stronger_2(hand1,hand2):\n",
    "\n",
    "    # issue - what if there are 5 Js\n",
    "\n",
    "    if 'J' not in hand1 and 'J' not in hand2:\n",
    "        return is_hand_stronger(hand1,hand2)\n",
    "    \n",
    "    else: \n",
    "\n",
    "        hand1_set = set(list(hand1))\n",
    "        hand2_set = set(list(hand2))\n",
    "\n",
    "        J_count_1 = list(hand1).count('J')\n",
    "        J_count_2 = list(hand2).count('J')\n",
    "\n",
    "        counts_1 = []\n",
    "        counts_2 = []\n",
    "        for i in hand1_set:\n",
    "            if i != 'J':\n",
    "                counts_1.append(list(hand1).count(i))\n",
    "\n",
    "        for i in hand2_set:\n",
    "            if i != 'J':\n",
    "                counts_2.append(list(hand2).count(i))\n",
    "\n",
    "        #print(counts_1, counts_2)\n",
    "        #LHS is JJJJJ\n",
    "        if counts_1 == []:\n",
    "            if max(counts_2)+J_count_2 == 5:\n",
    "                return False\n",
    "            else:\n",
    "                return True\n",
    "\n",
    "        #RHS is JJJJJ\n",
    "        elif counts_2 == []:\n",
    "            if max(counts_1)+J_count_1 == 5:\n",
    "                return True\n",
    "            else:\n",
    "                return False\n",
    "\n",
    "\n",
    " \n",
    "        elif counts_1 != [] and counts_2 != []:\n",
    "            if max(counts_1)+J_count_1 > max(counts_2)+J_count_2:\n",
    "                return True\n",
    "            elif max(counts_1)+J_count_1 < max(counts_2)+J_count_2:\n",
    "                return False\n",
    "            \n",
    "\n",
    "            elif max(counts_1)+J_count_1 == max(counts_2)+J_count_2:\n",
    "\n",
    "                if max(counts_1)+J_count_1 == 3:\n",
    "                    if full_house(hand1) == full_house(hand2):\n",
    "                        for i in range(len(hand1)):\n",
    "                            if card_val_map_2[hand1[i]] > card_val_map_2[hand2[i]]:\n",
    "                                return True\n",
    "                            elif card_val_map_2[hand1[i]] < card_val_map_2[hand2[i]]:\n",
    "                                    return False\n",
    "                    elif full_house(hand1) and not full_house(hand2):\n",
    "                        return True\n",
    "                    elif (not full_house(hand1)) and full_house(hand2):\n",
    "                        return False\n",
    "                \n",
    "                elif max(counts_1)+J_count_1 == 2:\n",
    "                    if two_pair(hand1) == two_pair(hand2):\n",
    "                        for i in range(len(hand1)):\n",
    "                            if card_val_map_2[hand1[i]] > card_val_map_2[hand2[i]]:\n",
    "                                return True\n",
    "                            elif card_val_map_2[hand1[i]] < card_val_map_2[hand2[i]]:\n",
    "                                    return False\n",
    "                    elif two_pair(hand1) and not two_pair(hand2):\n",
    "                        return True\n",
    "                    elif (not two_pair(hand1)) and two_pair(hand2):\n",
    "                        return False\n",
    "               \n",
    "                else:\n",
    "                # same count but high card\n",
    "                    for i in range(len(hand1)):\n",
    "                        if card_val_map_2[hand1[i]] > card_val_map_2[hand2[i]]:\n",
    "                            return True\n",
    "                        elif card_val_map_2[hand1[i]] < card_val_map_2[hand2[i]]:\n",
    "                                return False"
   ]
  },
  {
   "cell_type": "code",
   "execution_count": 234,
   "metadata": {},
   "outputs": [],
   "source": [
    "def organise_list_2(hand_map):\n",
    "    organised_list = []\n",
    "\n",
    "    for j,hand in enumerate(hand_map.keys()):\n",
    "        #print(j)\n",
    "        \n",
    "        if organised_list == []:\n",
    "            organised_list.append(hand)\n",
    "        else:\n",
    "            for i, org_hand in enumerate(organised_list):\n",
    "                # true in is_hand_stronger means higher on list. go from index 0 being highest rank\n",
    "\n",
    "                if is_hand_stronger_2(hand,org_hand):\n",
    "                    organised_list = organised_list[:i] + [hand] + organised_list[i:]\n",
    "                    break\n",
    "                elif not is_hand_stronger_2(hand,org_hand):\n",
    "                    if i == len(organised_list)-1:\n",
    "                        organised_list.append(hand)\n",
    "                        break\n",
    "                    else:\n",
    "                        continue\n",
    "        if j+1 != len(organised_list):\n",
    "            print(j)\n",
    "        #print(len(organised_list))\n",
    "    return organised_list"
   ]
  },
  {
   "cell_type": "code",
   "execution_count": 235,
   "metadata": {},
   "outputs": [],
   "source": [
    "def part_two(hand_map, org_hand_list):\n",
    "    sum_ = 0\n",
    "    org_hand_list.reverse()\n",
    "    for i, hand in enumerate(org_hand_list):\n",
    "        sum_ += (i+1)*int(hand_map[hand])\n",
    "\n",
    "    return sum_"
   ]
  },
  {
   "cell_type": "code",
   "execution_count": 236,
   "metadata": {},
   "outputs": [],
   "source": [
    "test_org_2 = organise_list_2(test_hand_map)"
   ]
  },
  {
   "cell_type": "code",
   "execution_count": 237,
   "metadata": {},
   "outputs": [
    {
     "data": {
      "text/plain": [
       "5905"
      ]
     },
     "execution_count": 237,
     "metadata": {},
     "output_type": "execute_result"
    }
   ],
   "source": [
    "part_two(test_hand_map, test_org_2)"
   ]
  },
  {
   "cell_type": "code",
   "execution_count": 238,
   "metadata": {},
   "outputs": [
    {
     "data": {
      "text/plain": [
       "249138943"
      ]
     },
     "execution_count": 238,
     "metadata": {},
     "output_type": "execute_result"
    }
   ],
   "source": [
    "org_2 = organise_list_2(hand_map)\n",
    "\n",
    "#249896807 too high\n",
    "#249674739 too high\n",
    "#249671829 too high\n",
    "#249445182 not correct\n",
    "#248513974\n",
    "#248322952 not correct\n",
    "#248663246 not correct\n",
    "#248322952 not correct\n",
    "\n",
    "part_two(hand_map, org_2)"
   ]
  },
  {
   "cell_type": "code",
   "execution_count": 239,
   "metadata": {},
   "outputs": [],
   "source": [
    "# can have a full house with J if you also have two pairs"
   ]
  },
  {
   "cell_type": "code",
   "execution_count": 240,
   "metadata": {},
   "outputs": [
    {
     "name": "stdout",
     "output_type": "stream",
     "text": [
      "['23479', '234T8', '234K5', '23Q57', '23A95', '259K6', '27Q8K', '27QK9', '289TK', '2975T', '29835', '2A4K5', '2A789', '2AQ93', '3245A', '34K5A', '34KQT', '3645K', '372AT', '37829', '384KQ', '3K724', '3AQ52', '4278A', '439KT', '465K8', '47T38', '47K93', '48396', '4TKAQ', '4Q28K', '4Q3A6', '4Q872', '4AQK8', '52K74', '536K8', '5394T', '53Q2K', '542TK', '574T6', '58437', '5872Q', '5892A', '58A64', '594A6', '5Q7TK', '5QA89', '5K238', '5K743', '5A427', '6438A', '64T89', '64T9K', '64A57', '659Q2', '6724Q', '68T45', '693KA', '6Q7T8', '6K5Q2', '6K5A9', '724K9', '726T4', '73ATQ', '7453T', '746T8', '75Q69', '76945', '7865T', '7T5Q9', '7AQT6', '83T4K', '846AQ', '84A9T', '8539T', '85T96', '85A3T', '8934K', '8QT46', '8K264', '8K2A7', '8K6A5', '923T7', '93457', '93T5Q', '93AQ6', '94326', '946Q5', '954K2', '986T7', '9T57K', '9Q48A', '9Q65K', '9K2AT', '9K73T', 'T423A', 'T5396', 'T7Q6K', 'T8725', 'T892Q', 'TK39A', 'TK653', 'TA59Q', 'Q26T5', 'Q28T6', 'Q29A6', 'Q3A9K', 'Q453T', 'Q5248', 'Q7T43', 'QAK34', 'K2689', 'K5Q68', 'K786T', 'K92T7', 'K98Q4', 'KQ246', 'KQ4A7', 'KQ8A9', 'KQ96T', 'A2579', 'A37Q4', 'A4928', 'A5T8K', 'A78TK', 'AQTK6', 'AK576', 'AK893', 'AKQT3', 'J267K', 'J35K4', 'J3T7Q', 'J59K6', 'J5A49', 'J6234', 'J7693', 'J892Q', 'J9A38', 'JT63A', 'JQ268', 'JQ369', 'JQ925', 'JQK82', 'JQKA7', 'JK2TQ', 'JAQK4', '23TQJ', '26Q3J', '27664', '279Q2', '288Q9', '29A98', '2Q3K3', '2Q676', '2Q82K', '2Q883', '2K86J', '2KT23', '2A324', '2AT62', '2AK24', '3J295', '3J94T', '326K6', '35Q3A', '365Q6', '3754J', '37686', '385JK', '38AA5', '3959Q', '396Q3', '39776', '3983T', '4JK87', '4JK9Q', '423KJ', '42898', '44TA9', '44QK3', '45922', '4688T', '47559', '48945', '48TT7', '49383', '4T57J', '4T634', '4T9JA', '4TAKA', '4Q234', '4A93J', '5J389', '53JQ4', '539T5', '544Q7', '548Q5', '5494Q', '588AQ', '5T79T', '5QJ86', '5Q57K', '5K5A6', '5A228', '6J45K', '639K9', '64374', '646A9', '66249', '66Q74', '67897', '683Q8', '68TAJ', '68K48', '698K8', '6Q44A', '6Q685', '6Q877', '6KJ9Q', '6K3AJ', '6A323', '6A356', '7J3KA', '72QQ4', '7327Q', '74ATA', '75376', '754A4', '75899', '75A76', '76862', '77495', '778A3', '78JQA', '78Q48', '79228', '799T2', '7TT4Q', '7KJT6', '7KJA8', '8263J', '82KK6', '837K7', '83KJT', '83AJT', '8499Q', '8535Q', '859JA', '86323', '88K29', '897K7', '898Q7', '898AT', '8T79T', '8T7TA', '8Q48K', '8KJ63', '8AQA5', '9J452', '9JQ58', '9JQ76', '9JKTQ', '9474A', '949QT', '94KKQ', '96JKT', '97724', '97935', '99786', '9TA33', '9Q879', '9Q985', '9QQ2A', '9K895', '9AQJ6', 'T3T25', 'T3A43', 'T4JA2', 'T5352', 'T695J', 'T77QA', 'T97K9', 'T996Q', 'TT32K', 'TT8A3', 'TT9A2', 'TQAKJ', 'TK424', 'TA4J8', 'QJ36A', 'Q266A', 'Q4J36', 'Q4AQT', 'Q577A', 'Q63JT', 'Q7336', 'Q8KAK', 'QT626', 'QQ64T', 'QQ968', 'QK54J', 'QK5K7', 'KJ7Q3', 'K24K9', 'K27K8', 'K2T72', 'K4Q2K', 'K553T', 'K5K76', 'K6TTQ', 'K7Q2J', 'K85K2', 'K889Q', 'K9447', 'K958K', 'KQ49Q', 'KQT6Q', 'KAJ32', 'KA6AQ', 'AJ596', 'AJ672', 'AJTK5', 'A3282', 'A345J', 'A5T2T', 'A6JT5', 'A6K4A', 'A84J7', 'A8K82', 'A95J3', 'A9887', 'A9Q98', 'AQ7Q9', 'AKJ93', 'AK799', '2266A', '226Q6', '226K6', '22KKT', '23244', '26424', '28525', '292A9', '2T92T', '2K8K2', '32255', '32992', '32A32', '33878', '34TT4', '35735', '363K6', '366Q3', '37357', '38282', '393T9', '3KAA3', '3A3TT', '42884', '42K2K', '44662', '45745', '47466', '47724', '4QQ42', '53Q3Q', '54225', '56456', '57752', '57T7T', '59656', '5TT53', '5Q57Q', '5QKKQ', '5K445', '63638', '63A3A', '66557', '67376', '67699', '68484', '69898', '6QQ6A', '6AA63', '72572', '76227', '76337', '76679', '77969', '77Q8Q', '78448', '7QT7Q', '7K22K', '7K7KT', '82782', '82826', '82833', '8448K', '8833Q', '884A4', '88755', '8TT68', '8Q84Q', '8K66K', '8A78A', '8A82A', '8AQA8', '922KK', '9449Q', '94889', '95977', '977T9', '989KK', '99272', '9Q33Q', '9QQKK', 'T422T', 'T4994', 'T4T47', 'T5T56', 'T6T26', 'T8484', 'TT33Q', 'TT366', 'TT767', 'TT797', 'TQQ44', 'TQKQK', 'TKT33', 'Q2277', 'Q2Q28', 'Q3993', 'Q422Q', 'Q5Q99', 'Q6464', 'Q664Q', 'Q6AAQ', 'Q8989', 'QQ449', 'QQ677', 'QAA99', 'K22KQ', 'K26K2', 'K3377', 'K45K4', 'K4K46', 'K58K5', 'K656K', 'K6T6T', 'K7K97', 'K996K', 'KT2T2', 'KT2KT', 'KTK3T', 'KQK44', 'KK525', 'KK77A', 'A344A', 'A393A', 'A477A', 'A5757', 'A6776', 'A77TT', 'ATA22', 'ATA77', 'AK99K', 'AKQKQ', 'AKAK7', 'AKAK8', 'AA262', 'J2524', 'J2883', 'J3J87', 'J355T', 'J377Q', 'J3AJK', 'J3A7A', 'J4QKQ', 'J4KAA', 'J5AT5', 'J6959', 'J7297', 'J7793', 'J838T', 'J8662', 'J889A', 'J8A2A', 'JTQ2Q', 'JTK9T', 'JQK55', 'JK6J8', 'JKA44', 'JAKKT', '2J55T', '23A33', '25QJQ', '28227', '2T228', '2Q7JQ', '2AA3A', '3J2J9', '3J374', '3J6T6', '3JKKT', '3JAJ2', '3222T', '33354', '333A7', '33635', '33A7J', '35444', '355A5', '3676J', '36KKJ', '37Q77', '38TTT', '38KJK', '39323', '39AAJ', '3QQQ4', '3K337', '3KQKK', '3A433', '4JJ8K', '4J55Q', '4JK42', '422K2', '42TTT', '44J29', '4448Q', '44834', '44T47', '46AJJ', '488K8', '49A99', '4TTT8', '4QJQ9', '4K244', '4KK8J', '5J5K6', '5JKQJ', '52QJJ', '5333T', '54484', '55459', '5552A', '55536', '57888', '58J3J', '58355', '59575', '5TJKT', '5T2JJ', '5T3TT', '5TK55', '5K6KJ', '5A666', '6J468', '6J746', '6JQ67', '64626', '64696', '66683', '668T6', '66965', '66A76', '67JA6', '68Q88', '6K6A6', '7JJKA', '7J989', '7JQQK', '7JKAK', '72229', '72787', '73433', '76T7J', '7727T', '7727Q', '77746', '77875', '78JQ8', '78T77', '78QQQ', '79877', '7QTJQ', '7A775', '7A779', '82J77', '825JJ', '82522', '83J73', '83J84', '84838', '85K55', '86665', '86766', '868K8', '87J74', '88485', '88829', '89388', '8T88A', '8Q58J', '8QQQ5', '9JJ36', '9J86J', '9J89K', '93353', '94A44', '95299', '96J9A', '97888', '99JT7', '99JAT', '99594', '999TQ', '99A96', '9TT8T', '9QQ3Q', '9K992', '9A992', 'TJ37T', 'TJQ2T', 'T27TJ', 'T344J', 'T4T7T', 'T5554', 'T5558', 'T6J33', 'T8868', 'T9996', 'T999A', 'TT3T6', 'TT65J', 'TTT37', 'TTT65', 'TAJA9', 'TA33J', 'TAA5A', 'QJT99', 'QJQ26', 'QJAKA', 'Q2522', 'Q74QQ', 'Q88J4', 'Q8878', 'Q88KJ', 'Q8KKJ', 'Q979J', 'Q99A9', 'QQJ73', 'QQ23Q', 'QQ5Q6', 'QQ84Q', 'QAQ9Q', 'KJ997', 'K3T33', 'K65KK', 'K66Q6', 'K7444', 'K8K5J', 'K8KK2', 'K9J94', 'K9994', 'K9KKT', 'KT7TT', 'KK5K2', 'KK5K9', 'KK96K', 'KA444', 'AJ4QJ', 'AJ855', 'AJ955', 'A2AJQ', 'A4544', 'A4777', 'A5556', 'A58JA', 'A6TAA', 'A92AJ', 'A99JQ', 'A9AKA', 'ATTT8', 'ATQQQ', 'AK7AJ', 'AK7AA', 'AKKK2', 'AAAQK', 'J2332', 'J3838', 'J5522', 'J88AA', 'JT99T', 'JQQ66', 'JA33A', 'JAKAK', '22255', '222TT', '22772', '22QQ2', '22AAJ', '26662', '28828', '2992J', '2KKJ2', '2A2A2', '2AAA2', '3JQ3Q', '33223', '33777', '33AAA', '35533', '35535', '3636J', '39J39', '3T3T3', '3TTT3', '3Q3Q3', '3KK3K', '4J545', '43443', '448J8', '44TJT', '44QQ4', '44A4A', '54544', '54554', '55JTT', '55TTT', '5Q5Q5', '63663', '64646', '66555', '66655', '666TT', '66868', '66A6A', '6Q66Q', '6AA6A', '7J272', '73337', '74477', '76667', '77676', '778J8', '77878', '77A7A', '84448', '88333', '88448', '885J5', '88555', '88833', '88T8T', '88TTT', '89889', '89899', '8K88K', '8A8AA', '92299', '93993', '94494', '9595J', '95955', '99J88', '99696', '99977', '99TT9', '99Q9Q', '9TT9T', '9QQ9Q', '9A99A', '9A9AA', 'TJT88', 'T6TT6', 'TQTQJ', 'Q33QQ', 'Q4JQ4', 'Q5Q5Q', 'Q88Q8', 'Q8Q8Q', 'QTQTT', 'QQ2J2', 'QQ2Q2', 'QQQ44', 'QQQ77', 'QQQTT', 'QQQAA', 'QKKKQ', 'K2K2K', 'K33K3', 'K44K4', 'K7KK7', 'K8KJ8', 'K999K', 'KTTKT', 'KK4K4', 'KK99K', 'AJ99A', 'AJA77', 'A7AA7', 'ATTAT', 'AKKAK', 'AATAT', 'JJ992', 'J2J77', 'J2JTT', 'J229J', 'J55J9', 'J6656', 'J6662', 'J8JJ3', 'J83J8', 'J844J', 'J888K', 'J88T8', 'J9333', 'JQQ8J', 'JK22J', 'JKKJ4', 'JAAAT', '2J2K2', '2222Q', '227JJ', '22922', '24222', '2TTJT', '33233', '33335', '3333A', '33363', '33373', '333AJ', '38888', '39999', '3K33J', '3K333', '4J446', '4J777', '4J999', '43444', '44J24', '454J4', '4844J', '4K4J4', '4AAAA', '5JJAA', '55JA5', '555JT', '55552', '55556', '55558', '555Q5', '55755', '55955', '55K55', '59J99', '5KKKK', '6J6J4', '6J676', '64666', '65666', '66JQ6', '66266', '6636J', '66366', '66669', '6666T', '66K66', '68666', '69999', '6QQQQ', '7J757', '7J773', '7J787', '7333J', '74444', '75777', '77J5J', '773JJ', '77747', '77776', '7777T', '7777K', '77977', '77A7J', '79999', '8J882', '85888', '87777', '88J78', '88JKJ', '888J3', '8884J', '88887', '8TTTT', '8Q888', '8K888', '8A888', '9J9K9', '93J99', '94JJ9', '97JJ9', '98888', '99J79', '99JQ9', '9929J', '99499', '99899', '99992', '9999Q', '999K9', '99A99', '9TJ99', '9T999', '9KKJK', '9KKKK', 'TJ777', 'T22J2', 'T3J3J', 'T3333', 'T4444', 'T5555', 'TTJJA', 'TT2TT', 'TT7JT', 'TTT3T', 'TTTT4', 'TTTT6', 'TTTQT', 'TTTAT', 'TKKKK', 'QJQ9Q', 'QJQQ5', 'QJQQ6', 'Q3333', 'Q7777', 'QTTTJ', 'QQ2QQ', 'QQQ5Q', 'QQQQ3', 'QQQQ4', 'QAAJA', 'KJTJT', 'KJKTK', 'K66J6', 'K77J7', 'K7KKK', 'KK2KK', 'KKKJ7', 'KKKK3', 'KKKK4', 'KKKK6', 'KKKK8', 'KKKKQ', 'KAAAA', 'AJ999', 'AJTTT', 'AJAA2', 'A44J4', 'A5AAA', 'A7777', 'A8AJA', 'AQQQQ', 'AA8AA', 'AAA7A', 'AAAA2', 'AAAA9', 'AAAAQ', 'JJJJJ', 'JJJJ8', 'JJ2JJ', 'JJ333', 'JJ555', 'JJ66J', 'JJ8J8', 'JJQJQ', 'J6666', 'J9J99', 'JQJQQ', 'JQQQQ', 'JKKJK', 'JAAJA', '2J222', '22J2J', '333J3', '44JJ4', '4444J', '55J55', '6JJ66', '777JJ', '7777J', '88J8J', '8888J', '99J99', 'TJTJT', 'TTJTT', 'KKKJK', 'AAAAJ']\n"
     ]
    }
   ],
   "source": [
    "print(org_2)"
   ]
  },
  {
   "cell_type": "code",
   "execution_count": 226,
   "metadata": {},
   "outputs": [
    {
     "data": {
      "text/plain": [
       "('A7AA7', 'A92AJ', 'AKKAK')"
      ]
     },
     "execution_count": 226,
     "metadata": {},
     "output_type": "execute_result"
    }
   ],
   "source": [
    "'A7AA7', 'A92AJ', 'AKKAK'"
   ]
  },
  {
   "cell_type": "code",
   "execution_count": 241,
   "metadata": {},
   "outputs": [
    {
     "name": "stdout",
     "output_type": "stream",
     "text": [
      "True\n"
     ]
    }
   ],
   "source": [
    "is_hand_stronger_2('A7AA7', 'A92AJ')\n",
    "# LHS is full house but RHS is only 3oak\n",
    "print(full_house('A7AA7'))"
   ]
  },
  {
   "cell_type": "code",
   "execution_count": 242,
   "metadata": {},
   "outputs": [
    {
     "data": {
      "text/plain": [
       "True"
      ]
     },
     "execution_count": 242,
     "metadata": {},
     "output_type": "execute_result"
    }
   ],
   "source": [
    "#LHS should be stronger\n",
    "is_hand_stronger_2('K8KJ8', 'A58JA')"
   ]
  },
  {
   "cell_type": "code",
   "execution_count": null,
   "metadata": {},
   "outputs": [],
   "source": []
  }
 ],
 "metadata": {
  "kernelspec": {
   "display_name": "Python 3",
   "language": "python",
   "name": "python3"
  },
  "language_info": {
   "codemirror_mode": {
    "name": "ipython",
    "version": 3
   },
   "file_extension": ".py",
   "mimetype": "text/x-python",
   "name": "python",
   "nbconvert_exporter": "python",
   "pygments_lexer": "ipython3",
   "version": "3.9.13"
  },
  "orig_nbformat": 4
 },
 "nbformat": 4,
 "nbformat_minor": 2
}
