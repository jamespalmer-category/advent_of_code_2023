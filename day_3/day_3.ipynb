{
 "cells": [
  {
   "cell_type": "code",
   "execution_count": 401,
   "metadata": {},
   "outputs": [],
   "source": [
    "import re\n",
    "import ast\n",
    "\n",
    "def read_file_to_string(file_path):\n",
    "    with open(file_path,'r') as f:\n",
    "        return f.read()\n",
    "    \n",
    "day_3_string = read_file_to_string('day_3_input.txt')\n",
    "day_3_test = read_file_to_string('day_3_test.txt')"
   ]
  },
  {
   "cell_type": "code",
   "execution_count": 402,
   "metadata": {},
   "outputs": [],
   "source": [
    "day_3_list = re.split(r'\\n', day_3_string)\n",
    "day_3_test_list = re.split(r'\\n', day_3_test)"
   ]
  },
  {
   "cell_type": "code",
   "execution_count": 545,
   "metadata": {},
   "outputs": [],
   "source": [
    "def adj_numbers(string_list):\n",
    "\n",
    "    row_coord_map = {}\n",
    "\n",
    "    for i, string in enumerate(string_list):\n",
    "\n",
    "        symbol_matches= re.finditer(r'[^0-9.]+',string)\n",
    "        number_matches= re.finditer(r'[0-9]+',string)\n",
    "\n",
    "        symbol_starts = [match.start() for match in symbol_matches]\n",
    "        symbol_ends = [match.end() for match in symbol_matches]\n",
    "        number_coordinates = [(match.start(), match.end()) for match in number_matches]\n",
    "\n",
    "        number_map = {\n",
    "        number_coordinates[i]:[int(number) for number in re.findall(r'[0-9]+',string)][i] for i in range(len(re.findall(r'[0-9]+',string)))\n",
    "    }\n",
    "\n",
    "\n",
    "        row_coord_map[i] = {'symbol_starts':symbol_starts,'symbol_ends':symbol_ends,'number_map':number_map}\n",
    "\n",
    "    sum_ = 0\n",
    "    for k, v in row_coord_map.items():\n",
    "\n",
    "        if k == 0:\n",
    "            below_row = row_coord_map[k+1]\n",
    "\n",
    "            for i in range(len(list(v['number_map'].keys()))):\n",
    "                if list(v['number_map'].keys())[i][0]-1 in v['symbol_starts'] or list(v['number_map'].keys())[i][1] in v['symbol_starts']:\n",
    "                    sum_ += list(v['number_map'].values())[i]\n",
    "                else:\n",
    "                    for start in below_row['symbol_starts']:\n",
    "                        #for symbol to be adj, needs to have start num_start-1=<symb_coord<=num_end\n",
    "                        if list(v['number_map'].keys())[i][0]-1 <= start <= list(v['number_map'].keys())[i][1]:\n",
    "                            sum_ += list(v['number_map'].values())[i]\n",
    "                            break\n",
    "\n",
    "\n",
    "                \n",
    "\n",
    "        elif k == len(row_coord_map)-1:\n",
    "            above_row = row_coord_map[k-1]\n",
    "\n",
    "            for i in range(len(list(v['number_map'].keys()))):\n",
    "                if list(v['number_map'].keys())[i][0]-1 in v['symbol_starts'] or list(v['number_map'].keys())[i][1] in v['symbol_starts']:\n",
    "                    sum_ += list(v['number_map'].values())[i]\n",
    "                else:\n",
    "                    for start in above_row['symbol_starts']:\n",
    "                        #for symbol to be adj, needs to have start num_start-1=<symb_coord<=num_end\n",
    "                        if list(v['number_map'].keys())[i][0]-1 <= start <= list(v['number_map'].keys())[i][1]:\n",
    "                            sum_ += list(v['number_map'].values())[i]\n",
    "                            break\n",
    "\n",
    "        else:\n",
    "            above_row = row_coord_map[k-1]\n",
    "            below_row = row_coord_map[k+1]\n",
    "\n",
    "            for i in range(len(list(v['number_map'].keys()))):\n",
    "\n",
    "                if list(v['number_map'].keys())[i][0]-1 in v['symbol_starts'] or list(v['number_map'].keys())[i][1] in v['symbol_starts']:\n",
    "                    sum_ += list(v['number_map'].values())[i]\n",
    "                else:\n",
    "                    for j in range(max(len(above_row['symbol_starts']), len(below_row['symbol_starts']))):\n",
    "\n",
    "                        if j < len(above_row['symbol_starts']):\n",
    "                            if list(v['number_map'].keys())[i][0]-1 <= above_row['symbol_starts'][j] <= list(v['number_map'].keys())[i][1]:\n",
    "                                sum_ += list(v['number_map'].values())[i]\n",
    "                                break\n",
    "\n",
    "                        if j < len(below_row['symbol_starts']):\n",
    "                            if list(v['number_map'].keys())[i][0]-1 <= below_row['symbol_starts'][j] <= list(v['number_map'].keys())[i][1]:\n",
    "                                sum_ += list(v['number_map'].values())[i]\n",
    "                                break\n",
    "    \n",
    "    return sum_\n"
   ]
  },
  {
   "cell_type": "code",
   "execution_count": 546,
   "metadata": {},
   "outputs": [
    {
     "data": {
      "text/plain": [
       "4361"
      ]
     },
     "execution_count": 546,
     "metadata": {},
     "output_type": "execute_result"
    }
   ],
   "source": [
    "adj_numbers(day_3_test_list)"
   ]
  },
  {
   "cell_type": "code",
   "execution_count": 547,
   "metadata": {},
   "outputs": [
    {
     "data": {
      "text/plain": [
       "549908"
      ]
     },
     "execution_count": 547,
     "metadata": {},
     "output_type": "execute_result"
    }
   ],
   "source": [
    "adj_numbers(day_3_list)"
   ]
  },
  {
   "cell_type": "code",
   "execution_count": 550,
   "metadata": {},
   "outputs": [],
   "source": [
    "def gear_numbers(string_list):\n",
    "    \n",
    "    row_coord_map = {}\n",
    "\n",
    "    for i, string in enumerate(string_list):\n",
    "\n",
    "        symbol_matches= re.finditer(r'\\*',string)\n",
    "        number_matches= re.finditer(r'[0-9]+',string)\n",
    "\n",
    "        symbol_starts = [match.start() for match in symbol_matches]\n",
    "        \n",
    "        number_coordinates = [(match.start(), match.end()) for match in number_matches]\n",
    "        #print(number_coordinates)\n",
    "        number_start = [match[0] for match in number_coordinates]\n",
    "        number_end = [match[1] for match in number_coordinates]\n",
    "        #print(number_end)\n",
    "\n",
    "        number_start_map = {\n",
    "        number_start[i]:[int(number) for number in re.findall(r'[0-9]+',string)][i] for i in range(len(re.findall(r'[0-9]+',string)))\n",
    "    }\n",
    "        \n",
    "        number_end_map = {\n",
    "        number_end[i]:[int(number) for number in re.findall(r'[0-9]+',string)][i] for i in range(len(re.findall(r'[0-9]+',string)))\n",
    "        }\n",
    "        \n",
    "        row_coord_map[i] = {'symbol_starts':symbol_starts,'number_start_map':number_start_map,'number_end_map':number_end_map}\n",
    "\n",
    "    sum_ = 0\n",
    "    for k, v in row_coord_map.items():\n",
    "\n",
    "        if k == 0:\n",
    "            below_row = row_coord_map[k+1]\n",
    "\n",
    "            for i in range(len(v['symbol_starts'])):\n",
    "                \n",
    "                no_map = {}\n",
    "\n",
    "                for j in range(len(v['number_end_map'])):\n",
    "                    if len(v['number_end_map']) != 0:\n",
    "                        if v['symbol_starts'][i] <= list(v['number_start_map'].keys())[j] <= v['symbol_starts'][i]+1:\n",
    "                            no_map[(list(v['number_start_map'].keys())[j],list(v['number_end_map'].keys())[j])] = list(v['number_start_map'].values())[j]\n",
    "                                \n",
    "                        if v['symbol_starts'][i] <= list(v['number_end_map'].keys())[j] <= v['symbol_starts'][i]+1:\n",
    "                            no_map[(list(v['number_start_map'].keys())[j],list(v['number_end_map'].keys())[j])] = list(v['number_start_map'].values())[j]\n",
    "\n",
    "                \n",
    "\n",
    "                for j in range(len(below_row['number_end_map'])):\n",
    "                    if len(below_row['number_end_map']) != 0:\n",
    "                        if v['symbol_starts'][i] <= list(below_row['number_start_map'].keys())[j] <= v['symbol_starts'][i]+1:\n",
    "                            no_map[('b',list(below_row['number_start_map'].keys())[j],list(below_row['number_end_map'].keys())[j])] = list(below_row['number_start_map'].values())[j]\n",
    "                                \n",
    "                        if v['symbol_starts'][i] <= list(below_row['number_end_map'].keys())[j] <= v['symbol_starts'][i]+1:\n",
    "                            no_map[('b',list(below_row['number_start_map'].keys())[j],list(below_row['number_end_map'].keys())[j])] = list(below_row['number_start_map'].values())[j]\n",
    "\n",
    "                                \n",
    "                print(no_list)\n",
    "                if len(no_map) == 2:\n",
    "                    #print(no_map)\n",
    "                    prod = 1\n",
    "                    for v in no_map.values():\n",
    "                        prod = prod*v\n",
    "\n",
    "                    sum_ += prod\n",
    "\n",
    "\n",
    "                \n",
    "\n",
    "        elif k == len(row_coord_map)-1:\n",
    "            above_row = row_coord_map[k-1]\n",
    "\n",
    "            for i in range(len(v['symbol_starts'])):\n",
    "                \n",
    "                no_map = {}\n",
    "\n",
    "                for j in range(len(v['number_end_map'])):\n",
    "                    if len(v['number_end_map']) != 0:\n",
    "                        if v['symbol_starts'][i] <= list(v['number_start_map'].keys())[j] <= v['symbol_starts'][i]+1:\n",
    "                            no_map[(list(v['number_start_map'].keys())[j],list(v['number_end_map'].keys())[j])] = list(v['number_start_map'].values())[j]\n",
    "                                \n",
    "                        if v['symbol_starts'][i] <= list(v['number_end_map'].keys())[j] <= v['symbol_starts'][i]+1:\n",
    "                            no_map[(list(v['number_start_map'].keys())[j],list(v['number_end_map'].keys())[j])] = list(v['number_start_map'].values())[j]\n",
    "\n",
    "                for j in range(len(above_row['number_end_map'])):\n",
    "                    if len(above_row['number_end_map']) != 0:\n",
    "                        if v['symbol_starts'][i] <= list(above_row['number_start_map'].keys())[j] <= v['symbol_starts'][i]+1:\n",
    "                            no_map[('a',list(above_row['number_start_map'].keys())[j],list(above_row['number_end_map'].keys())[j])] = list(above_row['number_start_map'].values())[j]\n",
    "                                \n",
    "                        if v['symbol_starts'][i] <= list(above_row['number_end_map'].keys())[j] <= v['symbol_starts'][i]+1:\n",
    "                            no_map[('a',list(above_row['number_start_map'].keys())[j],list(above_row['number_end_map'].keys())[j])] = list(above_row['number_start_map'].values())[j]\n",
    "\n",
    "                                \n",
    "                if len(no_map) == 2:\n",
    "                    #print(no_map)\n",
    "                    prod = 1\n",
    "                    for v in no_map.values():\n",
    "                        prod = prod*v\n",
    "\n",
    "                    sum_ += prod\n",
    "\n",
    "        else:\n",
    "            above_row = row_coord_map[k-1]\n",
    "            below_row = row_coord_map[k+1]\n",
    "\n",
    "            for i in range(len(v['symbol_starts'])):\n",
    "                \n",
    "                #3 row case\n",
    "                no_map = {}\n",
    "\n",
    "\n",
    "                v['number_end_map']\n",
    "                for j in range(len(v['number_end_map'])):\n",
    "                    if len(v['number_end_map']) != 0:\n",
    "                        if v['symbol_starts'][i]-1 <= list(v['number_start_map'].keys())[j] <= v['symbol_starts'][i]+1:\n",
    "                                no_map[(list(v['number_start_map'].keys())[j],list(v['number_end_map'].keys())[j])] = list(v['number_start_map'].values())[j]\n",
    "                                \n",
    "                        if v['symbol_starts'][i] <= list(v['number_end_map'].keys())[j] <= v['symbol_starts'][i]+1:\n",
    "                                no_map[(list(v['number_start_map'].keys())[j],list(v['number_end_map'].keys())[j])] = list(v['number_start_map'].values())[j]\n",
    "\n",
    "                for j in range(len(above_row['number_end_map'])):\n",
    "                    if len(above_row['number_end_map']) != 0:\n",
    "                        if v['symbol_starts'][i]-1 <= list(above_row['number_start_map'].keys())[j] <= v['symbol_starts'][i]+1:\n",
    "                                no_map[('a',list(above_row['number_start_map'].keys())[j],list(above_row['number_end_map'].keys())[j])] = list(above_row['number_start_map'].values())[j]\n",
    "                                \n",
    "                        if v['symbol_starts'][i] <= list(above_row['number_end_map'].keys())[j] <= v['symbol_starts'][i]+1:\n",
    "                                no_map[('a',list(above_row['number_start_map'].keys())[j],list(above_row['number_end_map'].keys())[j])] = list(above_row['number_start_map'].values())[j]\n",
    "                \n",
    "\n",
    "                for j in range(len(below_row['number_end_map'])):\n",
    "                    if len(below_row['number_end_map']) != 0:\n",
    "                        if v['symbol_starts'][i]-1 <= list(below_row['number_start_map'].keys())[j] <= v['symbol_starts'][i]+1:\n",
    "                                no_map[('b',list(below_row['number_start_map'].keys())[j],list(below_row['number_end_map'].keys())[j])] = list(below_row['number_start_map'].values())[j]\n",
    "                                \n",
    "                        if v['symbol_starts'][i] <= list(below_row['number_end_map'].keys())[j] <= v['symbol_starts'][i]+1:\n",
    "                                no_map[('b',list(below_row['number_start_map'].keys())[j],list(below_row['number_end_map'].keys())[j])] = list(below_row['number_start_map'].values())[j]\n",
    "                if len(no_map) == 2:\n",
    "                    #print(no_map)\n",
    "                    prod = 1\n",
    "                    for val in no_map.values():\n",
    "                        prod = prod*val\n",
    "\n",
    "                    sum_ += prod\n",
    "\n",
    "\n",
    "    return sum_"
   ]
  },
  {
   "cell_type": "code",
   "execution_count": 551,
   "metadata": {},
   "outputs": [
    {
     "data": {
      "text/plain": [
       "467835"
      ]
     },
     "execution_count": 551,
     "metadata": {},
     "output_type": "execute_result"
    }
   ],
   "source": [
    "gear_numbers(day_3_test_list)"
   ]
  },
  {
   "cell_type": "code",
   "execution_count": 552,
   "metadata": {},
   "outputs": [
    {
     "data": {
      "text/plain": [
       "81166799"
      ]
     },
     "execution_count": 552,
     "metadata": {},
     "output_type": "execute_result"
    }
   ],
   "source": [
    "gear_numbers(day_3_list)"
   ]
  }
 ],
 "metadata": {
  "kernelspec": {
   "display_name": "Python 3",
   "language": "python",
   "name": "python3"
  },
  "language_info": {
   "codemirror_mode": {
    "name": "ipython",
    "version": 3
   },
   "file_extension": ".py",
   "mimetype": "text/x-python",
   "name": "python",
   "nbconvert_exporter": "python",
   "pygments_lexer": "ipython3",
   "version": "3.9.13"
  },
  "orig_nbformat": 4
 },
 "nbformat": 4,
 "nbformat_minor": 2
}
