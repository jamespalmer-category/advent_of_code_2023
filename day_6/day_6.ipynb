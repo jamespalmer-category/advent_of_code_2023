{
 "cells": [
  {
   "cell_type": "code",
   "execution_count": 2,
   "metadata": {},
   "outputs": [],
   "source": [
    "import re\n",
    "import ast\n",
    "\n",
    "def read_file_to_string(file_path):\n",
    "    with open(file_path,'r') as f:\n",
    "        return f.read()\n",
    "    \n",
    "day_6_string = read_file_to_string('day_6_input.txt')\n",
    "day_6_test = read_file_to_string('day_6_test.txt')"
   ]
  },
  {
   "cell_type": "code",
   "execution_count": 17,
   "metadata": {},
   "outputs": [],
   "source": [
    "def parse_string(string):\n",
    "    day_6_list = re.split(r'\\n', string)\n",
    "    day_6_list =[re.findall(r'[0-9]+',string_) for string_ in day_6_list]\n",
    "    #print(day_6_list)\n",
    "\n",
    "    return [(int(day_6_list[0][i]), int(day_6_list[1][i])) for i in range(len(day_6_list[0]))]\n",
    "\n"
   ]
  },
  {
   "cell_type": "code",
   "execution_count": 21,
   "metadata": {},
   "outputs": [],
   "source": [
    "day_6_list = parse_string(day_6_string)\n",
    "day_6_test_list=parse_string(day_6_test)"
   ]
  },
  {
   "cell_type": "code",
   "execution_count": 15,
   "metadata": {},
   "outputs": [],
   "source": [
    "def number_of_records(pair):\n",
    "\n",
    "    sum_ = 0\n",
    "\n",
    "    for i in range(pair[0]):\n",
    "        if i*(pair[0]-i) > pair[1]:\n",
    "            sum_ += 1\n",
    "\n",
    "    return sum_\n"
   ]
  },
  {
   "cell_type": "code",
   "execution_count": 20,
   "metadata": {},
   "outputs": [
    {
     "name": "stdout",
     "output_type": "stream",
     "text": [
      "4\n",
      "8\n",
      "9\n",
      "288\n"
     ]
    }
   ],
   "source": [
    "prod=1\n",
    "for i in day_6_test_list:\n",
    "    print(number_of_records(i))\n",
    "    prod = prod * number_of_records(i)\n",
    "\n",
    "print(prod)"
   ]
  },
  {
   "cell_type": "code",
   "execution_count": 22,
   "metadata": {},
   "outputs": [
    {
     "name": "stdout",
     "output_type": "stream",
     "text": [
      "29\n",
      "58\n",
      "41\n",
      "34\n",
      "2344708\n"
     ]
    }
   ],
   "source": [
    "prod=1\n",
    "for i in day_6_list:\n",
    "    print(number_of_records(i))\n",
    "    prod = prod * number_of_records(i)\n",
    "\n",
    "print(prod)"
   ]
  },
  {
   "cell_type": "markdown",
   "metadata": {},
   "source": [
    "## Part 2"
   ]
  },
  {
   "cell_type": "code",
   "execution_count": 35,
   "metadata": {},
   "outputs": [],
   "source": [
    "def parse_string_2(string):\n",
    "    day_6_list = re.split(r'\\n', string)\n",
    "    day_6_list =[re.findall(r'[0-9]+',string_) for string_ in day_6_list]\n",
    "    \n",
    "    new_list = []\n",
    "    \n",
    "    for i in day_6_list:\n",
    "        new = ''\n",
    "        for j in i:\n",
    "            new = new + j\n",
    "        new_list.append(int(new))\n",
    "\n",
    "    return new_list"
   ]
  },
  {
   "cell_type": "code",
   "execution_count": 36,
   "metadata": {},
   "outputs": [
    {
     "data": {
      "text/plain": [
       "[71530, 940200]"
      ]
     },
     "execution_count": 36,
     "metadata": {},
     "output_type": "execute_result"
    }
   ],
   "source": [
    "parse_string_2(day_6_test)"
   ]
  },
  {
   "cell_type": "code",
   "execution_count": 37,
   "metadata": {},
   "outputs": [
    {
     "data": {
      "text/plain": [
       "71503"
      ]
     },
     "execution_count": 37,
     "metadata": {},
     "output_type": "execute_result"
    }
   ],
   "source": [
    "number_of_records((71530, 940200))"
   ]
  },
  {
   "cell_type": "code",
   "execution_count": 38,
   "metadata": {},
   "outputs": [
    {
     "data": {
      "text/plain": [
       "[44899691, 277113618901768]"
      ]
     },
     "execution_count": 38,
     "metadata": {},
     "output_type": "execute_result"
    }
   ],
   "source": [
    "parse_string_2(day_6_string)"
   ]
  },
  {
   "cell_type": "code",
   "execution_count": 39,
   "metadata": {},
   "outputs": [
    {
     "data": {
      "text/plain": [
       "30125202"
      ]
     },
     "execution_count": 39,
     "metadata": {},
     "output_type": "execute_result"
    }
   ],
   "source": [
    "number_of_records((44899691, 277113618901768))"
   ]
  }
 ],
 "metadata": {
  "kernelspec": {
   "display_name": "Python 3",
   "language": "python",
   "name": "python3"
  },
  "language_info": {
   "codemirror_mode": {
    "name": "ipython",
    "version": 3
   },
   "file_extension": ".py",
   "mimetype": "text/x-python",
   "name": "python",
   "nbconvert_exporter": "python",
   "pygments_lexer": "ipython3",
   "version": "3.9.13"
  },
  "orig_nbformat": 4
 },
 "nbformat": 4,
 "nbformat_minor": 2
}
