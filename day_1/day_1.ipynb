{
 "cells": [
  {
   "cell_type": "code",
   "execution_count": 3,
   "metadata": {},
   "outputs": [],
   "source": [
    "import re"
   ]
  },
  {
   "cell_type": "code",
   "execution_count": 4,
   "metadata": {},
   "outputs": [],
   "source": [
    "def read_file_to_string(file_path):\n",
    "    with open(file_path,'r') as f:\n",
    "        return f.read()"
   ]
  },
  {
   "cell_type": "code",
   "execution_count": 5,
   "metadata": {},
   "outputs": [],
   "source": [
    "day_1_string = read_file_to_string('day_1_input.txt')"
   ]
  },
  {
   "cell_type": "code",
   "execution_count": 6,
   "metadata": {},
   "outputs": [],
   "source": [
    "day_1_string = read_file_to_string('day_1_input.txt')\n",
    "day_1_list = re.split('\\n',day_1_string)"
   ]
  },
  {
   "cell_type": "code",
   "execution_count": 7,
   "metadata": {},
   "outputs": [],
   "source": [
    "def get_numbers(string):\n",
    "    numbers = re.findall('[0-9]', string)\n",
    "\n",
    "    if len(numbers) == 1:\n",
    "        return int(numbers[0])*10 + int(numbers[0])\n",
    "    else:\n",
    "        return int(numbers[0])*10 + int(numbers[-1])"
   ]
  },
  {
   "cell_type": "code",
   "execution_count": 8,
   "metadata": {},
   "outputs": [],
   "source": [
    "sum_ = 0\n",
    "for str in day_1_list:\n",
    "    sum_ += get_numbers(str)"
   ]
  },
  {
   "cell_type": "code",
   "execution_count": 9,
   "metadata": {},
   "outputs": [
    {
     "data": {
      "text/plain": [
       "56397"
      ]
     },
     "execution_count": 9,
     "metadata": {},
     "output_type": "execute_result"
    }
   ],
   "source": [
    "sum_"
   ]
  },
  {
   "cell_type": "markdown",
   "metadata": {},
   "source": [
    "## Part 2"
   ]
  },
  {
   "cell_type": "code",
   "execution_count": 10,
   "metadata": {},
   "outputs": [],
   "source": [
    "mapping = {\n",
    "    ['one','two','three','four','five','six','seven','eight','nine'][j]:[i for i in range(1,10)][j] for j in range(9)\n",
    "}"
   ]
  },
  {
   "cell_type": "code",
   "execution_count": 11,
   "metadata": {},
   "outputs": [],
   "source": [
    "def get_numbers_2(string):\n",
    "    numbers = [match.group(1) for match in re.finditer(r'(?=(one|two|three|four|five|six|seven|eight|nine|[0-9]))', string)]\n",
    "\n",
    "    for i,number in enumerate(numbers):\n",
    "        if number in mapping.keys():\n",
    "            numbers[i] = mapping[number]\n",
    "\n",
    "\n",
    "    if len(numbers) == 1:\n",
    "        return int(numbers[0])*10 + int(numbers[0])\n",
    "    else:\n",
    "        return int(numbers[0])*10 + int(numbers[-1])"
   ]
  },
  {
   "cell_type": "code",
   "execution_count": 12,
   "metadata": {},
   "outputs": [
    {
     "name": "stdout",
     "output_type": "stream",
     "text": [
      "55701\n"
     ]
    }
   ],
   "source": [
    "sum_ = 0\n",
    "for str in day_1_list:\n",
    "    sum_ += get_numbers_2(str)\n",
    "    #print(sum_)\n",
    "\n",
    "print(sum_)"
   ]
  }
 ],
 "metadata": {
  "kernelspec": {
   "display_name": "Python 3",
   "language": "python",
   "name": "python3"
  },
  "language_info": {
   "codemirror_mode": {
    "name": "ipython",
    "version": 3
   },
   "file_extension": ".py",
   "mimetype": "text/x-python",
   "name": "python",
   "nbconvert_exporter": "python",
   "pygments_lexer": "ipython3",
   "version": "3.9.13"
  },
  "orig_nbformat": 4
 },
 "nbformat": 4,
 "nbformat_minor": 2
}
