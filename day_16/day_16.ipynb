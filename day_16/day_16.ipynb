{
 "cells": [
  {
   "cell_type": "code",
   "execution_count": 142,
   "metadata": {},
   "outputs": [],
   "source": [
    "import re\n",
    "import ast\n",
    "import numpy as np\n",
    "import math\n",
    "from functools import cache\n",
    "from itertools import product\n",
    "\n",
    "def read_file_to_string(file_path):\n",
    "    with open(file_path,'r') as f:\n",
    "        return f.read()\n",
    "    \n",
    "day_16_string = read_file_to_string('day_16_input.txt')\n",
    "day_16_test = read_file_to_string('day_16_test.txt')\n",
    "day_16_test_2 = read_file_to_string('day_16_test_2.txt')\n",
    "# day_13_test_3 = read_file_to_string('day_13_test_3.txt')\n",
    "# day_13_test_4 = read_file_to_string('day_13_test_4.txt')\n",
    "# day_13_test_5 = read_file_to_string('day_13_test_5.txt')"
   ]
  },
  {
   "cell_type": "code",
   "execution_count": 20,
   "metadata": {},
   "outputs": [],
   "source": [
    "def parse_string(string):\n",
    "\n",
    "    return np.array([np.array(list(row)) for row in string.split('\\n')])"
   ]
  },
  {
   "cell_type": "code",
   "execution_count": 77,
   "metadata": {},
   "outputs": [],
   "source": [
    "day_16_test_grid = parse_string(day_16_test)"
   ]
  },
  {
   "cell_type": "code",
   "execution_count": 201,
   "metadata": {},
   "outputs": [],
   "source": [
    "def beam_of_light(grid, start, direction='right',cache={}):\n",
    "\n",
    "    position = start\n",
    "    if 0 <= position[0] <= grid.shape[0]-1 and 0 <= position[1] <= grid.shape[1]-1:\n",
    "        visited = [start]\n",
    "    else:\n",
    "        visited = []\n",
    "    \n",
    "    # print(position)\n",
    "    #print(0 <= start[0] < grid.shape[0] and 0 <= start[1] < grid.shape[1])\n",
    "    while 0 <= position[0] <= grid.shape[0]-1 and 0 <= position[1] <= grid.shape[1]-1:\n",
    "        #print(position)\n",
    "\n",
    "        if direction == 'right':\n",
    "            position = (position[0], position[1]+1)\n",
    "            if position[1] == grid.shape[1]:\n",
    "                break\n",
    "            visited.append(position)\n",
    "\n",
    "            if grid[position] in '.-':\n",
    "                continue\n",
    "            elif grid[position] =='|':\n",
    "                if (position, 'up') not in cache.keys() and (position, 'down') not in cache.keys():\n",
    "                    cache[(position, 'up')] = True\n",
    "                    cache[(position, 'down')] = True\n",
    "                    visited = visited + beam_of_light(grid, position, direction='up',cache=cache) + beam_of_light(grid, position, direction='down',cache=cache)\n",
    "                    \n",
    "                break\n",
    "\n",
    "            elif grid[position] == '/':\n",
    "                if (position, 'up') not in cache.keys():\n",
    "                    cache[(position, 'up')] = True\n",
    "                    visited = visited + beam_of_light(grid, position, direction='up',cache=cache)\n",
    "                    \n",
    "                break\n",
    "\n",
    "            elif grid[position] == '\\\\':\n",
    "                if (position, 'down') not in cache.keys():\n",
    "                    cache[(position, 'down')] = True\n",
    "                    visited = visited + beam_of_light(grid, position, direction='down',cache=cache)\n",
    "                    \n",
    "                break\n",
    "\n",
    "        elif direction == 'left':\n",
    "            position = (position[0], position[1]-1)\n",
    "            if position[1] == -1:\n",
    "                break\n",
    "            visited.append(position)\n",
    "\n",
    "            if grid[position] in '.-':\n",
    "                continue\n",
    "\n",
    "            elif grid[position] =='|':\n",
    "                if (position, 'up') not in cache.keys() and (position, 'down') not in cache.keys():\n",
    "                    cache[(position, 'up')] = True\n",
    "                    cache[(position, 'down')] = True\n",
    "                    visited = visited + beam_of_light(grid, position, direction='up',cache=cache) + beam_of_light(grid, position, direction='down',cache=cache)\n",
    "                    \n",
    "                break\n",
    "\n",
    "            elif grid[position] == '/':\n",
    "                if (position, 'down') not in cache.keys():\n",
    "                    cache[(position, 'down')] = True\n",
    "                    visited = visited + beam_of_light(grid, position, direction='down',cache=cache)\n",
    "                    \n",
    "                break\n",
    "\n",
    "            elif grid[position] == '\\\\':\n",
    "                if (position, 'up') not in cache.keys():\n",
    "                    cache[(position, 'up')] = True\n",
    "                    visited = visited + beam_of_light(grid, position, direction='up',cache=cache)\n",
    "                    \n",
    "                break\n",
    "\n",
    "        elif direction == 'up':\n",
    "            position = (position[0]-1, position[1])\n",
    "            if position[0] == -1:\n",
    "                break\n",
    "            visited.append(position)\n",
    "\n",
    "            if grid[position] in '.|':\n",
    "                continue\n",
    "            \n",
    "            elif grid[position] =='-':\n",
    "                if (position, 'left') not in cache.keys() and (position, 'right') not in cache.keys():\n",
    "                    cache[(position, 'left')] = True\n",
    "                    cache[(position, 'right')] = True\n",
    "                    visited = visited + beam_of_light(grid, position, direction='left',cache=cache) + beam_of_light(grid, position, direction='right',cache=cache)\n",
    "                    \n",
    "                break\n",
    "\n",
    "            elif grid[position] == '/':\n",
    "                if (position, 'right') not in cache.keys():\n",
    "                    cache[(position, 'right')] = True\n",
    "                    visited = visited + beam_of_light(grid, position, direction='right',cache=cache)\n",
    "                    \n",
    "                break\n",
    "\n",
    "            elif grid[position] == '\\\\':\n",
    "                if (position, 'left') not in cache.keys():\n",
    "                    cache[(position, 'left')] = True\n",
    "                    visited = visited + beam_of_light(grid, position, direction='left',cache=cache)\n",
    "                    \n",
    "                break\n",
    "\n",
    "        elif direction == 'down':\n",
    "            position = (position[0]+1, position[1])\n",
    "            if position[0] == grid.shape[0]:\n",
    "                break\n",
    "            visited.append(position)\n",
    "\n",
    "            if grid[position] in '.|':\n",
    "                continue\n",
    "            \n",
    "            elif grid[position] =='-':\n",
    "                if (position, 'left') not in cache.keys() and (position, 'right') not in cache.keys():\n",
    "                    cache[(position, 'left')] = True\n",
    "                    cache[(position, 'right')] = True\n",
    "                    visited = visited + beam_of_light(grid, position, direction='left',cache=cache) + beam_of_light(grid, position, direction='right',cache=cache)\n",
    "                    \n",
    "                break\n",
    "\n",
    "            elif grid[position] == '/':\n",
    "                if (position, 'left') not in cache.keys():\n",
    "                    cache[(position, 'left')] = True\n",
    "                    visited = visited + beam_of_light(grid, position, direction='left',cache=cache)\n",
    "                    \n",
    "                break\n",
    "\n",
    "            elif grid[position] == '\\\\':\n",
    "                if (position, 'right') not in cache.keys():\n",
    "                    cache[(position, 'right')] = True\n",
    "                    visited = visited + beam_of_light(grid, position, direction='right',cache=cache)\n",
    "                    \n",
    "                break\n",
    "\n",
    "    visited = list(set(visited))\n",
    "    \n",
    "    for coord in visited:\n",
    "        if not (0 <= coord[0] <= grid.shape[0]-1 and 0 <= coord[1] <= grid.shape[1]-1):\n",
    "            visited.remove(coord)\n",
    "\n",
    "    visited.sort()\n",
    "            \n",
    "    return list(set(visited))"
   ]
  },
  {
   "cell_type": "code",
   "execution_count": 205,
   "metadata": {},
   "outputs": [
    {
     "name": "stdout",
     "output_type": "stream",
     "text": [
      "46\n"
     ]
    }
   ],
   "source": [
    "day_16_test_grid = parse_string(day_16_test)\n",
    "beam_of_light_path_test = beam_of_light(day_16_test_grid, (0,0), direction='right',cache = {})\n",
    "print(len(beam_of_light_path_test))"
   ]
  },
  {
   "cell_type": "code",
   "execution_count": 206,
   "metadata": {},
   "outputs": [
    {
     "name": "stdout",
     "output_type": "stream",
     "text": [
      "7632\n"
     ]
    }
   ],
   "source": [
    "cache = {}\n",
    "day_16_input_grid = parse_string(day_16_string)\n",
    "beam_of_light_path = beam_of_light(day_16_input_grid, (0,0), direction='down',cache={})\n",
    "print(len(beam_of_light_path))"
   ]
  },
  {
   "cell_type": "markdown",
   "metadata": {},
   "source": [
    "## Part 2"
   ]
  },
  {
   "cell_type": "code",
   "execution_count": 157,
   "metadata": {},
   "outputs": [],
   "source": [
    "cache = {}\n",
    "day_16_test_grid = parse_string(day_16_test)\n"
   ]
  },
  {
   "cell_type": "code",
   "execution_count": 195,
   "metadata": {},
   "outputs": [
    {
     "data": {
      "text/plain": [
       "51"
      ]
     },
     "execution_count": 195,
     "metadata": {},
     "output_type": "execute_result"
    }
   ],
   "source": [
    "cache = {}\n",
    "beam_test_2=beam_of_light(day_16_test_grid, (0,3), direction='down')\n",
    "len(beam_test_2)"
   ]
  },
  {
   "cell_type": "code",
   "execution_count": null,
   "metadata": {},
   "outputs": [],
   "source": []
  },
  {
   "cell_type": "code",
   "execution_count": 209,
   "metadata": {},
   "outputs": [],
   "source": [
    "def part_two(grid):\n",
    "\n",
    "    max_energy = 0\n",
    "\n",
    "    for i in range(grid.shape[0]):\n",
    "        if grid[i,0] in '.-':\n",
    "            max_energy = max(max_energy, len(beam_of_light(grid, (i,0), direction='right',cache = {})))\n",
    "        elif grid[i,0] == '|':\n",
    "            max_energy = max(max_energy, len(list(set(beam_of_light(grid, (i,0), direction='up',cache = {})+beam_of_light(grid, (i,0), direction='down',cache = {})))))\n",
    "        elif grid[i,0] == '\\\\':\n",
    "            max_energy = max(max_energy, len(beam_of_light(grid, (i,0), direction='down',cache = {})))\n",
    "        elif grid[i,0] == '/':\n",
    "            max_energy = max(max_energy, len(beam_of_light(grid, (i,0), direction='up',cache = {})))\n",
    "\n",
    "        if grid[i,grid.shape[1]-1] in '.-':\n",
    "            max_energy = max(max_energy, len(beam_of_light(grid, (i,grid.shape[1]-1), direction='left',cache = {})))\n",
    "        elif grid[i,grid.shape[1]-1] == '|':\n",
    "            max_energy = max(max_energy, len(list(set(beam_of_light(grid, (i,grid.shape[1]-1), direction='up',cache = {})+beam_of_light(grid, (i,grid.shape[1]-1), direction='down',cache = {})))))\n",
    "        elif grid[i,grid.shape[1]-1] == '\\\\':\n",
    "            max_energy = max(max_energy, len(beam_of_light(grid, (i,grid.shape[1]-1), direction='up',cache = {})))\n",
    "        elif grid[i,grid.shape[1]-1] == '/':\n",
    "            max_energy = max(max_energy, len(beam_of_light(grid, (i,grid.shape[1]-1), direction='down',cache = {})))\n",
    "        print(max_energy)\n",
    "\n",
    "    for i in range(grid.shape[1]):\n",
    "        if grid[0,i] in '.|':\n",
    "            max_energy = max(max_energy, len(beam_of_light(grid, (0,i), direction='down',cache = {})))\n",
    "        elif grid[0,i] == '-':\n",
    "            max_energy = max(max_energy, len(list(set(beam_of_light(grid, (0,i), direction='left',cache = {})+beam_of_light(grid, (i,grid.shape[1]-1), direction='right',cache = {})))))\n",
    "        elif grid[0,i] == '\\\\':\n",
    "            max_energy = max(max_energy, len(beam_of_light(grid, (0,i), direction='right',cache = {})))\n",
    "        elif grid[0,i] == '/':\n",
    "            max_energy = max(max_energy, len(beam_of_light(grid, (0,i), direction='left',cache = {})))\n",
    "\n",
    "        if grid[grid.shape[0]-1,i] in '.|':\n",
    "            max_energy = max(max_energy, len(beam_of_light(grid, (grid.shape[0]-1,i), direction='up',cache = {})))\n",
    "        elif grid[grid.shape[0]-1,i] == '-':\n",
    "            max_energy = max(max_energy, len(list(set(beam_of_light(grid, (0,i), direction='left',cache = {})+beam_of_light(grid, (i,grid.shape[1]-1), direction='right',cache = {})))))\n",
    "        elif grid[grid.shape[0]-1,i] == '\\\\':\n",
    "            max_energy = max(max_energy, len(beam_of_light(grid, (0,i), direction='left',cache = {})))\n",
    "        elif grid[grid.shape[0]-1,i] == '/':\n",
    "            max_energy = max(max_energy, len(beam_of_light(grid, (0,i), direction='right',cache = {})))\n",
    "        print(max_energy)\n",
    "        \n",
    "\n",
    "    return max_energy"
   ]
  },
  {
   "cell_type": "code",
   "execution_count": 210,
   "metadata": {},
   "outputs": [
    {
     "data": {
      "text/plain": [
       "51"
      ]
     },
     "execution_count": 210,
     "metadata": {},
     "output_type": "execute_result"
    }
   ],
   "source": [
    "part_two(day_16_test_grid)"
   ]
  },
  {
   "cell_type": "code",
   "execution_count": 211,
   "metadata": {},
   "outputs": [
    {
     "data": {
      "text/plain": [
       "8023"
      ]
     },
     "execution_count": 211,
     "metadata": {},
     "output_type": "execute_result"
    }
   ],
   "source": [
    "part_two(day_16_input_grid)"
   ]
  },
  {
   "cell_type": "code",
   "execution_count": null,
   "metadata": {},
   "outputs": [],
   "source": []
  }
 ],
 "metadata": {
  "kernelspec": {
   "display_name": "Python 3",
   "language": "python",
   "name": "python3"
  },
  "language_info": {
   "codemirror_mode": {
    "name": "ipython",
    "version": 3
   },
   "file_extension": ".py",
   "mimetype": "text/x-python",
   "name": "python",
   "nbconvert_exporter": "python",
   "pygments_lexer": "ipython3",
   "version": "3.9.13"
  },
  "orig_nbformat": 4
 },
 "nbformat": 4,
 "nbformat_minor": 2
}
