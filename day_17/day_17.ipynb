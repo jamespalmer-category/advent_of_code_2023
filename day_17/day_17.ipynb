{
 "cells": [
  {
   "cell_type": "code",
   "execution_count": 40,
   "metadata": {},
   "outputs": [
    {
     "name": "stdout",
     "output_type": "stream",
     "text": [
      "Collecting networkx"
     ]
    },
    {
     "name": "stderr",
     "output_type": "stream",
     "text": [
      "WARNING: You are using pip version 22.0.4; however, version 23.3.1 is available.\n",
      "You should consider upgrading via the 'C:\\Users\\james\\AppData\\Local\\Microsoft\\WindowsApps\\PythonSoftwareFoundation.Python.3.9_qbz5n2kfra8p0\\python.exe -m pip install --upgrade pip' command.\n"
     ]
    },
    {
     "name": "stdout",
     "output_type": "stream",
     "text": [
      "\n",
      "  Downloading networkx-3.2.1-py3-none-any.whl (1.6 MB)\n",
      "     ---------------------------------------- 1.6/1.6 MB 1.2 MB/s eta 0:00:00\n",
      "Installing collected packages: networkx\n",
      "Successfully installed networkx-3.2.1\n"
     ]
    }
   ],
   "source": [
    "!pip install networkx"
   ]
  },
  {
   "cell_type": "code",
   "execution_count": 370,
   "metadata": {},
   "outputs": [],
   "source": [
    "import re\n",
    "import ast\n",
    "import numpy as np\n",
    "import math\n",
    "from functools import cache\n",
    "from itertools import product\n",
    "\n",
    "def read_file_to_string(file_path):\n",
    "    with open(file_path,'r') as f:\n",
    "        return f.read()\n",
    "    \n",
    "day_17_string = read_file_to_string('day_17_input.txt')\n",
    "day_17_test = read_file_to_string('day_17_test.txt')\n",
    "day_17_test_2 = read_file_to_string('day_17_test_2.txt')\n",
    "# day_17_test_3 = read_file_to_string('day_17_test_3.txt')\n",
    "# day_17_test_4 = read_file_to_string('day_17_test_4.txt')\n",
    "# day_17_test_5 = read_file_to_string('day_17_test_5.txt')"
   ]
  },
  {
   "cell_type": "code",
   "execution_count": 6,
   "metadata": {},
   "outputs": [],
   "source": [
    "def parse_string(string):\n",
    "    \"\"\"\n",
    "    Tuple to make the function cachable\n",
    "    \"\"\"\n",
    "\n",
    "    day_17 = string.split('\\n')\n",
    "    day_17 = tuple([tuple([int(number) for number in list(string)]) for string in day_17])\n",
    "\n",
    "    return day_17"
   ]
  },
  {
   "cell_type": "code",
   "execution_count": 371,
   "metadata": {},
   "outputs": [],
   "source": [
    "test_grid = parse_string(day_17_test)\n",
    "test_grid_2 = parse_string(day_17_test_2)\n",
    "input_grid = parse_string(day_17_string)"
   ]
  },
  {
   "cell_type": "code",
   "execution_count": 9,
   "metadata": {},
   "outputs": [],
   "source": [
    "import heapq\n",
    "\n",
    "def neighbours(grid, point):\n",
    "\n",
    "    #print(len(grid[point[0]]))\n",
    "\n",
    "    neighbours_list = [\n",
    "        (grid[point[0]+1][point[1]] if point[0] != len(grid)-1 else None, (point[0]+1,point[1])),\n",
    "        (grid[point[0]-1][point[1]] if point[0] != 0 else None ,(point[0]-1,point[1])),\n",
    "        (grid[point[0]][point[1]+1] if point[1] != len(grid[point[0]])-1 else None ,(point[0],point[1]+1)),\n",
    "        (grid[point[0]][point[1]-1] if point[1] != 0 else None ,(point[0],point[1]-1))\n",
    "    ]\n",
    "\n",
    "    neighbours_list = [neighbour for neighbour in neighbours_list if neighbour[0] != None]\n",
    "    heapq.heapify(neighbours_list)\n",
    "\n",
    "    return neighbours_list"
   ]
  },
  {
   "cell_type": "code",
   "execution_count": 11,
   "metadata": {},
   "outputs": [
    {
     "name": "stdout",
     "output_type": "stream",
     "text": [
      "3 (1, 0)\n",
      "4 (0, 1)\n"
     ]
    }
   ],
   "source": [
    "for neighbour, heat_loss in neighbours(test_grid, (0,0)):\n",
    "    print(neighbour, heat_loss)"
   ]
  },
  {
   "cell_type": "code",
   "execution_count": 14,
   "metadata": {},
   "outputs": [],
   "source": [
    "@cache\n",
    "def shortest_path(grid, start, current_path = (), came_from=None):\n",
    "    #issue - it is going aimlessly around the grid\n",
    "    print(current_path)\n",
    "\n",
    "    # can only move left/right\n",
    "    if start == (len(grid)-1,len(grid[-1])-1):\n",
    "        return grid[-1][-1]\n",
    "    \n",
    "    else:\n",
    "        short_path = 10000000000\n",
    "        for heat_loss, neighbour in neighbours(grid, start):\n",
    "\n",
    "            if neighbour != came_from and neighbour not in current_path:\n",
    "                #how do I accurately do direction properly??\n",
    "                #we have came_from, which tells us whether we're going same dir as last time as \n",
    "                #one of the coords will need to have a difference of 2\n",
    "                \n",
    "                if len(current_path) >= 2:\n",
    "                    # print(start, current_path[-2])\n",
    "                    # print(max([neighbour[i] - current_path[-2][i] for i in range(len(current_path[-1]))]))\n",
    "                    if max([neighbour[i] - current_path[-2][i] for i in range(len(current_path[-1]))]) == 3:\n",
    "                        continue\n",
    "\n",
    "                short_path = min(short_path, shortest_path(grid, neighbour, current_path=current_path+(start,),came_from=start)+heat_loss)\n",
    "\n",
    "    return short_path"
   ]
  },
  {
   "cell_type": "code",
   "execution_count": 348,
   "metadata": {},
   "outputs": [],
   "source": [
    "def dijkstra_alg(grid, start,direction=None,steps_in_direction=0):\n",
    "    #need to find a way to put the 3 limit into this function. Best way is probably to track paths - but how?? \n",
    "\n",
    "    edges = []\n",
    "\n",
    "    for i in range(len(grid)):\n",
    "        for j in range(len(grid[0])):\n",
    "            for heat_loss, neighbour in neighbours(grid, (i,j)):\n",
    "                #this gives us source, destination, weight\n",
    "                edges.append([(i,j), neighbour, heat_loss])\n",
    "\n",
    "    adj = {}\n",
    "\n",
    "    for i in range(len(grid)):\n",
    "        for j in range(len(grid[0])):\n",
    "            adj[(i,j)] = []\n",
    "\n",
    "    for src, dst, weight in edges:\n",
    "        adj[src].append([dst,weight])\n",
    "\n",
    "    shortest = {} # map vertex to dist of shortest path, give path as well?\n",
    "\n",
    "    #0 allowed here as we don't assign weight to where we start\n",
    "    min_heap = [[0,(start,direction,steps_in_direction)]]\n",
    "\n",
    "    while min_heap:\n",
    "        w1, (n1,direc,steps) = heapq.heappop(min_heap)\n",
    "        \n",
    "\n",
    "        if (n1,direc,steps) in shortest:\n",
    "            continue\n",
    "\n",
    "        shortest[(n1,direc,steps)] = w1\n",
    "        if n1 == (len(grid)-1,len(grid)-1):\n",
    "            break\n",
    "\n",
    "\n",
    "       \n",
    "        for n2, w2 in adj[n1]:\n",
    "\n",
    "            vert_change = n2[0] - n1[0]\n",
    "            hor_change = n2[1] - n1[1]\n",
    "\n",
    "            if vert_change == 1:\n",
    "                new_direction = 'down'\n",
    "            elif vert_change == -1:\n",
    "                new_direction = 'up'\n",
    "            elif hor_change == -1:\n",
    "                new_direction = 'left'\n",
    "            elif hor_change == 1:\n",
    "                new_direction = 'right'\n",
    "\n",
    "            #write logic for if direction = new direction\n",
    "            if new_direction == 'left' and direc == 'right':\n",
    "                continue\n",
    "\n",
    "            elif new_direction == 'right' and direc == 'left':\n",
    "                continue\n",
    "\n",
    "            elif new_direction == 'up' and direc == 'down':\n",
    "                continue\n",
    "\n",
    "            elif new_direction == 'down' and direc == 'up':\n",
    "                continue\n",
    "\n",
    "            \n",
    "            if new_direction == direc:\n",
    "                \n",
    "                new_steps = steps + 1\n",
    "\n",
    "                if new_steps == 3:\n",
    "\n",
    "                    #have to have a way to show \"up\" is also not allowed...\n",
    "\n",
    "                    continue\n",
    "            else:\n",
    "                new_steps = 0\n",
    "                # if (n1,direc,steps) == ((0,2),'right',0):\n",
    "                #     print(adj[n1])\n",
    "        \n",
    "            if ((n2,new_direction,new_steps) not in shortest):\n",
    "                heapq.heappush(min_heap, [w1+w2, (n2,new_direction,new_steps)])\n",
    "        #print(min_heap)\n",
    "\n",
    "        \n",
    "\n",
    "    return shortest"
   ]
  },
  {
   "cell_type": "code",
   "execution_count": 354,
   "metadata": {},
   "outputs": [],
   "source": [
    "dij_alg_input = dijkstra_alg(input_grid, (0,0),None,steps_in_direction=0)"
   ]
  },
  {
   "cell_type": "code",
   "execution_count": 356,
   "metadata": {},
   "outputs": [
    {
     "name": "stdout",
     "output_type": "stream",
     "text": [
      "((140, 140), 'down', 2)\n",
      "1099\n"
     ]
    }
   ],
   "source": [
    "for k,v in dij_alg_input.items():\n",
    "    if k[0] == (len(input_grid)-1,len(input_grid[0])-1):\n",
    "        print(k)\n",
    "        print(v)"
   ]
  },
  {
   "cell_type": "markdown",
   "metadata": {},
   "source": [
    "## Part 2"
   ]
  },
  {
   "cell_type": "code",
   "execution_count": 375,
   "metadata": {},
   "outputs": [],
   "source": [
    "def dijkstra_alg_2(grid, start,direction=None,steps_in_direction=0):\n",
    "    #need to find a way to put the 3 limit into this function. Best way is probably to track paths - but how?? \n",
    "\n",
    "    edges = []\n",
    "\n",
    "    for i in range(len(grid)):\n",
    "        for j in range(len(grid[0])):\n",
    "            for heat_loss, neighbour in neighbours(grid, (i,j)):\n",
    "                #this gives us source, destination, weight\n",
    "                edges.append([(i,j), neighbour, heat_loss])\n",
    "\n",
    "    adj = {}\n",
    "\n",
    "    for i in range(len(grid)):\n",
    "        for j in range(len(grid[0])):\n",
    "            adj[(i,j)] = []\n",
    "\n",
    "    for src, dst, weight in edges:\n",
    "        adj[src].append([dst,weight])\n",
    "\n",
    "    shortest = {} # map vertex to dist of shortest path, give path as well?\n",
    "\n",
    "    #0 allowed here as we don't assign weight to where we start\n",
    "    min_heap = [[0,(start,direction,steps_in_direction)]]\n",
    "\n",
    "    while min_heap:\n",
    "        w1, (n1,direc,steps) = heapq.heappop(min_heap)\n",
    "        \n",
    "\n",
    "        if (n1,direc,steps) in shortest:\n",
    "            continue\n",
    "\n",
    "        shortest[(n1,direc,steps)] = w1\n",
    "        if n1 == (len(grid)-1,len(grid[0])-1):\n",
    "            break\n",
    "\n",
    "\n",
    "       \n",
    "        for n2, w2 in adj[n1]:\n",
    "\n",
    "            vert_change = n2[0] - n1[0]\n",
    "            hor_change = n2[1] - n1[1]\n",
    "\n",
    "            if vert_change == 1:\n",
    "                new_direction = 'down'\n",
    "            elif vert_change == -1:\n",
    "                new_direction = 'up'\n",
    "            elif hor_change == -1:\n",
    "                new_direction = 'left'\n",
    "            elif hor_change == 1:\n",
    "                new_direction = 'right'\n",
    "\n",
    "            #write logic for if direction = new direction\n",
    "            if new_direction == 'left' and direc == 'right':\n",
    "                continue\n",
    "\n",
    "            elif new_direction == 'right' and direc == 'left':\n",
    "                continue\n",
    "\n",
    "            elif new_direction == 'up' and direc == 'down':\n",
    "                continue\n",
    "\n",
    "            elif new_direction == 'down' and direc == 'up':\n",
    "                continue\n",
    "\n",
    "            \n",
    "            if new_direction == direc:\n",
    "                \n",
    "                new_steps = steps + 1\n",
    "\n",
    "                if new_steps == 10:\n",
    "\n",
    "                    #have to have a way to show \"up\" is also not allowed...\n",
    "\n",
    "                    continue\n",
    "            else:\n",
    "                if steps < 3:\n",
    "                    continue\n",
    "                new_steps = 0\n",
    "                # if (n1,direc,steps) == ((0,2),'right',0):\n",
    "                #     print(adj[n1])\n",
    "        \n",
    "            if ((n2,new_direction,new_steps) not in shortest):\n",
    "                heapq.heappush(min_heap, [w1+w2, (n2,new_direction,new_steps)])\n",
    "        #print(min_heap)\n",
    "        \n",
    "\n",
    "    return shortest"
   ]
  },
  {
   "cell_type": "code",
   "execution_count": 376,
   "metadata": {},
   "outputs": [],
   "source": [
    "dij_alg_2_right = dijkstra_alg_2(test_grid, (0,0),direction='right',steps_in_direction=0)"
   ]
  },
  {
   "cell_type": "code",
   "execution_count": 377,
   "metadata": {},
   "outputs": [],
   "source": [
    "dij_alg_2_down = dijkstra_alg_2(test_grid, (0,0),direction='down',steps_in_direction=0)"
   ]
  },
  {
   "cell_type": "code",
   "execution_count": 378,
   "metadata": {},
   "outputs": [],
   "source": [
    "dij_alg_test_2_down = dijkstra_alg_2(test_grid_2, (0,0),direction='down',steps_in_direction=0)\n",
    "dij_alg_test_2_right = dijkstra_alg_2(test_grid_2, (0,0),direction='right',steps_in_direction=0)"
   ]
  },
  {
   "cell_type": "code",
   "execution_count": 379,
   "metadata": {},
   "outputs": [
    {
     "name": "stdout",
     "output_type": "stream",
     "text": [
      "((12, 12), 'down', 7)\n",
      "94\n"
     ]
    }
   ],
   "source": [
    "for k,v in dij_alg_2_right.items():\n",
    "    if k[0] == (12,12):\n",
    "        print(k)\n",
    "        print(v)"
   ]
  },
  {
   "cell_type": "code",
   "execution_count": 380,
   "metadata": {},
   "outputs": [
    {
     "name": "stdout",
     "output_type": "stream",
     "text": [
      "((12, 12), 'right', 7)\n",
      "110\n"
     ]
    }
   ],
   "source": [
    "for k,v in dij_alg_2_down.items():\n",
    "    if k[0] == (12,12):\n",
    "        print(k)\n",
    "        print(v)"
   ]
  },
  {
   "cell_type": "code",
   "execution_count": 381,
   "metadata": {},
   "outputs": [
    {
     "data": {
      "text/plain": [
       "((1, 1, 1, 1, 1, 1, 1, 1, 1, 1, 1, 1),\n",
       " (9, 9, 9, 9, 9, 9, 9, 9, 9, 9, 9, 1),\n",
       " (9, 9, 9, 9, 9, 9, 9, 9, 9, 9, 9, 1),\n",
       " (9, 9, 9, 9, 9, 9, 9, 9, 9, 9, 9, 1),\n",
       " (9, 9, 9, 9, 9, 9, 9, 9, 9, 9, 9, 1))"
      ]
     },
     "execution_count": 381,
     "metadata": {},
     "output_type": "execute_result"
    }
   ],
   "source": [
    "test_grid_2"
   ]
  },
  {
   "cell_type": "code",
   "execution_count": 382,
   "metadata": {},
   "outputs": [
    {
     "name": "stdout",
     "output_type": "stream",
     "text": [
      "((4, 11), 'right', 1)\n",
      "55\n"
     ]
    }
   ],
   "source": [
    "for k,v in dij_alg_test_2_right.items():\n",
    "    if k[0] == (4,11):\n",
    "        print(k)\n",
    "        print(v)"
   ]
  },
  {
   "cell_type": "code",
   "execution_count": 374,
   "metadata": {},
   "outputs": [
    {
     "data": {
      "text/plain": [
       "{((0, 0), 'right', 0): 0,\n",
       " ((0, 1), 'right', 1): 1,\n",
       " ((0, 2), 'right', 2): 2,\n",
       " ((0, 3), 'right', 3): 3,\n",
       " ((0, 4), 'right', 4): 4,\n",
       " ((0, 5), 'right', 5): 5,\n",
       " ((0, 6), 'right', 6): 6,\n",
       " ((0, 7), 'right', 7): 7,\n",
       " ((0, 8), 'right', 8): 8,\n",
       " ((0, 9), 'right', 9): 9,\n",
       " ((1, 3), 'down', 0): 12,\n",
       " ((1, 4), 'down', 0): 13,\n",
       " ((1, 5), 'down', 0): 14,\n",
       " ((1, 6), 'down', 0): 15,\n",
       " ((1, 7), 'down', 0): 16,\n",
       " ((1, 8), 'down', 0): 17,\n",
       " ((1, 9), 'down', 0): 18,\n",
       " ((2, 3), 'down', 1): 21,\n",
       " ((2, 4), 'down', 1): 22,\n",
       " ((2, 5), 'down', 1): 23,\n",
       " ((2, 6), 'down', 1): 24,\n",
       " ((2, 7), 'down', 1): 25,\n",
       " ((2, 8), 'down', 1): 26,\n",
       " ((2, 9), 'down', 1): 27,\n",
       " ((3, 3), 'down', 2): 30,\n",
       " ((3, 4), 'down', 2): 31,\n",
       " ((3, 5), 'down', 2): 32,\n",
       " ((3, 6), 'down', 2): 33,\n",
       " ((3, 7), 'down', 2): 34,\n",
       " ((3, 8), 'down', 2): 35,\n",
       " ((3, 9), 'down', 2): 36,\n",
       " ((4, 3), 'down', 3): 39,\n",
       " ((4, 4), 'down', 3): 40}"
      ]
     },
     "execution_count": 374,
     "metadata": {},
     "output_type": "execute_result"
    }
   ],
   "source": [
    "dij_alg_test_2_right"
   ]
  },
  {
   "cell_type": "code",
   "execution_count": 383,
   "metadata": {},
   "outputs": [],
   "source": [
    "dij_alg_2_right = dijkstra_alg_2(input_grid, (0,0),direction='right',steps_in_direction=0)"
   ]
  },
  {
   "cell_type": "code",
   "execution_count": 384,
   "metadata": {},
   "outputs": [],
   "source": [
    "dij_alg_2_down = dijkstra_alg_2(input_grid, (0,0),direction='down',steps_in_direction=0)"
   ]
  },
  {
   "cell_type": "code",
   "execution_count": 385,
   "metadata": {},
   "outputs": [
    {
     "name": "stdout",
     "output_type": "stream",
     "text": [
      "((140, 140), 'down', 9)\n",
      "1266\n"
     ]
    }
   ],
   "source": [
    "for k,v in dij_alg_2_right.items():\n",
    "    if k[0] == (140, 140):\n",
    "        print(k)\n",
    "        print(v)"
   ]
  },
  {
   "cell_type": "code",
   "execution_count": 386,
   "metadata": {},
   "outputs": [
    {
     "name": "stdout",
     "output_type": "stream",
     "text": [
      "((140, 140), 'down', 9)\n",
      "1284\n"
     ]
    }
   ],
   "source": [
    "for k,v in dij_alg_2_down.items():\n",
    "    if k[0] == (140, 140):\n",
    "        print(k)\n",
    "        print(v)"
   ]
  },
  {
   "cell_type": "code",
   "execution_count": null,
   "metadata": {},
   "outputs": [],
   "source": []
  }
 ],
 "metadata": {
  "kernelspec": {
   "display_name": "Python 3",
   "language": "python",
   "name": "python3"
  },
  "language_info": {
   "codemirror_mode": {
    "name": "ipython",
    "version": 3
   },
   "file_extension": ".py",
   "mimetype": "text/x-python",
   "name": "python",
   "nbconvert_exporter": "python",
   "pygments_lexer": "ipython3",
   "version": "3.9.13"
  },
  "orig_nbformat": 4
 },
 "nbformat": 4,
 "nbformat_minor": 2
}
