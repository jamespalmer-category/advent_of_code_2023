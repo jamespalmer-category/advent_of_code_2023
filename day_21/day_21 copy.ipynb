{
 "cells": [
  {
   "cell_type": "code",
   "execution_count": 1,
   "metadata": {},
   "outputs": [],
   "source": [
    "import numpy as np\n",
    "from functools import cache\n",
    "from typing import Tuple\n",
    "\n",
    "def read_file_to_string(file_path):\n",
    "    with open(file_path,'r') as f:\n",
    "        return f.read()\n",
    "    \n",
    "day_21_string = read_file_to_string('day_21_input.txt')\n",
    "day_21_test = read_file_to_string('day_21_test.txt')"
   ]
  },
  {
   "cell_type": "code",
   "execution_count": 2,
   "metadata": {},
   "outputs": [],
   "source": [
    "def parse_string(string):\n",
    "    day_21 = string.split(\"\\n\")\n",
    "    day_21 = [np.array(list('#'+strin+'#')) for strin in day_21]\n",
    "    day_21 = [np.array(['#' for i in range(len(day_21[0]))])] + day_21 + [np.array(['#' for i in range(len(day_21[0]))])]\n",
    "\n",
    "    return np.array(day_21)"
   ]
  },
  {
   "cell_type": "code",
   "execution_count": 3,
   "metadata": {},
   "outputs": [],
   "source": [
    "day_21_input_grid = parse_string(day_21_string)\n",
    "day_21_test_grid = parse_string(day_21_test)"
   ]
  },
  {
   "cell_type": "code",
   "execution_count": 4,
   "metadata": {},
   "outputs": [],
   "source": [
    "day_21_test_tuple = tuple([tuple(row) for row in day_21_test_grid])"
   ]
  },
  {
   "cell_type": "code",
   "execution_count": 5,
   "metadata": {},
   "outputs": [],
   "source": [
    "@cache\n",
    "def get_neighbours(grid_tuple,index:tuple):\n",
    "    valid_ns = []\n",
    "    for index2 in [(index[0]-1,index[1]),(index[0]+1,index[1]),(index[0],index[1]-1),(index[0],index[1]+1)]:\n",
    "        if grid_tuple[index2[0]][index2[1]] != '#':\n",
    "            valid_ns.append(index2)\n",
    "\n",
    "    return valid_ns"
   ]
  },
  {
   "cell_type": "code",
   "execution_count": 6,
   "metadata": {},
   "outputs": [],
   "source": [
    "def number_of_gardens(grid, steps, start:Tuple[int,int],start_step=0):\n",
    "\n",
    "    \n",
    "    grid_tuple = tuple([tuple(row) for row in grid])\n",
    "\n",
    "    points_to_check = start\n",
    "    #print(points_to_check)\n",
    "\n",
    "    for i in range(start_step,steps):\n",
    "        #print(i)\n",
    "        \n",
    "        new_points = []\n",
    "\n",
    "        for point in points_to_check:\n",
    "            new_points += get_neighbours(grid_tuple,tuple(point))\n",
    "\n",
    "        points_to_check = list(set(new_points))\n",
    "        \n",
    "        if i in [64,195,326]:\n",
    "            print(i, len(points_to_check))\n",
    "\n",
    "    return np.array(points_to_check)"
   ]
  },
  {
   "cell_type": "code",
   "execution_count": 8,
   "metadata": {},
   "outputs": [],
   "source": [
    "test_gardens = number_of_gardens(day_21_test_grid, 6, ((6,6),))"
   ]
  },
  {
   "cell_type": "code",
   "execution_count": 9,
   "metadata": {},
   "outputs": [
    {
     "data": {
      "text/plain": [
       "16"
      ]
     },
     "execution_count": 9,
     "metadata": {},
     "output_type": "execute_result"
    }
   ],
   "source": [
    "len(test_gardens)"
   ]
  },
  {
   "cell_type": "code",
   "execution_count": 12,
   "metadata": {},
   "outputs": [],
   "source": [
    "#can we reduce this from 4.5s? If I run it a second time, it then takes 27 seconds..., takes 27s after as well. Why?\n",
    "input_gardens = number_of_gardens(day_21_input_grid, 64, ((66,66),))"
   ]
  },
  {
   "cell_type": "code",
   "execution_count": 13,
   "metadata": {},
   "outputs": [],
   "source": [
    "#it's when I call the function again. Hmmm\n",
    "input_gardens_2 = number_of_gardens(day_21_input_grid, 64, ((66,66),))"
   ]
  },
  {
   "cell_type": "code",
   "execution_count": 15,
   "metadata": {},
   "outputs": [
    {
     "data": {
      "text/plain": [
       "3724"
      ]
     },
     "execution_count": 15,
     "metadata": {},
     "output_type": "execute_result"
    }
   ],
   "source": [
    "len(input_gardens)"
   ]
  },
  {
   "cell_type": "markdown",
   "metadata": {},
   "source": [
    "## Part 2"
   ]
  },
  {
   "cell_type": "code",
   "execution_count": 7,
   "metadata": {},
   "outputs": [],
   "source": [
    "#when is the first time we see this grid reach the corners? We start at (66,66) we have to go 65 steps in each dir, so 130 steps\n",
    "def parse_string_2(string):\n",
    "    day_21 = string.split(\"\\n\")\n",
    "\n",
    "    day_21 = [np.array(['#']+list(strin*5)+['#']) for strin in day_21]\n",
    "\n",
    "\n",
    "    day_21 = [np.array(['#' for i in range(len(day_21[0]))])] + day_21*5 + [np.array(['#' for i in range(len(day_21[0]))])]\n",
    "\n",
    "    return np.array(day_21)"
   ]
  },
  {
   "cell_type": "code",
   "execution_count": 8,
   "metadata": {},
   "outputs": [],
   "source": [
    "day_21_input_grid_2 = parse_string_2(day_21_string)"
   ]
  },
  {
   "cell_type": "code",
   "execution_count": 9,
   "metadata": {},
   "outputs": [
    {
     "data": {
      "text/plain": [
       "(657, 657)"
      ]
     },
     "execution_count": 9,
     "metadata": {},
     "output_type": "execute_result"
    }
   ],
   "source": [
    "day_21_input_grid_2.shape"
   ]
  },
  {
   "cell_type": "code",
   "execution_count": null,
   "metadata": {},
   "outputs": [],
   "source": [
    "number_of_gardens(day_21_input_grid_2, 327, (328,328))"
   ]
  },
  {
   "cell_type": "code",
   "execution_count": 11,
   "metadata": {},
   "outputs": [
    {
     "name": "stdout",
     "output_type": "stream",
     "text": [
      "64 3821\n",
      "195 34234\n",
      "326 94963\n"
     ]
    }
   ],
   "source": [
    "input_gardens_p2 = number_of_gardens(day_21_input_grid_2, 327, ((328,328),))"
   ]
  },
  {
   "cell_type": "code",
   "execution_count": 182,
   "metadata": {},
   "outputs": [
    {
     "data": {
      "text/plain": [
       "3821"
      ]
     },
     "execution_count": 182,
     "metadata": {},
     "output_type": "execute_result"
    }
   ],
   "source": [
    "len(input_gardens_2[0]) #correct"
   ]
  },
  {
   "cell_type": "code",
   "execution_count": 137,
   "metadata": {},
   "outputs": [
    {
     "name": "stdout",
     "output_type": "stream",
     "text": [
      "3821\n"
     ]
    }
   ],
   "source": [
    "G0 = number_of_gardens(day_21_input_grid, 65, (66,66))\n",
    "print(len(G0[0]))"
   ]
  },
  {
   "cell_type": "code",
   "execution_count": 138,
   "metadata": {},
   "outputs": [
    {
     "name": "stdout",
     "output_type": "stream",
     "text": [
      "7602\n",
      "7556\n",
      "7556\n"
     ]
    }
   ],
   "source": [
    "G1 = number_of_gardens(day_21_input_grid, 131, (66,66))\n",
    "print(len(G1[0]))"
   ]
  },
  {
   "cell_type": "code",
   "execution_count": 135,
   "metadata": {},
   "outputs": [
    {
     "ename": "KeyboardInterrupt",
     "evalue": "",
     "output_type": "error",
     "traceback": [
      "\u001b[1;31m---------------------------------------------------------------------------\u001b[0m",
      "\u001b[1;31mKeyboardInterrupt\u001b[0m                         Traceback (most recent call last)",
      "Cell \u001b[1;32mIn[135], line 2\u001b[0m\n\u001b[0;32m      1\u001b[0m G2 \u001b[39m=\u001b[39m number_of_gardens(day_21_input_grid, \u001b[39m65\u001b[39m, (\u001b[39m1\u001b[39m,\u001b[39m66\u001b[39m))\n\u001b[1;32m----> 2\u001b[0m G3 \u001b[39m=\u001b[39m number_of_gardens(day_21_input_grid, \u001b[39m65\u001b[39;49m, (\u001b[39m131\u001b[39;49m,\u001b[39m66\u001b[39;49m))\n\u001b[0;32m      3\u001b[0m G4 \u001b[39m=\u001b[39m number_of_gardens(day_21_input_grid, \u001b[39m65\u001b[39m, (\u001b[39m66\u001b[39m,\u001b[39m1\u001b[39m))\n\u001b[0;32m      4\u001b[0m G5 \u001b[39m=\u001b[39m number_of_gardens(day_21_input_grid, \u001b[39m65\u001b[39m, (\u001b[39m66\u001b[39m,\u001b[39m131\u001b[39m))\n",
      "Cell \u001b[1;32mIn[132], line 21\u001b[0m, in \u001b[0;36mnumber_of_gardens\u001b[1;34m(grid, steps, start)\u001b[0m\n\u001b[0;32m     17\u001b[0m new_points \u001b[39m=\u001b[39m []\n\u001b[0;32m     19\u001b[0m \u001b[39mfor\u001b[39;00m point \u001b[39min\u001b[39;00m points_to_check:\n\u001b[1;32m---> 21\u001b[0m     new_points \u001b[39m+\u001b[39m\u001b[39m=\u001b[39m get_neighbours(grid_tuple,point)\n\u001b[0;32m     23\u001b[0m points_to_check \u001b[39m=\u001b[39m \u001b[39mlist\u001b[39m(\u001b[39mset\u001b[39m(new_points))\n\u001b[0;32m     25\u001b[0m \u001b[39mif\u001b[39;00m i \u001b[39m>\u001b[39m\u001b[39m=\u001b[39m \u001b[39m129\u001b[39m:\n",
      "\u001b[1;31mKeyboardInterrupt\u001b[0m: "
     ]
    }
   ],
   "source": [
    "G2 = number_of_gardens(day_21_input_grid, 65, (1,66))\n",
    "G3 = number_of_gardens(day_21_input_grid, 65, (131,66))\n",
    "G4 = number_of_gardens(day_21_input_grid, 65, (66,1))\n",
    "G5 = number_of_gardens(day_21_input_grid, 65, (66,131)) #it should be 131 for all ffs"
   ]
  },
  {
   "cell_type": "code",
   "execution_count": 136,
   "metadata": {},
   "outputs": [
    {
     "name": "stdout",
     "output_type": "stream",
     "text": [
      "1935 1954 1966 1977\n"
     ]
    }
   ],
   "source": [
    "print(len(G2[0]),len(G3[0]),len(G4[0]),len(G5[0]))"
   ]
  },
  {
   "cell_type": "code",
   "execution_count": 164,
   "metadata": {},
   "outputs": [
    {
     "data": {
      "text/plain": [
       "15388"
      ]
     },
     "execution_count": 164,
     "metadata": {},
     "output_type": "execute_result"
    }
   ],
   "source": [
    "(1935 + 1954 + 1966 + 1977 + 7556)"
   ]
  },
  {
   "cell_type": "code",
   "execution_count": 141,
   "metadata": {},
   "outputs": [
    {
     "name": "stdout",
     "output_type": "stream",
     "text": [
      "3841\n",
      "3900\n",
      "3874\n",
      "3874\n",
      "3860\n",
      "3885\n",
      "3858\n",
      "3896\n"
     ]
    }
   ],
   "source": [
    "G6 = number_of_gardens(day_21_input_grid, 131, (1,1))\n",
    "G7 = number_of_gardens(day_21_input_grid, 131, (131,131))\n",
    "G8 = number_of_gardens(day_21_input_grid, 131, (131,1))\n",
    "G9 = number_of_gardens(day_21_input_grid, 131, (1,131))"
   ]
  },
  {
   "cell_type": "code",
   "execution_count": 142,
   "metadata": {},
   "outputs": [
    {
     "name": "stdout",
     "output_type": "stream",
     "text": [
      "3900 3874 3885 3896\n"
     ]
    }
   ],
   "source": [
    "print(len(G6[0]),len(G7[0]),len(G8[0]),len(G9[0]))"
   ]
  },
  {
   "cell_type": "code",
   "execution_count": 143,
   "metadata": {},
   "outputs": [
    {
     "name": "stdout",
     "output_type": "stream",
     "text": [
      "5692\n",
      "5786\n",
      "5820\n",
      "5912\n",
      "5926\n",
      "6018\n",
      "6028\n",
      "6118\n",
      "6123\n",
      "6214\n",
      "6218\n",
      "6299\n",
      "6315\n",
      "6393\n",
      "6406\n",
      "6484\n",
      "6490\n",
      "6575\n",
      "6574\n",
      "6657\n",
      "6655\n",
      "6742\n",
      "6733\n",
      "6818\n",
      "6803\n",
      "6885\n",
      "6870\n",
      "6950\n",
      "6933\n",
      "7011\n",
      "6994\n",
      "7073\n",
      "7057\n",
      "7136\n",
      "7119\n",
      "7196\n",
      "7175\n",
      "5685\n",
      "5800\n",
      "5813\n",
      "5926\n",
      "5918\n",
      "6028\n",
      "6028\n",
      "6126\n",
      "6135\n",
      "6230\n",
      "6239\n",
      "6331\n",
      "6334\n",
      "6422\n",
      "6417\n",
      "6505\n",
      "6507\n",
      "6593\n",
      "6592\n",
      "6674\n",
      "6670\n",
      "6749\n",
      "6743\n",
      "6825\n",
      "6816\n",
      "6894\n",
      "6883\n",
      "6962\n",
      "6953\n",
      "7021\n",
      "7012\n",
      "7086\n",
      "7074\n",
      "7149\n",
      "7132\n",
      "7200\n",
      "7183\n",
      "5672\n",
      "5789\n",
      "5800\n",
      "5915\n",
      "5907\n",
      "6021\n",
      "6015\n",
      "6116\n",
      "6116\n",
      "6212\n",
      "6216\n",
      "6309\n",
      "6317\n",
      "6402\n",
      "6409\n",
      "6487\n",
      "6499\n",
      "6577\n",
      "6585\n",
      "6657\n",
      "6665\n",
      "6737\n",
      "6744\n",
      "6814\n",
      "6813\n",
      "6878\n",
      "6877\n",
      "6946\n",
      "6946\n",
      "7008\n",
      "7013\n",
      "7072\n",
      "7076\n",
      "7134\n",
      "7135\n",
      "7192\n",
      "7186\n",
      "5705\n",
      "5797\n",
      "5833\n",
      "5923\n",
      "5937\n",
      "6025\n",
      "6041\n",
      "6128\n",
      "6142\n",
      "6232\n",
      "6241\n",
      "6321\n",
      "6332\n",
      "6413\n",
      "6414\n",
      "6502\n",
      "6498\n",
      "6591\n",
      "6581\n",
      "6674\n",
      "6660\n",
      "6754\n",
      "6732\n",
      "6829\n",
      "6806\n",
      "6901\n",
      "6876\n",
      "6966\n",
      "6940\n",
      "7024\n",
      "6993\n",
      "7087\n",
      "7055\n",
      "7151\n",
      "7116\n",
      "7204\n",
      "7172\n"
     ]
    }
   ],
   "source": [
    "G10 = number_of_gardens(day_21_input_grid, 166, (1,66))\n",
    "G11 = number_of_gardens(day_21_input_grid, 166, (131,66))\n",
    "G12 = number_of_gardens(day_21_input_grid, 166, (66,1))\n",
    "G13 = number_of_gardens(day_21_input_grid, 166, (66,131))"
   ]
  },
  {
   "cell_type": "code",
   "execution_count": 144,
   "metadata": {},
   "outputs": [
    {
     "name": "stdout",
     "output_type": "stream",
     "text": [
      "7175 7183 7186 7172\n"
     ]
    }
   ],
   "source": [
    "print(len(G10[0]),len(G11[0]),len(G12[0]),len(G13[0]))"
   ]
  },
  {
   "cell_type": "code",
   "execution_count": 145,
   "metadata": {},
   "outputs": [
    {
     "data": {
      "text/plain": [
       "59705"
      ]
     },
     "execution_count": 145,
     "metadata": {},
     "output_type": "execute_result"
    }
   ],
   "source": [
    "7602+(1935 + 1954 + 1966 + 1977)+(3900+3874+3885+3896)+(7175+7183+7186+7172)"
   ]
  },
  {
   "cell_type": "code",
   "execution_count": 13,
   "metadata": {},
   "outputs": [],
   "source": [
    "def fit_quadratic(x_0,x_1,x_2):\n",
    "\n",
    "    a = x_0\n",
    "    b_plus_c = x_1 - a\n",
    "    four_c_plus_2b = x_2 - a\n",
    "\n",
    "    c =  (four_c_plus_2b - 2*b_plus_c)/2\n",
    "    b = b_plus_c - c\n",
    "\n",
    "    return (a,b,c)"
   ]
  },
  {
   "cell_type": "code",
   "execution_count": 165,
   "metadata": {},
   "outputs": [
    {
     "data": {
      "text/plain": [
       "(3821, -4808.0, 16375.0)"
      ]
     },
     "execution_count": 165,
     "metadata": {},
     "output_type": "execute_result"
    }
   ],
   "source": [
    "fit_quadratic(3821,15388,59705)"
   ]
  },
  {
   "cell_type": "code",
   "execution_count": 16,
   "metadata": {},
   "outputs": [],
   "source": [
    "def use_fitted_quad(x_0,x_1,x_2,n):\n",
    "\n",
    "    a,b,c = fit_quadratic(x_0,x_1,x_2)\n",
    "    \n",
    "    return a+n*b + c*(n**2)"
   ]
  },
  {
   "cell_type": "code",
   "execution_count": 167,
   "metadata": {},
   "outputs": [
    {
     "data": {
      "text/plain": [
       "670150651095421.0"
      ]
     },
     "execution_count": 167,
     "metadata": {},
     "output_type": "execute_result"
    }
   ],
   "source": [
    "use_fitted_quad(3821,15388,59705,26501365 // 131)"
   ]
  },
  {
   "cell_type": "code",
   "execution_count": 14,
   "metadata": {},
   "outputs": [
    {
     "data": {
      "text/plain": [
       "(3821, 15255.0, 15158.0)"
      ]
     },
     "execution_count": 14,
     "metadata": {},
     "output_type": "execute_result"
    }
   ],
   "source": [
    "fit_quadratic(3821,\n",
    "34234,\n",
    "94963)"
   ]
  },
  {
   "cell_type": "code",
   "execution_count": 17,
   "metadata": {},
   "outputs": [
    {
     "data": {
      "text/plain": [
       "620348631910321.0"
      ]
     },
     "execution_count": 17,
     "metadata": {},
     "output_type": "execute_result"
    }
   ],
   "source": [
    "use_fitted_quad(3821,\n",
    "34234,\n",
    "94963,\n",
    "26501365 // 131)"
   ]
  },
  {
   "cell_type": "code",
   "execution_count": null,
   "metadata": {},
   "outputs": [],
   "source": [
    "###670150651095421 too high!\n",
    "###620348631910321"
   ]
  }
 ],
 "metadata": {
  "kernelspec": {
   "display_name": "Python 3",
   "language": "python",
   "name": "python3"
  },
  "language_info": {
   "codemirror_mode": {
    "name": "ipython",
    "version": 3
   },
   "file_extension": ".py",
   "mimetype": "text/x-python",
   "name": "python",
   "nbconvert_exporter": "python",
   "pygments_lexer": "ipython3",
   "version": "3.9.13"
  },
  "orig_nbformat": 4
 },
 "nbformat": 4,
 "nbformat_minor": 2
}
