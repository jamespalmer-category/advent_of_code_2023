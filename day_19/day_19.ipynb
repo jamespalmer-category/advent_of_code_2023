{
 "cells": [
  {
   "cell_type": "code",
   "execution_count": 125,
   "metadata": {},
   "outputs": [],
   "source": [
    "import re\n",
    "import ast\n",
    "import numpy as np\n",
    "import math\n",
    "from functools import cache\n",
    "from itertools import product\n",
    "\n",
    "def read_file_to_string(file_path):\n",
    "    with open(file_path,'r') as f:\n",
    "        return f.read()\n",
    "    \n",
    "day_19_string = read_file_to_string('day_19_input.txt')\n",
    "day_19_test = read_file_to_string('day_19_test.txt')\n",
    "#day_19_test_2 = read_file_to_string('day_19_test_2.txt')\n",
    "# day_19_test_3 = read_file_to_string('day_19_test_3.txt')\n",
    "# day_19_test_4 = read_file_to_string('day_19_test_4.txt')\n",
    "# day_19_test_5 = read_file_to_string('day_19_test_5.txt')"
   ]
  },
  {
   "cell_type": "code",
   "execution_count": 126,
   "metadata": {},
   "outputs": [],
   "source": [
    "def parse_string(string):\n",
    "\n",
    "    day_19=string.split('\\n\\n')\n",
    "    rules = day_19[0].split('\\n')\n",
    "    inputs = day_19[1].split('\\n')\n",
    "\n",
    "    rules = {string[:string.index('{')]:string[string.index('{')+1:-1].split(',') for string in rules}\n",
    "    \n",
    "    inputs = [{re.findall('[xmas]',input)[j]: re.findall('[0-9]+',input)[j] for j in range(4)} for input in inputs]\n",
    "    for dic in inputs:\n",
    "        for k,v in dic.items():\n",
    "            dic[k] = int(v)\n",
    "    \n",
    "\n",
    "    return rules, inputs"
   ]
  },
  {
   "cell_type": "code",
   "execution_count": 127,
   "metadata": {},
   "outputs": [
    {
     "ename": "TypeError",
     "evalue": "'dict' object is not callable",
     "output_type": "error",
     "traceback": [
      "\u001b[1;31m---------------------------------------------------------------------------\u001b[0m",
      "\u001b[1;31mTypeError\u001b[0m                                 Traceback (most recent call last)",
      "Cell \u001b[1;32mIn[127], line 1\u001b[0m\n\u001b[1;32m----> 1\u001b[0m test_rules, test_parts \u001b[39m=\u001b[39m parse_string(day_19_test)\n",
      "Cell \u001b[1;32mIn[126], line 9\u001b[0m, in \u001b[0;36mparse_string\u001b[1;34m(string)\u001b[0m\n\u001b[0;32m      5\u001b[0m inputs \u001b[39m=\u001b[39m day_19[\u001b[39m1\u001b[39m]\u001b[39m.\u001b[39msplit(\u001b[39m'\u001b[39m\u001b[39m\\n\u001b[39;00m\u001b[39m'\u001b[39m)\n\u001b[0;32m      7\u001b[0m rules \u001b[39m=\u001b[39m {string[:string\u001b[39m.\u001b[39mindex(\u001b[39m'\u001b[39m\u001b[39m{\u001b[39m\u001b[39m'\u001b[39m)]:string[string\u001b[39m.\u001b[39mindex(\u001b[39m'\u001b[39m\u001b[39m{\u001b[39m\u001b[39m'\u001b[39m)\u001b[39m+\u001b[39m\u001b[39m1\u001b[39m:\u001b[39m-\u001b[39m\u001b[39m1\u001b[39m]\u001b[39m.\u001b[39msplit(\u001b[39m'\u001b[39m\u001b[39m,\u001b[39m\u001b[39m'\u001b[39m) \u001b[39mfor\u001b[39;00m string \u001b[39min\u001b[39;00m rules}\n\u001b[1;32m----> 9\u001b[0m inputs \u001b[39m=\u001b[39m [{re\u001b[39m.\u001b[39mfindall(\u001b[39m'\u001b[39m\u001b[39m[xmas]\u001b[39m\u001b[39m'\u001b[39m,\u001b[39minput\u001b[39m)[j]: re\u001b[39m.\u001b[39mfindall(\u001b[39m'\u001b[39m\u001b[39m[0-9]+\u001b[39m\u001b[39m'\u001b[39m,\u001b[39minput\u001b[39m)[j] \u001b[39mfor\u001b[39;00m j \u001b[39min\u001b[39;00m \u001b[39mrange\u001b[39m(\u001b[39m4\u001b[39m)} \u001b[39mfor\u001b[39;00m \u001b[39minput\u001b[39m \u001b[39min\u001b[39;00m inputs]\n\u001b[0;32m     10\u001b[0m \u001b[39mfor\u001b[39;00m dic \u001b[39min\u001b[39;00m inputs:\n\u001b[0;32m     11\u001b[0m     \u001b[39mfor\u001b[39;00m k,v \u001b[39min\u001b[39;00m dic\u001b[39m.\u001b[39mitems():\n",
      "Cell \u001b[1;32mIn[126], line 9\u001b[0m, in \u001b[0;36m<listcomp>\u001b[1;34m(.0)\u001b[0m\n\u001b[0;32m      5\u001b[0m inputs \u001b[39m=\u001b[39m day_19[\u001b[39m1\u001b[39m]\u001b[39m.\u001b[39msplit(\u001b[39m'\u001b[39m\u001b[39m\\n\u001b[39;00m\u001b[39m'\u001b[39m)\n\u001b[0;32m      7\u001b[0m rules \u001b[39m=\u001b[39m {string[:string\u001b[39m.\u001b[39mindex(\u001b[39m'\u001b[39m\u001b[39m{\u001b[39m\u001b[39m'\u001b[39m)]:string[string\u001b[39m.\u001b[39mindex(\u001b[39m'\u001b[39m\u001b[39m{\u001b[39m\u001b[39m'\u001b[39m)\u001b[39m+\u001b[39m\u001b[39m1\u001b[39m:\u001b[39m-\u001b[39m\u001b[39m1\u001b[39m]\u001b[39m.\u001b[39msplit(\u001b[39m'\u001b[39m\u001b[39m,\u001b[39m\u001b[39m'\u001b[39m) \u001b[39mfor\u001b[39;00m string \u001b[39min\u001b[39;00m rules}\n\u001b[1;32m----> 9\u001b[0m inputs \u001b[39m=\u001b[39m [{re\u001b[39m.\u001b[39mfindall(\u001b[39m'\u001b[39m\u001b[39m[xmas]\u001b[39m\u001b[39m'\u001b[39m,\u001b[39minput\u001b[39m)[j]: re\u001b[39m.\u001b[39mfindall(\u001b[39m'\u001b[39m\u001b[39m[0-9]+\u001b[39m\u001b[39m'\u001b[39m,\u001b[39minput\u001b[39m)[j] \u001b[39mfor\u001b[39;00m j \u001b[39min\u001b[39;00m \u001b[39mrange\u001b[39;49m(\u001b[39m4\u001b[39;49m)} \u001b[39mfor\u001b[39;00m \u001b[39minput\u001b[39m \u001b[39min\u001b[39;00m inputs]\n\u001b[0;32m     10\u001b[0m \u001b[39mfor\u001b[39;00m dic \u001b[39min\u001b[39;00m inputs:\n\u001b[0;32m     11\u001b[0m     \u001b[39mfor\u001b[39;00m k,v \u001b[39min\u001b[39;00m dic\u001b[39m.\u001b[39mitems():\n",
      "\u001b[1;31mTypeError\u001b[0m: 'dict' object is not callable"
     ]
    }
   ],
   "source": [
    "test_rules, test_parts = parse_string(day_19_test)"
   ]
  },
  {
   "cell_type": "code",
   "execution_count": 24,
   "metadata": {},
   "outputs": [],
   "source": [
    "def parse_rule(rule_string):\n",
    "    \n",
    "    \n",
    "    rule = re.findall(r'<|>', rule_string)[0]\n",
    "    letter = rule_string[0]\n",
    "    number = int(re.findall(r'[0-9]+', rule_string)[0])\n",
    "    output = rule_string[rule_string.rindex(':')+1:]\n",
    "\n",
    "    return (letter, rule, number, output)"
   ]
  },
  {
   "cell_type": "code",
   "execution_count": 25,
   "metadata": {},
   "outputs": [
    {
     "data": {
      "text/plain": [
       "('a', '<', 2006, 'qkq')"
      ]
     },
     "execution_count": 25,
     "metadata": {},
     "output_type": "execute_result"
    }
   ],
   "source": [
    "parse_rule('a<2006:qkq')"
   ]
  },
  {
   "cell_type": "code",
   "execution_count": 49,
   "metadata": {},
   "outputs": [],
   "source": [
    "def accepted_or_rejected(part_dict, rules,start='in'):\n",
    "\n",
    "    place = start\n",
    "\n",
    "    #print(place)\n",
    "    while True:\n",
    "        for rule in rules[place]:\n",
    "            #print(rule)\n",
    "            if rule == 'A':\n",
    "                return True\n",
    "            elif rule == 'R':\n",
    "                return False\n",
    "            elif rule in rules.keys():\n",
    "                place = rule\n",
    "                break\n",
    "            else:\n",
    "                letter, ineq, number, output = parse_rule(rule)\n",
    "\n",
    "                if ineq == '<':\n",
    "                    if part_dict[letter] < number:\n",
    "                        if output == 'A':\n",
    "                            return True\n",
    "                        elif output == 'R':\n",
    "                            return False\n",
    "                        else:\n",
    "                            place = output\n",
    "                            break\n",
    "\n",
    "\n",
    "\n",
    "                elif ineq == '>':\n",
    "                    if part_dict[letter] > number:\n",
    "                        if output == 'A':\n",
    "                            return True\n",
    "                        elif output == 'R':\n",
    "                            return False\n",
    "                        else:\n",
    "                            place = output\n",
    "                            break\n"
   ]
  },
  {
   "cell_type": "code",
   "execution_count": 53,
   "metadata": {},
   "outputs": [],
   "source": [
    "def part_one(parts, rules):\n",
    "\n",
    "    sum_ = 0\n",
    "    for part in parts:\n",
    "        if accepted_or_rejected(part, rules, start='in'):\n",
    "            sum_ += sum(list(part.values()))\n",
    "\n",
    "    return sum_"
   ]
  },
  {
   "cell_type": "code",
   "execution_count": 54,
   "metadata": {},
   "outputs": [
    {
     "data": {
      "text/plain": [
       "19114"
      ]
     },
     "execution_count": 54,
     "metadata": {},
     "output_type": "execute_result"
    }
   ],
   "source": [
    "part_one(parts, rules)"
   ]
  },
  {
   "cell_type": "code",
   "execution_count": 57,
   "metadata": {},
   "outputs": [],
   "source": [
    "input_rules, input_parts = parse_string(day_19_string)"
   ]
  },
  {
   "cell_type": "code",
   "execution_count": 58,
   "metadata": {},
   "outputs": [
    {
     "data": {
      "text/plain": [
       "476889"
      ]
     },
     "execution_count": 58,
     "metadata": {},
     "output_type": "execute_result"
    }
   ],
   "source": [
    "part_one(input_parts, input_rules)"
   ]
  },
  {
   "cell_type": "markdown",
   "metadata": {},
   "source": [
    "## Part 2"
   ]
  },
  {
   "cell_type": "code",
   "execution_count": 128,
   "metadata": {},
   "outputs": [],
   "source": [
    "def parse_string_2(string):\n",
    "\n",
    "    day_19=string.split('\\n\\n')\n",
    "    rules = day_19[0].split('\\n')\n",
    "\n",
    "    rules = {string[:string.index('{')]:string[string.index('{')+1:-1].split(',') for string in rules}\n",
    "    return rules"
   ]
  },
  {
   "cell_type": "code",
   "execution_count": 62,
   "metadata": {},
   "outputs": [],
   "source": [
    "def parse_rule_2(rule_string):\n",
    "    \n",
    "    \n",
    "    rule = re.findall(r'<|>', rule_string)[0]\n",
    "    letter = rule_string[0]\n",
    "    number = int(re.findall(r'[0-9]+', rule_string)[0])\n",
    "    output = rule_string[rule_string.rindex(':')+1:]\n",
    "\n",
    "    condition, opposite = ((letter, rule, number, output), (letter, '<=' if rule == '>' else '>=', number))\n",
    "\n",
    "    return condition, opposite"
   ]
  },
  {
   "cell_type": "code",
   "execution_count": 130,
   "metadata": {},
   "outputs": [],
   "source": [
    "test_rules = parse_string_2(day_19_test)\n",
    "input_rules = parse_string_2(day_19_string)"
   ]
  },
  {
   "cell_type": "code",
   "execution_count": 135,
   "metadata": {},
   "outputs": [],
   "source": [
    "def accepted_or_rejected_ranges(rules):\n",
    "\n",
    "    #we get to a rule in our process, add two parts to the part dict: one where we follow the rule and another where we don't\n",
    "    #we want to have 8 eles to the parts dict, max_a and min_a etc.\n",
    "\n",
    "    parts_dict = {'max_x':4000,\n",
    "                  'min_x':1,\n",
    "                  'max_m':4000,\n",
    "                  'min_m':1,\n",
    "                  'max_a':4000,\n",
    "                  'min_a':1,\n",
    "                  'max_s':4000,\n",
    "                  'min_s':1\n",
    "                  }\n",
    "    \n",
    "    #parts_dict_opposite = parts_dict.copy()\n",
    "\n",
    "    finished_processes = [] #put a hard copy of the done dict here\n",
    "    \n",
    "    queue = [(parts_dict,'in',0)]\n",
    "\n",
    "\n",
    "\n",
    "    #print(place)\n",
    "    while len(queue) > 0:\n",
    "        eg_dict, key, index = queue.pop(0)\n",
    "        #print(eg_dict, key, index)\n",
    "\n",
    "        rule = rules[key][index]\n",
    "        #print(rule)\n",
    "        if rule == 'A':\n",
    "            #print(key)\n",
    "            finished_processes.append(eg_dict)\n",
    "        elif rule == 'R':\n",
    "            #rejected, don't need to store it anywhere (could delete the dict to save memory?)\n",
    "            continue\n",
    "        elif rule in rules.keys():\n",
    "            #need to push to queue\n",
    "            queue.append((eg_dict,rule,0))\n",
    "            continue\n",
    "        else:\n",
    "            \n",
    "            letter, ineq, number, output = parse_rule_2(rule)[0]\n",
    "\n",
    "            if ineq == '<':\n",
    "                parts_dict_follows = eg_dict.copy()\n",
    "                parts_dict_opposite = eg_dict.copy()\n",
    "\n",
    "                parts_dict_follows['max_'+letter] = number-1 if number-1 < parts_dict_follows['max_'+letter] else parts_dict_follows['max_'+letter]\n",
    "                parts_dict_opposite['min_'+letter] = number if number > parts_dict_opposite['min_'+letter] else parts_dict_opposite['min_'+letter]\n",
    "                \n",
    "                \n",
    "                if output == 'A':\n",
    "                    #print(key)\n",
    "                    finished_processes.append(parts_dict_follows)\n",
    "                elif output == 'R':\n",
    "                    queue.append((parts_dict_opposite,key,index+1))\n",
    "                    continue\n",
    "                else:\n",
    "                    queue.append((parts_dict_follows,output,0))\n",
    "                \n",
    "                queue.append((parts_dict_opposite,key,index+1))\n",
    "\n",
    "                    \n",
    "\n",
    "\n",
    "            elif ineq == '>':\n",
    "                parts_dict_follows = eg_dict.copy()\n",
    "                parts_dict_opposite = eg_dict.copy()\n",
    "\n",
    "                parts_dict_follows['min_'+letter] = number+1 if number+1 > parts_dict_follows['min_'+letter] else parts_dict_follows['min_'+letter]\n",
    "                parts_dict_opposite['max_'+letter] = number if number < parts_dict_opposite['max_'+letter] else parts_dict_opposite['max_'+letter]\n",
    "                \n",
    "                if output == 'A':\n",
    "                    #print(key)\n",
    "                    finished_processes.append(parts_dict_follows)\n",
    "                elif output == 'R':\n",
    "                    queue.append((parts_dict_opposite,key,index+1))\n",
    "                    continue\n",
    "                else:\n",
    "                    queue.append((parts_dict_follows,output,0))\n",
    "\n",
    "                \n",
    "                queue.append((parts_dict_opposite,key,index+1))\n",
    "\n",
    "        #print(queue)\n",
    "\n",
    "    return finished_processes\n",
    "#after editing it, store this in the queue with the rule in dictionary AND the index of the dict value so we know which rule to get to next\n"
   ]
  },
  {
   "cell_type": "code",
   "execution_count": 136,
   "metadata": {},
   "outputs": [],
   "source": [
    "def part_two(ranges):\n",
    "    sum_ = 0\n",
    "\n",
    "    for range in ranges:\n",
    "\n",
    "        range_product = (1+range['max_x']-range['min_x'])*(1+range['max_m']-range['min_m'])*(1+range['max_a']-range['min_a'])*(1+range['max_s']-range['min_s'])\n",
    "        sum_ += range_product if range_product > 0 else 0\n",
    "\n",
    "    return sum_\n",
    "#currently missing ranges!"
   ]
  },
  {
   "cell_type": "code",
   "execution_count": 137,
   "metadata": {},
   "outputs": [],
   "source": [
    "test_ranges=accepted_or_rejected_ranges(test_rules)"
   ]
  },
  {
   "cell_type": "code",
   "execution_count": 138,
   "metadata": {},
   "outputs": [
    {
     "data": {
      "text/plain": [
       "167409079868000"
      ]
     },
     "execution_count": 138,
     "metadata": {},
     "output_type": "execute_result"
    }
   ],
   "source": [
    "part_two(test_ranges)"
   ]
  },
  {
   "cell_type": "code",
   "execution_count": 139,
   "metadata": {},
   "outputs": [
    {
     "data": {
      "text/plain": [
       "132380153677887"
      ]
     },
     "execution_count": 139,
     "metadata": {},
     "output_type": "execute_result"
    }
   ],
   "source": [
    "input_ranges = accepted_or_rejected_ranges(input_rules)\n",
    "part_two(input_ranges)"
   ]
  }
 ],
 "metadata": {
  "kernelspec": {
   "display_name": "Python 3",
   "language": "python",
   "name": "python3"
  },
  "language_info": {
   "codemirror_mode": {
    "name": "ipython",
    "version": 3
   },
   "file_extension": ".py",
   "mimetype": "text/x-python",
   "name": "python",
   "nbconvert_exporter": "python",
   "pygments_lexer": "ipython3",
   "version": "3.9.13"
  },
  "orig_nbformat": 4
 },
 "nbformat": 4,
 "nbformat_minor": 2
}
