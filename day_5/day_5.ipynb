{
 "cells": [
  {
   "cell_type": "code",
   "execution_count": 3,
   "metadata": {},
   "outputs": [],
   "source": [
    "import re\n",
    "import ast\n",
    "\n",
    "def read_file_to_string(file_path):\n",
    "    with open(file_path,'r') as f:\n",
    "        return f.read()\n",
    "    \n",
    "day_5_string = read_file_to_string('day_5_input.txt')\n",
    "day_5_test = read_file_to_string('day_5_test.txt')"
   ]
  },
  {
   "cell_type": "code",
   "execution_count": 36,
   "metadata": {},
   "outputs": [],
   "source": [
    "day_5_list = re.split(r'\\n\\n', day_5_string)\n",
    "day_5_test_list = re.split(r'\\n\\n', day_5_test)\n",
    "\n",
    "day_5_list = [re.split(r'\\n',string) for string in  day_5_list]\n",
    "day_5_map = {\n",
    "    day_5_list[i][0]:[] for i in range(1,len(day_5_list))\n",
    "}\n",
    "day_5_list = [[[int(number) for number in re.findall(r'[0-9]+',string)] for string in map_] for map_ in day_5_list]\n",
    "\n",
    "day_5_test_list = [re.split(r'\\n',string) for string in  day_5_test_list]\n",
    "day_5_test_map = {\n",
    "    day_5_test_list[i][0]:[] for i in range(1,len(day_5_test_list))\n",
    "}\n",
    "day_5_test_list = [[[int(number) for number in re.findall(r'[0-9]+',string)] for string in map_] for map_ in day_5_test_list]"
   ]
  },
  {
   "cell_type": "code",
   "execution_count": 37,
   "metadata": {},
   "outputs": [
    {
     "name": "stdout",
     "output_type": "stream",
     "text": [
      "{'seed-to-soil map:': [], 'soil-to-fertilizer map:': [], 'fertilizer-to-water map:': [], 'water-to-light map:': [], 'light-to-temperature map:': [], 'temperature-to-humidity map:': [], 'humidity-to-location map:': []}\n"
     ]
    }
   ],
   "source": [
    "print(day_5_map)\n"
   ]
  },
  {
   "cell_type": "code",
   "execution_count": 38,
   "metadata": {},
   "outputs": [
    {
     "data": {
      "text/plain": [
       "[[[79, 14, 55, 13]],\n",
       " [[], [50, 98, 2], [52, 50, 48]],\n",
       " [[], [0, 15, 37], [37, 52, 2], [39, 0, 15]],\n",
       " [[], [49, 53, 8], [0, 11, 42], [42, 0, 7], [57, 7, 4]],\n",
       " [[], [88, 18, 7], [18, 25, 70]],\n",
       " [[], [45, 77, 23], [81, 45, 19], [68, 64, 13]],\n",
       " [[], [0, 69, 1], [1, 0, 69]],\n",
       " [[], [60, 56, 37], [56, 93, 4]]]"
      ]
     },
     "execution_count": 38,
     "metadata": {},
     "output_type": "execute_result"
    }
   ],
   "source": [
    "day_5_test_list"
   ]
  },
  {
   "cell_type": "code",
   "execution_count": 40,
   "metadata": {},
   "outputs": [],
   "source": [
    "for i, k in enumerate(list(day_5_map.keys())):\n",
    "    day_5_map[k] = day_5_list[i+1][1:]\n",
    "\n",
    "for i, k in enumerate(list(day_5_test_map.keys())):\n",
    "    day_5_test_map[k] = day_5_test_list[i+1][1:]"
   ]
  },
  {
   "cell_type": "code",
   "execution_count": 41,
   "metadata": {},
   "outputs": [
    {
     "data": {
      "text/plain": [
       "{'seed-to-soil map:': [[50, 98, 2], [52, 50, 48]],\n",
       " 'soil-to-fertilizer map:': [[0, 15, 37], [37, 52, 2], [39, 0, 15]],\n",
       " 'fertilizer-to-water map:': [[49, 53, 8],\n",
       "  [0, 11, 42],\n",
       "  [42, 0, 7],\n",
       "  [57, 7, 4]],\n",
       " 'water-to-light map:': [[88, 18, 7], [18, 25, 70]],\n",
       " 'light-to-temperature map:': [[45, 77, 23], [81, 45, 19], [68, 64, 13]],\n",
       " 'temperature-to-humidity map:': [[0, 69, 1], [1, 0, 69]],\n",
       " 'humidity-to-location map:': [[60, 56, 37], [56, 93, 4]]}"
      ]
     },
     "execution_count": 41,
     "metadata": {},
     "output_type": "execute_result"
    }
   ],
   "source": [
    "day_5_test_map"
   ]
  },
  {
   "cell_type": "code",
   "execution_count": null,
   "metadata": {},
   "outputs": [],
   "source": [
    "#destubation (soil) 50, source (seed) 98, "
   ]
  },
  {
   "cell_type": "code",
   "execution_count": 91,
   "metadata": {},
   "outputs": [],
   "source": [
    "def get_location(seed_location, seed_map):\n",
    "    #put in everything but seeds\n",
    "    for k,v in seed_map.items():\n",
    "        for rule in v:\n",
    "            if rule[1] <= seed_location <= rule[1] + rule[2] - 1:\n",
    "                seed_location = seed_location - (rule[1]-rule[0])\n",
    "                #print(k,seed_location)\n",
    "                break\n",
    "                #print(k, rule[1]-rule[0])\n",
    "                \n",
    "\n",
    "    return seed_location"
   ]
  },
  {
   "cell_type": "code",
   "execution_count": 92,
   "metadata": {},
   "outputs": [
    {
     "data": {
      "text/plain": [
       "43"
      ]
     },
     "execution_count": 92,
     "metadata": {},
     "output_type": "execute_result"
    }
   ],
   "source": [
    "get_location(14, day_5_test_map)"
   ]
  },
  {
   "cell_type": "code",
   "execution_count": 68,
   "metadata": {},
   "outputs": [
    {
     "name": "stdout",
     "output_type": "stream",
     "text": [
      "82\n",
      "43\n",
      "86\n",
      "35\n"
     ]
    }
   ],
   "source": [
    "for seed in day_5_test_list[0][0]:\n",
    "    print(get_location(seed, day_5_test_map))"
   ]
  },
  {
   "cell_type": "code",
   "execution_count": 69,
   "metadata": {},
   "outputs": [
    {
     "name": "stdout",
     "output_type": "stream",
     "text": [
      "484023871\n"
     ]
    }
   ],
   "source": [
    "min_loc = 1000000000000000000000\n",
    "for seed in day_5_list[0][0]:\n",
    "    min_loc = min(min_loc, get_location(seed, day_5_map))\n",
    "\n",
    "print(min_loc)"
   ]
  },
  {
   "cell_type": "markdown",
   "metadata": {},
   "source": [
    "## Part 2"
   ]
  },
  {
   "cell_type": "code",
   "execution_count": 75,
   "metadata": {},
   "outputs": [],
   "source": [
    "def seed_list_pairs(seed_list):\n",
    "    #location, range\n",
    "    seed_list_pairs = []\n",
    "    for i in range(len(seed_list)):\n",
    "        if i % 2 == 1:\n",
    "            continue\n",
    "        else:\n",
    "            seed_list_pair = (seed_list[i],seed_list[i+1])\n",
    "            seed_list_pairs.append(seed_list_pair)\n",
    "                                   \n",
    "    return seed_list_pairs"
   ]
  },
  {
   "cell_type": "code",
   "execution_count": 80,
   "metadata": {},
   "outputs": [],
   "source": [
    "new_seeds_test = seed_list_pairs(day_5_test_list[0][0])\n",
    "new_seeds = seed_list_pairs(day_5_list[0][0])"
   ]
  },
  {
   "cell_type": "code",
   "execution_count": 93,
   "metadata": {},
   "outputs": [
    {
     "name": "stdout",
     "output_type": "stream",
     "text": [
      "82\n",
      "82\n",
      "82\n",
      "46\n",
      "46\n",
      "46\n",
      "46\n",
      "46\n",
      "46\n",
      "46\n",
      "46\n",
      "46\n",
      "46\n",
      "46\n",
      "46\n",
      "46\n",
      "46\n",
      "46\n",
      "46\n",
      "46\n",
      "46\n",
      "46\n",
      "46\n",
      "46\n",
      "46\n",
      "46\n",
      "46\n"
     ]
    }
   ],
   "source": [
    "min_loc = 1000000000000000000000\n",
    "for seed_pair in new_seeds_test:\n",
    "    for seed in range(seed_pair[0],seed_pair[0]+seed_pair[1]):\n",
    "        min_loc = min(min_loc, get_location(seed, day_5_test_map))\n",
    "\n",
    "        print(min_loc)"
   ]
  },
  {
   "cell_type": "code",
   "execution_count": 94,
   "metadata": {},
   "outputs": [
    {
     "name": "stdout",
     "output_type": "stream",
     "text": [
      "4028400537\n",
      "1550310550\n",
      "593974860\n",
      "434752599\n",
      "46294175\n"
     ]
    },
    {
     "ename": "KeyboardInterrupt",
     "evalue": "",
     "output_type": "error",
     "traceback": [
      "\u001b[1;31m---------------------------------------------------------------------------\u001b[0m",
      "\u001b[1;31mKeyboardInterrupt\u001b[0m                         Traceback (most recent call last)",
      "Cell \u001b[1;32mIn[94], line 4\u001b[0m\n\u001b[0;32m      2\u001b[0m \u001b[39mfor\u001b[39;00m seed_pair \u001b[39min\u001b[39;00m new_seeds:\n\u001b[0;32m      3\u001b[0m     \u001b[39mfor\u001b[39;00m seed \u001b[39min\u001b[39;00m \u001b[39mrange\u001b[39m(seed_pair[\u001b[39m0\u001b[39m],seed_pair[\u001b[39m0\u001b[39m]\u001b[39m+\u001b[39mseed_pair[\u001b[39m1\u001b[39m]):\n\u001b[1;32m----> 4\u001b[0m         \u001b[39mif\u001b[39;00m get_location(seed, day_5_map) \u001b[39m<\u001b[39m min_loc:\n\u001b[0;32m      5\u001b[0m             min_loc \u001b[39m=\u001b[39m \u001b[39mmin\u001b[39m(min_loc, get_location(seed, day_5_map))\n\u001b[0;32m      6\u001b[0m             \u001b[39mprint\u001b[39m(min_loc)\n",
      "Cell \u001b[1;32mIn[91], line 5\u001b[0m, in \u001b[0;36mget_location\u001b[1;34m(seed_location, seed_map)\u001b[0m\n\u001b[0;32m      3\u001b[0m \u001b[39mfor\u001b[39;00m k,v \u001b[39min\u001b[39;00m seed_map\u001b[39m.\u001b[39mitems():\n\u001b[0;32m      4\u001b[0m     \u001b[39mfor\u001b[39;00m rule \u001b[39min\u001b[39;00m v:\n\u001b[1;32m----> 5\u001b[0m         \u001b[39mif\u001b[39;00m rule[\u001b[39m1\u001b[39m] \u001b[39m<\u001b[39m\u001b[39m=\u001b[39m seed_location \u001b[39m<\u001b[39m\u001b[39m=\u001b[39m rule[\u001b[39m1\u001b[39m] \u001b[39m+\u001b[39m rule[\u001b[39m2\u001b[39m] \u001b[39m-\u001b[39m \u001b[39m1\u001b[39m:\n\u001b[0;32m      6\u001b[0m             seed_location \u001b[39m=\u001b[39m seed_location \u001b[39m-\u001b[39m (rule[\u001b[39m1\u001b[39m]\u001b[39m-\u001b[39mrule[\u001b[39m0\u001b[39m])\n\u001b[0;32m      7\u001b[0m             \u001b[39m#print(k,seed_location)\u001b[39;00m\n",
      "\u001b[1;31mKeyboardInterrupt\u001b[0m: "
     ]
    }
   ],
   "source": [
    "min_loc = 1000000000000000000000\n",
    "for seed_pair in new_seeds:\n",
    "    for seed in range(seed_pair[0],seed_pair[0]+seed_pair[1]):\n",
    "        if get_location(seed, day_5_map) < min_loc:\n",
    "            min_loc = min(min_loc, get_location(seed, day_5_map))\n",
    "            print(min_loc)\n",
    "\n",
    "print(min_loc)"
   ]
  },
  {
   "cell_type": "code",
   "execution_count": null,
   "metadata": {},
   "outputs": [],
   "source": [
    "# theory for how it is meant to be done - I think you need to check which numbers are the boundaries for rule changes, \n",
    "#check them, take the min of that and then optimize from there"
   ]
  }
 ],
 "metadata": {
  "kernelspec": {
   "display_name": "Python 3",
   "language": "python",
   "name": "python3"
  },
  "language_info": {
   "codemirror_mode": {
    "name": "ipython",
    "version": 3
   },
   "file_extension": ".py",
   "mimetype": "text/x-python",
   "name": "python",
   "nbconvert_exporter": "python",
   "pygments_lexer": "ipython3",
   "version": "3.9.13"
  },
  "orig_nbformat": 4
 },
 "nbformat": 4,
 "nbformat_minor": 2
}
