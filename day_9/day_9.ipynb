{
 "cells": [
  {
   "cell_type": "code",
   "execution_count": 33,
   "metadata": {},
   "outputs": [],
   "source": [
    "import re\n",
    "import ast\n",
    "import numpy as np\n",
    "\n",
    "def read_file_to_string(file_path):\n",
    "    with open(file_path,'r') as f:\n",
    "        return f.read()\n",
    "    \n",
    "day_9_string = read_file_to_string('day_9_input.txt')\n",
    "day_9_test = read_file_to_string('day_9_test.txt')\n",
    "# day_9_test_2 = read_file_to_string('day_9_test_2.txt')\n",
    "# day_9_test_3 = read_file_to_string('day_9_test_3.txt')"
   ]
  },
  {
   "cell_type": "code",
   "execution_count": 34,
   "metadata": {},
   "outputs": [],
   "source": [
    "def parse_string(string):\n",
    "    day_9 = re.split('\\n',string)\n",
    "    day_9 = [[int(number) for number in re.findall('[0-9]+|-[0-9]+', string)] for string in day_9]\n",
    "    return day_9"
   ]
  },
  {
   "cell_type": "code",
   "execution_count": 35,
   "metadata": {},
   "outputs": [],
   "source": [
    "day_9_test=parse_string(day_9_test)\n",
    "day_9_input=parse_string(day_9_string)"
   ]
  },
  {
   "cell_type": "code",
   "execution_count": 36,
   "metadata": {},
   "outputs": [
    {
     "data": {
      "text/plain": [
       "array([3, 3, 3, 3, 3])"
      ]
     },
     "execution_count": 36,
     "metadata": {},
     "output_type": "execute_result"
    }
   ],
   "source": [
    "np.diff(np.array([0, 3, 6, 9, 12, 15]))"
   ]
  },
  {
   "cell_type": "code",
   "execution_count": 37,
   "metadata": {},
   "outputs": [],
   "source": [
    "def predict_next_number(seq):\n",
    "    seq_ends = [] \n",
    "    seq = np.array(seq)\n",
    "    #print(seq)\n",
    "\n",
    "    while len(set(seq)) != 1:\n",
    "        seq_ends.append(seq[-1])\n",
    "        seq = np.diff(seq)\n",
    "    \n",
    "    seq_ends.append(seq[-1])\n",
    "    return sum(seq_ends)"
   ]
  },
  {
   "cell_type": "code",
   "execution_count": 38,
   "metadata": {},
   "outputs": [],
   "source": [
    "def part_one(seq_list):\n",
    "    sum_ = 0\n",
    "    for seq in seq_list:\n",
    "        sum_ += predict_next_number(seq)\n",
    "\n",
    "    return sum_"
   ]
  },
  {
   "cell_type": "code",
   "execution_count": 39,
   "metadata": {},
   "outputs": [
    {
     "data": {
      "text/plain": [
       "114"
      ]
     },
     "execution_count": 39,
     "metadata": {},
     "output_type": "execute_result"
    }
   ],
   "source": [
    "part_one(day_9_test)"
   ]
  },
  {
   "cell_type": "code",
   "execution_count": 42,
   "metadata": {},
   "outputs": [
    {
     "data": {
      "text/plain": [
       "1641934234"
      ]
     },
     "execution_count": 42,
     "metadata": {},
     "output_type": "execute_result"
    }
   ],
   "source": [
    "part_one(day_9_input)"
   ]
  },
  {
   "cell_type": "code",
   "execution_count": 40,
   "metadata": {},
   "outputs": [
    {
     "data": {
      "text/plain": [
       "[6,\n",
       " 1,\n",
       " -4,\n",
       " -9,\n",
       " -14,\n",
       " -19,\n",
       " -24,\n",
       " -29,\n",
       " -34,\n",
       " -39,\n",
       " -44,\n",
       " -49,\n",
       " -54,\n",
       " -59,\n",
       " -64,\n",
       " -69,\n",
       " -74,\n",
       " -79,\n",
       " -84,\n",
       " -89,\n",
       " -94]"
      ]
     },
     "execution_count": 40,
     "metadata": {},
     "output_type": "execute_result"
    }
   ],
   "source": [
    "day_9_input[-1]"
   ]
  },
  {
   "cell_type": "code",
   "execution_count": 41,
   "metadata": {},
   "outputs": [
    {
     "data": {
      "text/plain": [
       "-99"
      ]
     },
     "execution_count": 41,
     "metadata": {},
     "output_type": "execute_result"
    }
   ],
   "source": [
    "predict_next_number(day_9_input[-1])"
   ]
  },
  {
   "cell_type": "markdown",
   "metadata": {},
   "source": [
    "## Part 2"
   ]
  },
  {
   "cell_type": "code",
   "execution_count": 140,
   "metadata": {},
   "outputs": [],
   "source": [
    "def predict_first_number(seq):\n",
    "    first_number = seq[0]\n",
    "    seq_starts = []\n",
    "    seq = np.array(seq)\n",
    "\n",
    "    while len(set(seq)) != 1:\n",
    "        seq = np.diff(seq)\n",
    "        seq_starts.append(seq[0])\n",
    "    \n",
    "    #seq_starts.append(seq[-1])\n",
    "   \n",
    "    #print(seq_starts)\n",
    "    while len(seq_starts) != 1:\n",
    "        #print(\"starts diff:\",seq_starts)\n",
    "        seq_starts[-2] = seq_starts[-2] - seq_starts[-1]\n",
    "        seq_starts = seq_starts[:-1] \n",
    "        #seq_starts = -1*np.diff(seq_starts)\n",
    "        \n",
    "    #print(\"starts diff:\",seq_starts)\n",
    "    return first_number - seq_starts[0]"
   ]
  },
  {
   "cell_type": "code",
   "execution_count": 141,
   "metadata": {},
   "outputs": [
    {
     "data": {
      "text/plain": [
       "0"
      ]
     },
     "execution_count": 141,
     "metadata": {},
     "output_type": "execute_result"
    }
   ],
   "source": [
    "predict_first_number(day_9_test[1])"
   ]
  },
  {
   "cell_type": "code",
   "execution_count": 142,
   "metadata": {},
   "outputs": [
    {
     "data": {
      "text/plain": [
       "5"
      ]
     },
     "execution_count": 142,
     "metadata": {},
     "output_type": "execute_result"
    }
   ],
   "source": [
    "predict_first_number(day_9_test[2])"
   ]
  },
  {
   "cell_type": "code",
   "execution_count": 143,
   "metadata": {},
   "outputs": [],
   "source": [
    "def part_two(seq_list):\n",
    "    sum_ = 0\n",
    "    for seq in seq_list:\n",
    "        #print(predict_first_number(seq))\n",
    "        sum_ += predict_first_number(seq)\n",
    "\n",
    "    return sum_"
   ]
  },
  {
   "cell_type": "code",
   "execution_count": 144,
   "metadata": {},
   "outputs": [
    {
     "data": {
      "text/plain": [
       "2"
      ]
     },
     "execution_count": 144,
     "metadata": {},
     "output_type": "execute_result"
    }
   ],
   "source": [
    "part_two(day_9_test)"
   ]
  },
  {
   "cell_type": "code",
   "execution_count": 145,
   "metadata": {},
   "outputs": [
    {
     "data": {
      "text/plain": [
       "975"
      ]
     },
     "execution_count": 145,
     "metadata": {},
     "output_type": "execute_result"
    }
   ],
   "source": [
    "part_two(day_9_input)"
   ]
  }
 ],
 "metadata": {
  "kernelspec": {
   "display_name": "Python 3",
   "language": "python",
   "name": "python3"
  },
  "language_info": {
   "codemirror_mode": {
    "name": "ipython",
    "version": 3
   },
   "file_extension": ".py",
   "mimetype": "text/x-python",
   "name": "python",
   "nbconvert_exporter": "python",
   "pygments_lexer": "ipython3",
   "version": "3.9.13"
  },
  "orig_nbformat": 4
 },
 "nbformat": 4,
 "nbformat_minor": 2
}
