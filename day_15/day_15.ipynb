{
 "cells": [
  {
   "cell_type": "code",
   "execution_count": 1,
   "metadata": {},
   "outputs": [],
   "source": [
    "import re\n",
    "import ast\n",
    "import numpy as np\n",
    "import math\n",
    "from functools import cache\n",
    "from itertools import product\n",
    "\n",
    "def read_file_to_string(file_path):\n",
    "    with open(file_path,'r') as f:\n",
    "        return f.read()\n",
    "    \n",
    "day_15_string = read_file_to_string('day_15_input.txt')\n",
    "day_15_test = read_file_to_string('day_15_test.txt')\n",
    "# day_13_test_2 = read_file_to_string('day_13_test_2.txt')\n",
    "# day_13_test_3 = read_file_to_string('day_13_test_3.txt')\n",
    "# day_13_test_4 = read_file_to_string('day_13_test_4.txt')\n",
    "# day_13_test_5 = read_file_to_string('day_13_test_5.txt')"
   ]
  },
  {
   "cell_type": "code",
   "execution_count": 2,
   "metadata": {},
   "outputs": [],
   "source": [
    "def parse_string(string):\n",
    "    day_15 = re.sub('\\n','',string)\n",
    "    day_15=re.split(',',day_15)\n",
    "\n",
    "    return day_15"
   ]
  },
  {
   "cell_type": "code",
   "execution_count": 11,
   "metadata": {},
   "outputs": [],
   "source": [
    "input_list = parse_string(day_15_string)"
   ]
  },
  {
   "cell_type": "code",
   "execution_count": 8,
   "metadata": {},
   "outputs": [],
   "source": [
    "test_list = parse_string(day_15_test)"
   ]
  },
  {
   "cell_type": "code",
   "execution_count": 4,
   "metadata": {},
   "outputs": [
    {
     "data": {
      "text/plain": [
       "72"
      ]
     },
     "execution_count": 4,
     "metadata": {},
     "output_type": "execute_result"
    }
   ],
   "source": [
    "ord('H')"
   ]
  },
  {
   "cell_type": "code",
   "execution_count": 5,
   "metadata": {},
   "outputs": [
    {
     "data": {
      "text/plain": [
       "200"
      ]
     },
     "execution_count": 5,
     "metadata": {},
     "output_type": "execute_result"
    }
   ],
   "source": [
    "1224 % 256"
   ]
  },
  {
   "cell_type": "code",
   "execution_count": 6,
   "metadata": {},
   "outputs": [],
   "source": [
    "def get_string_value(string):\n",
    "\n",
    "    sum_ = 0\n",
    "    for i in range(len(string)):\n",
    "        sum_ += ord(string[i])\n",
    "        sum_ = sum_ * 17\n",
    "        sum_ = sum_ % 256\n",
    "\n",
    "    return sum_"
   ]
  },
  {
   "cell_type": "code",
   "execution_count": 7,
   "metadata": {},
   "outputs": [
    {
     "data": {
      "text/plain": [
       "52"
      ]
     },
     "execution_count": 7,
     "metadata": {},
     "output_type": "execute_result"
    }
   ],
   "source": [
    "get_string_value('HASH')"
   ]
  },
  {
   "cell_type": "code",
   "execution_count": 9,
   "metadata": {},
   "outputs": [
    {
     "name": "stdout",
     "output_type": "stream",
     "text": [
      "30\n",
      "253\n",
      "97\n",
      "47\n",
      "14\n",
      "180\n",
      "9\n",
      "197\n",
      "48\n",
      "214\n",
      "231\n"
     ]
    }
   ],
   "source": [
    "for string in test_list:\n",
    "    print(get_string_value(string))"
   ]
  },
  {
   "cell_type": "code",
   "execution_count": 10,
   "metadata": {},
   "outputs": [],
   "source": [
    "def part_one(string_list):\n",
    "    sum_ = 0\n",
    "    for string in string_list:\n",
    "        sum_ += get_string_value(string)\n",
    "\n",
    "    return sum_"
   ]
  },
  {
   "cell_type": "code",
   "execution_count": 12,
   "metadata": {},
   "outputs": [
    {
     "data": {
      "text/plain": [
       "507291"
      ]
     },
     "execution_count": 12,
     "metadata": {},
     "output_type": "execute_result"
    }
   ],
   "source": [
    "part_one(input_list)"
   ]
  },
  {
   "cell_type": "markdown",
   "metadata": {},
   "source": [
    "## Part 2"
   ]
  },
  {
   "cell_type": "code",
   "execution_count": 14,
   "metadata": {},
   "outputs": [
    {
     "data": {
      "text/plain": [
       "1"
      ]
     },
     "execution_count": 14,
     "metadata": {},
     "output_type": "execute_result"
    }
   ],
   "source": [
    "get_string_value('qp')"
   ]
  },
  {
   "cell_type": "code",
   "execution_count": 17,
   "metadata": {},
   "outputs": [],
   "source": []
  },
  {
   "cell_type": "code",
   "execution_count": 27,
   "metadata": {},
   "outputs": [],
   "source": [
    "def find_box(string, hashmap):\n",
    "    \n",
    "    if '=' in string:\n",
    "        change = False\n",
    "        list_to_check = hashmap[get_string_value(string[:string.index('=')])]\n",
    "        for item in list_to_check:\n",
    "            if item[0] == string[:string.index('=')]:\n",
    "                change = True\n",
    "                item[1] = string[string.index('=')+1:]\n",
    "                break\n",
    "        \n",
    "        if not change:\n",
    "            hashmap[get_string_value(string[:string.index('=')])].append(re.split('=',string))\n",
    "\n",
    "    elif '-' in string:\n",
    "        list_to_check = hashmap[get_string_value(string[:string.index('-')])]\n",
    "        for item in list_to_check:\n",
    "            if item[0] == string[:string.index('-')]:\n",
    "                list_to_check.remove(item)\n",
    "                break\n",
    "\n",
    "    return hashmap"
   ]
  },
  {
   "cell_type": "code",
   "execution_count": 30,
   "metadata": {},
   "outputs": [],
   "source": [
    "def part_two(string_list):\n",
    "\n",
    "    hashmap = {\n",
    "    [i for i in range(256)][j]:[] for j in range(256)\n",
    "}\n",
    "    \n",
    "    for string in string_list:\n",
    "        hashmap = find_box(string, hashmap)\n",
    "        #print(hashmap[0], hashmap[1],hashmap[3])\n",
    "\n",
    "    sum_ = 0\n",
    "    for k,v in hashmap.items():\n",
    "        for i, box in enumerate(v):\n",
    "            sum_ += (i+1)*(k+1)*int(box[1])\n",
    "\n",
    "    return sum_"
   ]
  },
  {
   "cell_type": "code",
   "execution_count": 31,
   "metadata": {},
   "outputs": [
    {
     "data": {
      "text/plain": [
       "145"
      ]
     },
     "execution_count": 31,
     "metadata": {},
     "output_type": "execute_result"
    }
   ],
   "source": [
    "part_two(test_list)"
   ]
  },
  {
   "cell_type": "code",
   "execution_count": 32,
   "metadata": {},
   "outputs": [
    {
     "data": {
      "text/plain": [
       "296921"
      ]
     },
     "execution_count": 32,
     "metadata": {},
     "output_type": "execute_result"
    }
   ],
   "source": [
    "part_two(input_list)"
   ]
  }
 ],
 "metadata": {
  "kernelspec": {
   "display_name": "Python 3",
   "language": "python",
   "name": "python3"
  },
  "language_info": {
   "codemirror_mode": {
    "name": "ipython",
    "version": 3
   },
   "file_extension": ".py",
   "mimetype": "text/x-python",
   "name": "python",
   "nbconvert_exporter": "python",
   "pygments_lexer": "ipython3",
   "version": "3.9.13"
  },
  "orig_nbformat": 4
 },
 "nbformat": 4,
 "nbformat_minor": 2
}
