{
 "cells": [
  {
   "cell_type": "code",
   "execution_count": 60,
   "metadata": {},
   "outputs": [],
   "source": [
    "import re\n",
    "import ast\n",
    "import numpy as np\n",
    "import math\n",
    "from functools import cache\n",
    "from itertools import product\n",
    "\n",
    "def read_file_to_string(file_path):\n",
    "    with open(file_path,'r') as f:\n",
    "        return f.read()\n",
    "    \n",
    "day_20_string = read_file_to_string('day_20_input.txt')\n",
    "day_20_test = read_file_to_string('day_20_test.txt')\n",
    "day_20_test_2 = read_file_to_string('day_20_test_2.txt')\n",
    "# day_20_test_3 = read_file_to_string('day_20_test_3.txt')\n",
    "# day_20_test_4 = read_file_to_string('day_20_test_4.txt')\n",
    "# day_20_test_5 = read_file_to_string('day_20_test_5.txt')"
   ]
  },
  {
   "cell_type": "code",
   "execution_count": 66,
   "metadata": {},
   "outputs": [],
   "source": [
    "def parse_string(string):\n",
    "    day_20 = string.split('\\n')\n",
    "\n",
    "    string_dict = {}\n",
    "    for string in day_20:\n",
    "        if string[0] in '%&':\n",
    "            slice = string[1:string.index(' ')]\n",
    "            string_dict[slice] = {'symbol':string[0],'symb_on':0,'destination':[string_2.strip() for string_2 in re.split(',',string[string.rindex('>')+1:])]}\n",
    "\n",
    "        else:\n",
    "            slice = string[:string.index(' ')]\n",
    "            string_dict[slice] = {'symbol':'','symb_on':0,'destination':[string_2.strip() for string_2 in re.split(',',string[string.rindex('>')+1:])]}\n",
    "\n",
    "\n",
    "    \n",
    "    return string_dict"
   ]
  },
  {
   "cell_type": "code",
   "execution_count": 36,
   "metadata": {},
   "outputs": [],
   "source": [
    "test_rules = parse_string(day_20_test)"
   ]
  },
  {
   "cell_type": "code",
   "execution_count": 17,
   "metadata": {},
   "outputs": [
    {
     "data": {
      "text/plain": [
       "{'broadcaster': {'symbol': '', 'symb_on': 0, 'destination': ['a', 'b', 'c']},\n",
       " 'a': {'symbol': '%', 'symb_on': 0, 'destination': ['b']},\n",
       " 'b': {'symbol': '%', 'symb_on': 0, 'destination': ['c']},\n",
       " 'c': {'symbol': '%', 'symb_on': 0, 'destination': ['inv']},\n",
       " 'inv': {'symbol': '&', 'symb_on': 0, 'destination': ['a']}}"
      ]
     },
     "execution_count": 17,
     "metadata": {},
     "output_type": "execute_result"
    }
   ],
   "source": [
    "test_rules"
   ]
  },
  {
   "cell_type": "code",
   "execution_count": 77,
   "metadata": {},
   "outputs": [],
   "source": [
    "def process(symb_dict, cycles = 1,start='broadcaster'):\n",
    "\n",
    "    #use a stack, last in first out!\n",
    "\n",
    "    #for &s\n",
    "    remember_pulse_dict = {}\n",
    "\n",
    "    for k,v in symb_dict.items():\n",
    "\n",
    "        if v['symbol'] == '&':\n",
    "            remember_pulse_dict[k] = {}\n",
    "\n",
    "\n",
    "    total_low, total_high = 0,0\n",
    "    #find a way to put things that go to that destination into the dict above\n",
    "    for k,v in symb_dict.items():\n",
    "        for k2 in remember_pulse_dict.keys():\n",
    "            if k2 in v['destination']:\n",
    "                remember_pulse_dict[k2][k] = 0\n",
    "\n",
    "    for i in range(cycles):\n",
    "        queue = [(start, 0, '')]\n",
    "        low_pulses = 1\n",
    "        high_pulses = 0\n",
    "        while len(queue) > 0:\n",
    "\n",
    "            location, pulse, came_from = queue.pop(0)\n",
    "            #print(location,pulse)\n",
    "            \n",
    "            #check for whether our location is in these rules\n",
    "            if location not in symb_dict.keys():\n",
    "                continue\n",
    "\n",
    "            #count what the pulse is\n",
    "            if location == 'broadcaster':\n",
    "                \n",
    "                if pulse == 0:\n",
    "                    #print(\"hello0\")\n",
    "                    low_pulses += len(symb_dict[location]['destination'])\n",
    "                else:\n",
    "                    #print(\"hello1\")\n",
    "                    high_pulses += len(symb_dict[location]['destination'])\n",
    "\n",
    "                new_pulse = pulse\n",
    "\n",
    "\n",
    "            #check if high pulse dies\n",
    "            if symb_dict[location]['symbol'] == '%' and pulse == 1:\n",
    "                continue\n",
    "            \n",
    "            #% when we have low pulse come in\n",
    "            elif symb_dict[location]['symbol'] == '%' and pulse == 0:\n",
    "                symb_dict[location]['symb_on'] = 1-symb_dict[location]['symb_on']\n",
    "                new_pulse = symb_dict[location]['symb_on']\n",
    "                \n",
    "            \n",
    "                if new_pulse == 0:\n",
    "                    #print(\"hello0\")\n",
    "                    low_pulses += len(symb_dict[location]['destination'])\n",
    "                else:\n",
    "                    #print(\"hello1\")\n",
    "                    high_pulses += len(symb_dict[location]['destination'])\n",
    "\n",
    "            #& when we have to bloody remember what happened\n",
    "            elif symb_dict[location]['symbol'] == '&':\n",
    "\n",
    "                remember_pulse_dict[location][came_from] = pulse\n",
    "\n",
    "                if set(list(remember_pulse_dict[location].values())) == {1}:\n",
    "                    new_pulse = 0\n",
    "                else:\n",
    "                    new_pulse = 1\n",
    "\n",
    "            \n",
    "          \n",
    "                if new_pulse == 0:\n",
    "                    #print(\"hello0\")\n",
    "                    low_pulses += len(symb_dict[location]['destination'])\n",
    "                else:\n",
    "                    #print(\"hello1\")\n",
    "                    high_pulses += len(symb_dict[location]['destination'])\n",
    "            #need & logic to remember where things came from\n",
    "\n",
    "\n",
    "\n",
    "        \n",
    "            #append the stack to get the new locations, backwards to preserve first in/first out\n",
    "            for new_loc in symb_dict[location]['destination']:\n",
    "                queue.append((new_loc, new_pulse, location))\n",
    "        \n",
    "        total_high += high_pulses\n",
    "        total_low += low_pulses\n",
    "\n",
    "    return total_low,total_high"
   ]
  },
  {
   "cell_type": "code",
   "execution_count": 78,
   "metadata": {},
   "outputs": [
    {
     "data": {
      "text/plain": [
       "(8, 4)"
      ]
     },
     "execution_count": 78,
     "metadata": {},
     "output_type": "execute_result"
    }
   ],
   "source": [
    "#should be 8,4\n",
    "test_rules = parse_string(day_20_test)\n",
    "process(test_rules, cycles=1,start='broadcaster')"
   ]
  },
  {
   "cell_type": "code",
   "execution_count": 83,
   "metadata": {},
   "outputs": [
    {
     "data": {
      "text/plain": [
       "(4250, 2750)"
      ]
     },
     "execution_count": 83,
     "metadata": {},
     "output_type": "execute_result"
    }
   ],
   "source": [
    "#should be 4,4\n",
    "test_rules_2 = parse_string(day_20_test_2)\n",
    "process(test_rules_2, cycles=1000,start='broadcaster')"
   ]
  },
  {
   "cell_type": "code",
   "execution_count": 84,
   "metadata": {},
   "outputs": [
    {
     "data": {
      "text/plain": [
       "(18361, 44384)"
      ]
     },
     "execution_count": 84,
     "metadata": {},
     "output_type": "execute_result"
    }
   ],
   "source": [
    "input_rules = parse_string(day_20_string)\n",
    "process(input_rules, cycles=1000,start='broadcaster')"
   ]
  },
  {
   "cell_type": "code",
   "execution_count": 85,
   "metadata": {},
   "outputs": [
    {
     "data": {
      "text/plain": [
       "814934624"
      ]
     },
     "execution_count": 85,
     "metadata": {},
     "output_type": "execute_result"
    }
   ],
   "source": [
    "18361*44384"
   ]
  },
  {
   "cell_type": "code",
   "execution_count": 95,
   "metadata": {},
   "outputs": [],
   "source": [
    "def first_low_rx(symb_dict,start='broadcaster'):\n",
    "\n",
    "    #use a stack, last in first out!\n",
    "\n",
    "    #for &s\n",
    "    remember_pulse_dict = {}\n",
    "\n",
    "    for k,v in symb_dict.items():\n",
    "\n",
    "        if v['symbol'] == '&':\n",
    "            remember_pulse_dict[k] = {}\n",
    "\n",
    "\n",
    "    total_low, total_high = 0,0\n",
    "    #find a way to put things that go to that destination into the dict above\n",
    "    for k,v in symb_dict.items():\n",
    "        for k2 in remember_pulse_dict.keys():\n",
    "            if k2 in v['destination']:\n",
    "                remember_pulse_dict[k2][k] = 0\n",
    "\n",
    "    i=1\n",
    "    while True:\n",
    "        #print(i)\n",
    "        queue = [(start, 0, '')]\n",
    "        low_pulses = 1\n",
    "        high_pulses = 0\n",
    "        while len(queue) > 0:\n",
    "\n",
    "            location, pulse, came_from = queue.pop(0)\n",
    "            #print(location,pulse)\n",
    "            \n",
    "            #check for whether our location is in these rules\n",
    "            if location not in symb_dict.keys():\n",
    "                continue\n",
    "\n",
    "            #count what the pulse is\n",
    "            if location == 'broadcaster':\n",
    "                \n",
    "                if pulse == 0:\n",
    "                    #print(\"hello0\")\n",
    "                    low_pulses += len(symb_dict[location]['destination'])\n",
    "                else:\n",
    "                    #print(\"hello1\")\n",
    "                    high_pulses += len(symb_dict[location]['destination'])\n",
    "\n",
    "                new_pulse = pulse\n",
    "\n",
    "\n",
    "            #check if high pulse dies\n",
    "            if symb_dict[location]['symbol'] == '%' and pulse == 1:\n",
    "                continue\n",
    "            \n",
    "            #% when we have low pulse come in\n",
    "            elif symb_dict[location]['symbol'] == '%' and pulse == 0:\n",
    "                symb_dict[location]['symb_on'] = 1-symb_dict[location]['symb_on']\n",
    "                new_pulse = symb_dict[location]['symb_on']\n",
    "                \n",
    "            \n",
    "                if new_pulse == 0:\n",
    "                    #print(\"hello0\")\n",
    "                    low_pulses += len(symb_dict[location]['destination'])\n",
    "                else:\n",
    "                    #print(\"hello1\")\n",
    "                    high_pulses += len(symb_dict[location]['destination'])\n",
    "\n",
    "            #& when we have to bloody remember what happened\n",
    "            elif symb_dict[location]['symbol'] == '&':\n",
    "\n",
    "                remember_pulse_dict[location][came_from] = pulse\n",
    "\n",
    "                if set(list(remember_pulse_dict[location].values())) == {1}:\n",
    "                    if location == 'nr':\n",
    "                        return i\n",
    "                    new_pulse = 0\n",
    "                else:\n",
    "                    if location == 'nr':\n",
    "                        if 1 in set(list(remember_pulse_dict[location].values())):\n",
    "                            print(i,remember_pulse_dict[location])\n",
    "                    new_pulse = 1\n",
    "          \n",
    "                if new_pulse == 0:\n",
    "                    #print(\"hello0\")\n",
    "                    low_pulses += len(symb_dict[location]['destination'])\n",
    "                else:\n",
    "                    #print(\"hello1\")\n",
    "                    high_pulses += len(symb_dict[location]['destination'])\n",
    "            #need & logic to remember where things came from\n",
    "        \n",
    "            #append the stack to get the new locations, backwards to preserve first in/first out\n",
    "            for new_loc in symb_dict[location]['destination']:\n",
    "                queue.append((new_loc, new_pulse, location))\n",
    "        i+=1"
   ]
  },
  {
   "cell_type": "code",
   "execution_count": 101,
   "metadata": {},
   "outputs": [
    {
     "name": "stdout",
     "output_type": "stream",
     "text": [
      "3761 {'lh': 1, 'fk': 0, 'ff': 0, 'mm': 0}\n",
      "3761 {'lh': 1, 'fk': 0, 'ff': 0, 'mm': 0}\n",
      "3761 {'lh': 1, 'fk': 0, 'ff': 0, 'mm': 0}\n",
      "3761 {'lh': 1, 'fk': 0, 'ff': 0, 'mm': 0}\n",
      "3797 {'lh': 0, 'fk': 0, 'ff': 1, 'mm': 0}\n",
      "3797 {'lh': 0, 'fk': 0, 'ff': 1, 'mm': 0}\n",
      "3919 {'lh': 0, 'fk': 0, 'ff': 0, 'mm': 1}\n",
      "3919 {'lh': 0, 'fk': 0, 'ff': 0, 'mm': 1}\n",
      "3919 {'lh': 0, 'fk': 0, 'ff': 0, 'mm': 1}\n",
      "4079 {'lh': 0, 'fk': 1, 'ff': 0, 'mm': 0}\n",
      "4079 {'lh': 0, 'fk': 1, 'ff': 0, 'mm': 0}\n",
      "4079 {'lh': 0, 'fk': 1, 'ff': 0, 'mm': 0}\n",
      "7522 {'lh': 1, 'fk': 0, 'ff': 0, 'mm': 0}\n",
      "7522 {'lh': 1, 'fk': 0, 'ff': 0, 'mm': 0}\n",
      "7522 {'lh': 1, 'fk': 0, 'ff': 0, 'mm': 0}\n",
      "7522 {'lh': 1, 'fk': 0, 'ff': 0, 'mm': 0}\n",
      "7594 {'lh': 0, 'fk': 0, 'ff': 1, 'mm': 0}\n",
      "7594 {'lh': 0, 'fk': 0, 'ff': 1, 'mm': 0}\n",
      "7838 {'lh': 0, 'fk': 0, 'ff': 0, 'mm': 1}\n",
      "7838 {'lh': 0, 'fk': 0, 'ff': 0, 'mm': 1}\n",
      "7838 {'lh': 0, 'fk': 0, 'ff': 0, 'mm': 1}\n",
      "8158 {'lh': 0, 'fk': 1, 'ff': 0, 'mm': 0}\n",
      "8158 {'lh': 0, 'fk': 1, 'ff': 0, 'mm': 0}\n",
      "8158 {'lh': 0, 'fk': 1, 'ff': 0, 'mm': 0}\n",
      "8158 {'lh': 0, 'fk': 1, 'ff': 0, 'mm': 0}\n",
      "11283 {'lh': 1, 'fk': 0, 'ff': 0, 'mm': 0}\n",
      "11283 {'lh': 1, 'fk': 0, 'ff': 0, 'mm': 0}\n",
      "11283 {'lh': 1, 'fk': 0, 'ff': 0, 'mm': 0}\n",
      "11283 {'lh': 1, 'fk': 0, 'ff': 0, 'mm': 0}\n",
      "11391 {'lh': 0, 'fk': 0, 'ff': 1, 'mm': 0}\n",
      "11391 {'lh': 0, 'fk': 0, 'ff': 1, 'mm': 0}\n",
      "11757 {'lh': 0, 'fk': 0, 'ff': 0, 'mm': 1}\n",
      "11757 {'lh': 0, 'fk': 0, 'ff': 0, 'mm': 1}\n",
      "11757 {'lh': 0, 'fk': 0, 'ff': 0, 'mm': 1}\n",
      "12237 {'lh': 0, 'fk': 1, 'ff': 0, 'mm': 0}\n",
      "12237 {'lh': 0, 'fk': 1, 'ff': 0, 'mm': 0}\n",
      "12237 {'lh': 0, 'fk': 1, 'ff': 0, 'mm': 0}\n",
      "15044 {'lh': 1, 'fk': 0, 'ff': 0, 'mm': 0}\n",
      "15044 {'lh': 1, 'fk': 0, 'ff': 0, 'mm': 0}\n",
      "15044 {'lh': 1, 'fk': 0, 'ff': 0, 'mm': 0}\n",
      "15044 {'lh': 1, 'fk': 0, 'ff': 0, 'mm': 0}\n",
      "15188 {'lh': 0, 'fk': 0, 'ff': 1, 'mm': 0}\n",
      "15188 {'lh': 0, 'fk': 0, 'ff': 1, 'mm': 0}\n",
      "15676 {'lh': 0, 'fk': 0, 'ff': 0, 'mm': 1}\n",
      "15676 {'lh': 0, 'fk': 0, 'ff': 0, 'mm': 1}\n",
      "15676 {'lh': 0, 'fk': 0, 'ff': 0, 'mm': 1}\n",
      "16316 {'lh': 0, 'fk': 1, 'ff': 0, 'mm': 0}\n",
      "16316 {'lh': 0, 'fk': 1, 'ff': 0, 'mm': 0}\n",
      "16316 {'lh': 0, 'fk': 1, 'ff': 0, 'mm': 0}\n",
      "16316 {'lh': 0, 'fk': 1, 'ff': 0, 'mm': 0}\n",
      "18805 {'lh': 1, 'fk': 0, 'ff': 0, 'mm': 0}\n",
      "18805 {'lh': 1, 'fk': 0, 'ff': 0, 'mm': 0}\n",
      "18805 {'lh': 1, 'fk': 0, 'ff': 0, 'mm': 0}\n",
      "18805 {'lh': 1, 'fk': 0, 'ff': 0, 'mm': 0}\n",
      "18985 {'lh': 0, 'fk': 0, 'ff': 1, 'mm': 0}\n",
      "18985 {'lh': 0, 'fk': 0, 'ff': 1, 'mm': 0}\n",
      "19595 {'lh': 0, 'fk': 0, 'ff': 0, 'mm': 1}\n",
      "19595 {'lh': 0, 'fk': 0, 'ff': 0, 'mm': 1}\n",
      "19595 {'lh': 0, 'fk': 0, 'ff': 0, 'mm': 1}\n",
      "20395 {'lh': 0, 'fk': 1, 'ff': 0, 'mm': 0}\n",
      "20395 {'lh': 0, 'fk': 1, 'ff': 0, 'mm': 0}\n",
      "20395 {'lh': 0, 'fk': 1, 'ff': 0, 'mm': 0}\n",
      "22566 {'lh': 1, 'fk': 0, 'ff': 0, 'mm': 0}\n",
      "22566 {'lh': 1, 'fk': 0, 'ff': 0, 'mm': 0}\n",
      "22566 {'lh': 1, 'fk': 0, 'ff': 0, 'mm': 0}\n",
      "22566 {'lh': 1, 'fk': 0, 'ff': 0, 'mm': 0}\n",
      "22782 {'lh': 0, 'fk': 0, 'ff': 1, 'mm': 0}\n",
      "22782 {'lh': 0, 'fk': 0, 'ff': 1, 'mm': 0}\n",
      "23514 {'lh': 0, 'fk': 0, 'ff': 0, 'mm': 1}\n",
      "23514 {'lh': 0, 'fk': 0, 'ff': 0, 'mm': 1}\n",
      "23514 {'lh': 0, 'fk': 0, 'ff': 0, 'mm': 1}\n",
      "24474 {'lh': 0, 'fk': 1, 'ff': 0, 'mm': 0}\n",
      "24474 {'lh': 0, 'fk': 1, 'ff': 0, 'mm': 0}\n",
      "24474 {'lh': 0, 'fk': 1, 'ff': 0, 'mm': 0}\n",
      "24474 {'lh': 0, 'fk': 1, 'ff': 0, 'mm': 0}\n",
      "26327 {'lh': 1, 'fk': 0, 'ff': 0, 'mm': 0}\n",
      "26327 {'lh': 1, 'fk': 0, 'ff': 0, 'mm': 0}\n",
      "26327 {'lh': 1, 'fk': 0, 'ff': 0, 'mm': 0}\n",
      "26327 {'lh': 1, 'fk': 0, 'ff': 0, 'mm': 0}\n",
      "26579 {'lh': 0, 'fk': 0, 'ff': 1, 'mm': 0}\n",
      "26579 {'lh': 0, 'fk': 0, 'ff': 1, 'mm': 0}\n",
      "27433 {'lh': 0, 'fk': 0, 'ff': 0, 'mm': 1}\n",
      "27433 {'lh': 0, 'fk': 0, 'ff': 0, 'mm': 1}\n",
      "27433 {'lh': 0, 'fk': 0, 'ff': 0, 'mm': 1}\n",
      "28553 {'lh': 0, 'fk': 1, 'ff': 0, 'mm': 0}\n",
      "28553 {'lh': 0, 'fk': 1, 'ff': 0, 'mm': 0}\n",
      "28553 {'lh': 0, 'fk': 1, 'ff': 0, 'mm': 0}\n",
      "30088 {'lh': 1, 'fk': 0, 'ff': 0, 'mm': 0}\n",
      "30088 {'lh': 1, 'fk': 0, 'ff': 0, 'mm': 0}\n",
      "30088 {'lh': 1, 'fk': 0, 'ff': 0, 'mm': 0}\n",
      "30088 {'lh': 1, 'fk': 0, 'ff': 0, 'mm': 0}\n",
      "30376 {'lh': 0, 'fk': 0, 'ff': 1, 'mm': 0}\n",
      "30376 {'lh': 0, 'fk': 0, 'ff': 1, 'mm': 0}\n",
      "31352 {'lh': 0, 'fk': 0, 'ff': 0, 'mm': 1}\n",
      "31352 {'lh': 0, 'fk': 0, 'ff': 0, 'mm': 1}\n",
      "31352 {'lh': 0, 'fk': 0, 'ff': 0, 'mm': 1}\n",
      "32632 {'lh': 0, 'fk': 1, 'ff': 0, 'mm': 0}\n",
      "32632 {'lh': 0, 'fk': 1, 'ff': 0, 'mm': 0}\n",
      "32632 {'lh': 0, 'fk': 1, 'ff': 0, 'mm': 0}\n",
      "32632 {'lh': 0, 'fk': 1, 'ff': 0, 'mm': 0}\n",
      "33849 {'lh': 1, 'fk': 0, 'ff': 0, 'mm': 0}\n",
      "33849 {'lh': 1, 'fk': 0, 'ff': 0, 'mm': 0}\n",
      "33849 {'lh': 1, 'fk': 0, 'ff': 0, 'mm': 0}\n",
      "33849 {'lh': 1, 'fk': 0, 'ff': 0, 'mm': 0}\n",
      "34173 {'lh': 0, 'fk': 0, 'ff': 1, 'mm': 0}\n",
      "34173 {'lh': 0, 'fk': 0, 'ff': 1, 'mm': 0}\n",
      "35271 {'lh': 0, 'fk': 0, 'ff': 0, 'mm': 1}\n",
      "35271 {'lh': 0, 'fk': 0, 'ff': 0, 'mm': 1}\n",
      "35271 {'lh': 0, 'fk': 0, 'ff': 0, 'mm': 1}\n",
      "36711 {'lh': 0, 'fk': 1, 'ff': 0, 'mm': 0}\n",
      "36711 {'lh': 0, 'fk': 1, 'ff': 0, 'mm': 0}\n",
      "36711 {'lh': 0, 'fk': 1, 'ff': 0, 'mm': 0}\n",
      "37610 {'lh': 1, 'fk': 0, 'ff': 0, 'mm': 0}\n",
      "37610 {'lh': 1, 'fk': 0, 'ff': 0, 'mm': 0}\n",
      "37610 {'lh': 1, 'fk': 0, 'ff': 0, 'mm': 0}\n",
      "37610 {'lh': 1, 'fk': 0, 'ff': 0, 'mm': 0}\n",
      "37970 {'lh': 0, 'fk': 0, 'ff': 1, 'mm': 0}\n",
      "37970 {'lh': 0, 'fk': 0, 'ff': 1, 'mm': 0}\n",
      "39190 {'lh': 0, 'fk': 0, 'ff': 0, 'mm': 1}\n",
      "39190 {'lh': 0, 'fk': 0, 'ff': 0, 'mm': 1}\n",
      "39190 {'lh': 0, 'fk': 0, 'ff': 0, 'mm': 1}\n",
      "40790 {'lh': 0, 'fk': 1, 'ff': 0, 'mm': 0}\n",
      "40790 {'lh': 0, 'fk': 1, 'ff': 0, 'mm': 0}\n",
      "40790 {'lh': 0, 'fk': 1, 'ff': 0, 'mm': 0}\n",
      "40790 {'lh': 0, 'fk': 1, 'ff': 0, 'mm': 0}\n",
      "41371 {'lh': 1, 'fk': 0, 'ff': 0, 'mm': 0}\n",
      "41371 {'lh': 1, 'fk': 0, 'ff': 0, 'mm': 0}\n",
      "41371 {'lh': 1, 'fk': 0, 'ff': 0, 'mm': 0}\n",
      "41371 {'lh': 1, 'fk': 0, 'ff': 0, 'mm': 0}\n",
      "41767 {'lh': 0, 'fk': 0, 'ff': 1, 'mm': 0}\n",
      "41767 {'lh': 0, 'fk': 0, 'ff': 1, 'mm': 0}\n",
      "43109 {'lh': 0, 'fk': 0, 'ff': 0, 'mm': 1}\n",
      "43109 {'lh': 0, 'fk': 0, 'ff': 0, 'mm': 1}\n",
      "43109 {'lh': 0, 'fk': 0, 'ff': 0, 'mm': 1}\n",
      "44869 {'lh': 0, 'fk': 1, 'ff': 0, 'mm': 0}\n",
      "44869 {'lh': 0, 'fk': 1, 'ff': 0, 'mm': 0}\n",
      "44869 {'lh': 0, 'fk': 1, 'ff': 0, 'mm': 0}\n",
      "45132 {'lh': 1, 'fk': 0, 'ff': 0, 'mm': 0}\n",
      "45132 {'lh': 1, 'fk': 0, 'ff': 0, 'mm': 0}\n",
      "45132 {'lh': 1, 'fk': 0, 'ff': 0, 'mm': 0}\n",
      "45132 {'lh': 1, 'fk': 0, 'ff': 0, 'mm': 0}\n",
      "45564 {'lh': 0, 'fk': 0, 'ff': 1, 'mm': 0}\n",
      "45564 {'lh': 0, 'fk': 0, 'ff': 1, 'mm': 0}\n",
      "47028 {'lh': 0, 'fk': 0, 'ff': 0, 'mm': 1}\n",
      "47028 {'lh': 0, 'fk': 0, 'ff': 0, 'mm': 1}\n",
      "47028 {'lh': 0, 'fk': 0, 'ff': 0, 'mm': 1}\n",
      "48893 {'lh': 1, 'fk': 0, 'ff': 0, 'mm': 0}\n",
      "48893 {'lh': 1, 'fk': 0, 'ff': 0, 'mm': 0}\n",
      "48893 {'lh': 1, 'fk': 0, 'ff': 0, 'mm': 0}\n",
      "48893 {'lh': 1, 'fk': 0, 'ff': 0, 'mm': 0}\n",
      "48893 {'lh': 1, 'fk': 0, 'ff': 0, 'mm': 0}\n",
      "48948 {'lh': 0, 'fk': 1, 'ff': 0, 'mm': 0}\n",
      "48948 {'lh': 0, 'fk': 1, 'ff': 0, 'mm': 0}\n",
      "48948 {'lh': 0, 'fk': 1, 'ff': 0, 'mm': 0}\n",
      "48948 {'lh': 0, 'fk': 1, 'ff': 0, 'mm': 0}\n",
      "49361 {'lh': 0, 'fk': 0, 'ff': 1, 'mm': 0}\n",
      "49361 {'lh': 0, 'fk': 0, 'ff': 1, 'mm': 0}\n",
      "50947 {'lh': 0, 'fk': 0, 'ff': 0, 'mm': 1}\n",
      "50947 {'lh': 0, 'fk': 0, 'ff': 0, 'mm': 1}\n",
      "50947 {'lh': 0, 'fk': 0, 'ff': 0, 'mm': 1}\n",
      "52654 {'lh': 1, 'fk': 0, 'ff': 0, 'mm': 0}\n",
      "52654 {'lh': 1, 'fk': 0, 'ff': 0, 'mm': 0}\n",
      "52654 {'lh': 1, 'fk': 0, 'ff': 0, 'mm': 0}\n",
      "52654 {'lh': 1, 'fk': 0, 'ff': 0, 'mm': 0}\n",
      "52654 {'lh': 1, 'fk': 0, 'ff': 0, 'mm': 0}\n",
      "53027 {'lh': 0, 'fk': 1, 'ff': 0, 'mm': 0}\n",
      "53027 {'lh': 0, 'fk': 1, 'ff': 0, 'mm': 0}\n",
      "53027 {'lh': 0, 'fk': 1, 'ff': 0, 'mm': 0}\n",
      "53158 {'lh': 0, 'fk': 0, 'ff': 1, 'mm': 0}\n",
      "53158 {'lh': 0, 'fk': 0, 'ff': 1, 'mm': 0}\n",
      "54866 {'lh': 0, 'fk': 0, 'ff': 0, 'mm': 1}\n",
      "54866 {'lh': 0, 'fk': 0, 'ff': 0, 'mm': 1}\n",
      "54866 {'lh': 0, 'fk': 0, 'ff': 0, 'mm': 1}\n",
      "56415 {'lh': 1, 'fk': 0, 'ff': 0, 'mm': 0}\n",
      "56415 {'lh': 1, 'fk': 0, 'ff': 0, 'mm': 0}\n",
      "56415 {'lh': 1, 'fk': 0, 'ff': 0, 'mm': 0}\n",
      "56415 {'lh': 1, 'fk': 0, 'ff': 0, 'mm': 0}\n",
      "56415 {'lh': 1, 'fk': 0, 'ff': 0, 'mm': 0}\n",
      "56955 {'lh': 0, 'fk': 0, 'ff': 1, 'mm': 0}\n",
      "56955 {'lh': 0, 'fk': 0, 'ff': 1, 'mm': 0}\n",
      "56955 {'lh': 0, 'fk': 0, 'ff': 1, 'mm': 0}\n",
      "57106 {'lh': 0, 'fk': 1, 'ff': 0, 'mm': 0}\n",
      "57106 {'lh': 0, 'fk': 1, 'ff': 0, 'mm': 0}\n",
      "57106 {'lh': 0, 'fk': 1, 'ff': 0, 'mm': 0}\n",
      "58785 {'lh': 0, 'fk': 0, 'ff': 0, 'mm': 1}\n",
      "58785 {'lh': 0, 'fk': 0, 'ff': 0, 'mm': 1}\n",
      "58785 {'lh': 0, 'fk': 0, 'ff': 0, 'mm': 1}\n",
      "60176 {'lh': 1, 'fk': 0, 'ff': 0, 'mm': 0}\n",
      "60176 {'lh': 1, 'fk': 0, 'ff': 0, 'mm': 0}\n",
      "60176 {'lh': 1, 'fk': 0, 'ff': 0, 'mm': 0}\n",
      "60176 {'lh': 1, 'fk': 0, 'ff': 0, 'mm': 0}\n",
      "60176 {'lh': 1, 'fk': 0, 'ff': 0, 'mm': 0}\n",
      "60752 {'lh': 0, 'fk': 0, 'ff': 1, 'mm': 0}\n",
      "60752 {'lh': 0, 'fk': 0, 'ff': 1, 'mm': 0}\n",
      "60752 {'lh': 0, 'fk': 0, 'ff': 1, 'mm': 0}\n",
      "61185 {'lh': 0, 'fk': 1, 'ff': 0, 'mm': 0}\n",
      "61185 {'lh': 0, 'fk': 1, 'ff': 0, 'mm': 0}\n",
      "61185 {'lh': 0, 'fk': 1, 'ff': 0, 'mm': 0}\n",
      "62704 {'lh': 0, 'fk': 0, 'ff': 0, 'mm': 1}\n",
      "62704 {'lh': 0, 'fk': 0, 'ff': 0, 'mm': 1}\n",
      "62704 {'lh': 0, 'fk': 0, 'ff': 0, 'mm': 1}\n",
      "63937 {'lh': 1, 'fk': 0, 'ff': 0, 'mm': 0}\n",
      "63937 {'lh': 1, 'fk': 0, 'ff': 0, 'mm': 0}\n",
      "63937 {'lh': 1, 'fk': 0, 'ff': 0, 'mm': 0}\n",
      "63937 {'lh': 1, 'fk': 0, 'ff': 0, 'mm': 0}\n",
      "63937 {'lh': 1, 'fk': 0, 'ff': 0, 'mm': 0}\n",
      "64549 {'lh': 0, 'fk': 0, 'ff': 1, 'mm': 0}\n",
      "64549 {'lh': 0, 'fk': 0, 'ff': 1, 'mm': 0}\n",
      "64549 {'lh': 0, 'fk': 0, 'ff': 1, 'mm': 0}\n",
      "65264 {'lh': 0, 'fk': 1, 'ff': 0, 'mm': 0}\n",
      "65264 {'lh': 0, 'fk': 1, 'ff': 0, 'mm': 0}\n",
      "65264 {'lh': 0, 'fk': 1, 'ff': 0, 'mm': 0}\n",
      "66623 {'lh': 0, 'fk': 0, 'ff': 0, 'mm': 1}\n",
      "66623 {'lh': 0, 'fk': 0, 'ff': 0, 'mm': 1}\n",
      "66623 {'lh': 0, 'fk': 0, 'ff': 0, 'mm': 1}\n",
      "67698 {'lh': 1, 'fk': 0, 'ff': 0, 'mm': 0}\n",
      "67698 {'lh': 1, 'fk': 0, 'ff': 0, 'mm': 0}\n",
      "67698 {'lh': 1, 'fk': 0, 'ff': 0, 'mm': 0}\n",
      "67698 {'lh': 1, 'fk': 0, 'ff': 0, 'mm': 0}\n",
      "67698 {'lh': 1, 'fk': 0, 'ff': 0, 'mm': 0}\n",
      "68346 {'lh': 0, 'fk': 0, 'ff': 1, 'mm': 0}\n",
      "68346 {'lh': 0, 'fk': 0, 'ff': 1, 'mm': 0}\n",
      "68346 {'lh': 0, 'fk': 0, 'ff': 1, 'mm': 0}\n",
      "69343 {'lh': 0, 'fk': 1, 'ff': 0, 'mm': 0}\n",
      "69343 {'lh': 0, 'fk': 1, 'ff': 0, 'mm': 0}\n",
      "69343 {'lh': 0, 'fk': 1, 'ff': 0, 'mm': 0}\n"
     ]
    },
    {
     "ename": "KeyboardInterrupt",
     "evalue": "",
     "output_type": "error",
     "traceback": [
      "\u001b[1;31m---------------------------------------------------------------------------\u001b[0m",
      "\u001b[1;31mKeyboardInterrupt\u001b[0m                         Traceback (most recent call last)",
      "Cell \u001b[1;32mIn[101], line 2\u001b[0m\n\u001b[0;32m      1\u001b[0m input_rules \u001b[39m=\u001b[39m parse_string(day_20_string)\n\u001b[1;32m----> 2\u001b[0m first_low_rx(input_rules)\n",
      "Cell \u001b[1;32mIn[95], line 56\u001b[0m, in \u001b[0;36mfirst_low_rx\u001b[1;34m(symb_dict, start)\u001b[0m\n\u001b[0;32m     54\u001b[0m \u001b[39melif\u001b[39;00m symb_dict[location][\u001b[39m'\u001b[39m\u001b[39msymbol\u001b[39m\u001b[39m'\u001b[39m] \u001b[39m==\u001b[39m \u001b[39m'\u001b[39m\u001b[39m%\u001b[39m\u001b[39m'\u001b[39m \u001b[39mand\u001b[39;00m pulse \u001b[39m==\u001b[39m \u001b[39m0\u001b[39m:\n\u001b[0;32m     55\u001b[0m     symb_dict[location][\u001b[39m'\u001b[39m\u001b[39msymb_on\u001b[39m\u001b[39m'\u001b[39m] \u001b[39m=\u001b[39m \u001b[39m1\u001b[39m\u001b[39m-\u001b[39msymb_dict[location][\u001b[39m'\u001b[39m\u001b[39msymb_on\u001b[39m\u001b[39m'\u001b[39m]\n\u001b[1;32m---> 56\u001b[0m     new_pulse \u001b[39m=\u001b[39m symb_dict[location][\u001b[39m'\u001b[39m\u001b[39msymb_on\u001b[39m\u001b[39m'\u001b[39m]\n\u001b[0;32m     59\u001b[0m     \u001b[39mif\u001b[39;00m new_pulse \u001b[39m==\u001b[39m \u001b[39m0\u001b[39m:\n\u001b[0;32m     60\u001b[0m         \u001b[39m#print(\"hello0\")\u001b[39;00m\n\u001b[0;32m     61\u001b[0m         low_pulses \u001b[39m+\u001b[39m\u001b[39m=\u001b[39m \u001b[39mlen\u001b[39m(symb_dict[location][\u001b[39m'\u001b[39m\u001b[39mdestination\u001b[39m\u001b[39m'\u001b[39m])\n",
      "\u001b[1;31mKeyboardInterrupt\u001b[0m: "
     ]
    }
   ],
   "source": [
    "input_rules = parse_string(day_20_string)\n",
    "first_low_rx(input_rules)"
   ]
  },
  {
   "cell_type": "code",
   "execution_count": 102,
   "metadata": {},
   "outputs": [
    {
     "data": {
      "text/plain": [
       "228282646835717"
      ]
     },
     "execution_count": 102,
     "metadata": {},
     "output_type": "execute_result"
    }
   ],
   "source": [
    "math.lcm(3761,4079,3797,3919)"
   ]
  },
  {
   "cell_type": "code",
   "execution_count": 100,
   "metadata": {},
   "outputs": [
    {
     "name": "stdout",
     "output_type": "stream",
     "text": [
      "3761\n"
     ]
    },
    {
     "data": {
      "text/plain": [
       "3761"
      ]
     },
     "execution_count": 100,
     "metadata": {},
     "output_type": "execute_result"
    }
   ],
   "source": [
    "print(10631-6870)\n",
    "6870-3109"
   ]
  },
  {
   "cell_type": "code",
   "execution_count": 97,
   "metadata": {},
   "outputs": [
    {
     "data": {
      "text/plain": [
       "87305194161900"
      ]
     },
     "execution_count": 97,
     "metadata": {},
     "output_type": "execute_result"
    }
   ],
   "source": []
  },
  {
   "cell_type": "code",
   "execution_count": null,
   "metadata": {},
   "outputs": [],
   "source": []
  }
 ],
 "metadata": {
  "kernelspec": {
   "display_name": "Python 3",
   "language": "python",
   "name": "python3"
  },
  "language_info": {
   "codemirror_mode": {
    "name": "ipython",
    "version": 3
   },
   "file_extension": ".py",
   "mimetype": "text/x-python",
   "name": "python",
   "nbconvert_exporter": "python",
   "pygments_lexer": "ipython3",
   "version": "3.9.13"
  },
  "orig_nbformat": 4
 },
 "nbformat": 4,
 "nbformat_minor": 2
}
